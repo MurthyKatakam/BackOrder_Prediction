{
  "nbformat": 4,
  "nbformat_minor": 0,
  "metadata": {
    "colab": {
      "name": "FE_and_Modeling_Backorder_prediction git.ipynb",
      "provenance": [],
      "collapsed_sections": [],
      "machine_shape": "hm"
    },
    "kernelspec": {
      "display_name": "Python 3",
      "language": "python",
      "name": "python3"
    },
    "language_info": {
      "codemirror_mode": {
        "name": "ipython",
        "version": 3
      },
      "file_extension": ".py",
      "mimetype": "text/x-python",
      "name": "python",
      "nbconvert_exporter": "python",
      "pygments_lexer": "ipython3",
      "version": "3.7.9"
    },
    "toc": {
      "base_numbering": 1,
      "nav_menu": {},
      "number_sections": true,
      "sideBar": true,
      "skip_h1_title": false,
      "title_cell": "Table of Contents",
      "title_sidebar": "Contents",
      "toc_cell": false,
      "toc_position": {},
      "toc_section_display": true,
      "toc_window_display": false
    }
  },
  "cells": [
    {
      "cell_type": "code",
      "metadata": {
        "id": "ruRsv-IWJnby"
      },
      "source": [
        "\n",
        "import pandas as pd\n",
        "import numpy as np\n",
        "from numpy import mean\n",
        "from numpy import std\n",
        "import seaborn as sns\n",
        "import warnings\n",
        "warnings.filterwarnings('ignore')\n",
        "import matplotlib.pyplot as plt\n",
        "from matplotlib.pyplot import figure\n",
        "from sklearn.preprocessing import StandardScaler\n",
        "from sklearn.metrics import confusion_matrix\n",
        "import matplotlib.pyplot as plt\n",
        "\n",
        "from sklearn.model_selection import train_test_split\n",
        "\n",
        "from sklearn.experimental import enable_iterative_imputer\n",
        "from sklearn.impute import IterativeImputer\n",
        "\n",
        "from sklearn.linear_model import LogisticRegression\n",
        "from sklearn.model_selection import GridSearchCV\n",
        "\n",
        "import pickle\n",
        "from sklearn.metrics import roc_auc_score\n",
        "from sklearn.metrics import f1_score\n",
        "from imblearn.combine import SMOTETomek\n",
        "from imblearn.ensemble import BalancedBaggingClassifier\n",
        "\n",
        "\n",
        "from sklearn.metrics import roc_curve\n",
        "from matplotlib import pyplot\n",
        "from sklearn.metrics import precision_recall_curve\n",
        "from sklearn.metrics import f1_score\n",
        "from sklearn.metrics import auc\n",
        "from sklearn.ensemble import RandomForestClassifier\n",
        "from xgboost import XGBClassifier\n",
        "\n",
        "from sklearn.ensemble import AdaBoostClassifier\n",
        "\n",
        "# SVM\n",
        "# from sklearn.svm import SVC\n",
        "from sklearn.tree import DecisionTreeClassifier\n",
        "\n",
        "\n",
        "\n",
        "\n",
        "\n",
        "from hyperopt import hp, tpe, STATUS_OK, Trials\n",
        "from hyperopt.fmin import fmin\n",
        "import lightgbm as lgbm\n",
        "from sklearn.model_selection import cross_val_score\n",
        "from sklearn.naive_bayes import GaussianNB\n",
        "# import catboost\n",
        "from tqdm import tqdm"
      ],
      "execution_count": 1,
      "outputs": []
    },
    {
      "cell_type": "code",
      "metadata": {
        "colab": {
          "base_uri": "https://localhost:8080/"
        },
        "id": "SXoBwJz1M0po",
        "outputId": "ea40c55d-ff2c-48c8-ef22-8f38b4b38e5c"
      },
      "source": [
        "from google.colab import drive\n",
        "drive.mount('/content/drive')"
      ],
      "execution_count": 2,
      "outputs": [
        {
          "output_type": "stream",
          "name": "stdout",
          "text": [
            "Mounted at /content/drive\n"
          ]
        }
      ]
    },
    {
      "cell_type": "markdown",
      "metadata": {
        "id": "uvvDDCNoJnbz"
      },
      "source": [
        "## Importing Data"
      ]
    },
    {
      "cell_type": "code",
      "metadata": {
        "id": "GMlLIoZnJnbz"
      },
      "source": [
        "data = pd.read_csv('/content/drive/MyDrive/BackorderPrediction/dataset/Kaggle_Training_Dataset_v2.csv') "
      ],
      "execution_count": 3,
      "outputs": []
    },
    {
      "cell_type": "code",
      "metadata": {
        "id": "I5_orlZkNADS"
      },
      "source": [
        "# data = pd.read_csv('dataset/Kaggle_Training_Dataset_v2.csv') \n"
      ],
      "execution_count": null,
      "outputs": []
    },
    {
      "cell_type": "code",
      "metadata": {
        "colab": {
          "base_uri": "https://localhost:8080/"
        },
        "id": "acT2Ak3cJnb0",
        "outputId": "4415a557-9b48-4e7e-aaac-19e32213b5b1"
      },
      "source": [
        "print('Number of data points :', data.shape[0])\n",
        "print('Number of varaiables :', data.shape[1])\n",
        "print('Variabales', data.columns.values)"
      ],
      "execution_count": 4,
      "outputs": [
        {
          "output_type": "stream",
          "name": "stdout",
          "text": [
            "Number of data points : 1687861\n",
            "Number of varaiables : 23\n",
            "Variabales ['sku' 'national_inv' 'lead_time' 'in_transit_qty' 'forecast_3_month'\n",
            " 'forecast_6_month' 'forecast_9_month' 'sales_1_month' 'sales_3_month'\n",
            " 'sales_6_month' 'sales_9_month' 'min_bank' 'potential_issue'\n",
            " 'pieces_past_due' 'perf_6_month_avg' 'perf_12_month_avg' 'local_bo_qty'\n",
            " 'deck_risk' 'oe_constraint' 'ppap_risk' 'stop_auto_buy' 'rev_stop'\n",
            " 'went_on_backorder']\n"
          ]
        }
      ]
    },
    {
      "cell_type": "code",
      "metadata": {
        "colab": {
          "base_uri": "https://localhost:8080/"
        },
        "id": "HxwZBSOlJnb6",
        "outputId": "5ed1b3a0-1115-41e8-ea57-a24d42602b98"
      },
      "source": [
        "data.forecast_9_month.mean()"
      ],
      "execution_count": null,
      "outputs": [
        {
          "data": {
            "text/plain": [
              "506.3644306992286"
            ]
          },
          "execution_count": 5,
          "metadata": {
            "tags": []
          },
          "output_type": "execute_result"
        }
      ]
    },
    {
      "cell_type": "code",
      "metadata": {
        "id": "iidddytdJncW"
      },
      "source": [
        ""
      ],
      "execution_count": null,
      "outputs": []
    },
    {
      "cell_type": "code",
      "metadata": {
        "id": "4jz1NmzEJncW"
      },
      "source": [
        ""
      ],
      "execution_count": null,
      "outputs": []
    },
    {
      "cell_type": "markdown",
      "metadata": {
        "id": "Ckd7rHLdJncW"
      },
      "source": [
        "## Data Preprocessing "
      ]
    },
    {
      "cell_type": "markdown",
      "metadata": {
        "id": "XC37xnrMJncW"
      },
      "source": [
        "### Replacing -99 values in perf_  and perf column as nan"
      ]
    },
    {
      "cell_type": "code",
      "metadata": {
        "id": "smGSUvlKJncW"
      },
      "source": [
        "data.perf_12_month_avg.replace({-99.0 : np.nan}, inplace = True)\n",
        "data.perf_6_month_avg.replace({-99.0 : np.nan}, inplace = True)"
      ],
      "execution_count": 5,
      "outputs": []
    },
    {
      "cell_type": "code",
      "metadata": {
        "id": "HDJhfD91JncX"
      },
      "source": [
        "data.drop(data.tail(1).index,inplace=True) \n",
        "data.drop(['sku'], axis = 1,inplace=True)"
      ],
      "execution_count": 6,
      "outputs": []
    },
    {
      "cell_type": "code",
      "metadata": {
        "id": "RMyRbJViJncX"
      },
      "source": [
        "    "
      ],
      "execution_count": null,
      "outputs": []
    },
    {
      "cell_type": "markdown",
      "metadata": {
        "id": "cBsaMieGJncX"
      },
      "source": [
        "### converting categorical features as labels(YES to 1 and NO to 0)"
      ]
    },
    {
      "cell_type": "code",
      "metadata": {
        "id": "cI2Bqi_IJncY"
      },
      "source": [
        "cat_features = data.select_dtypes(include = ['object']).columns\n",
        "for col in cat_features:\n",
        "    data[col].replace({'No': 0, 'Yes': 1}, inplace=True)\n",
        "    data[col] = data[col].astype(int)"
      ],
      "execution_count": 7,
      "outputs": []
    },
    {
      "cell_type": "code",
      "metadata": {
        "id": "JZykh-FNJncY"
      },
      "source": [
        ""
      ],
      "execution_count": null,
      "outputs": []
    },
    {
      "cell_type": "code",
      "metadata": {
        "id": "-xB2GUZYJncY"
      },
      "source": [
        ""
      ],
      "execution_count": null,
      "outputs": []
    },
    {
      "cell_type": "markdown",
      "metadata": {
        "id": "2wWll_OeJncY"
      },
      "source": [
        "## Feature Engeenering"
      ]
    },
    {
      "cell_type": "markdown",
      "metadata": {
        "id": "C88bJ2GwJncZ"
      },
      "source": [
        "### Train test split"
      ]
    },
    {
      "cell_type": "code",
      "metadata": {
        "id": "wHr7vneqJncZ"
      },
      "source": [
        "from sklearn.model_selection import train_test_split"
      ],
      "execution_count": 8,
      "outputs": []
    },
    {
      "cell_type": "code",
      "metadata": {
        "id": "BFiPcE14JncZ"
      },
      "source": [
        "\n",
        "X= data.drop(['went_on_backorder'], axis=1)\n",
        "y = data.went_on_backorder\n",
        "X_train, X_test, y_train, y_test = train_test_split(X, y , random_state = 33 ,test_size=0.20, stratify=y)\n",
        "X_train, X_cv, y_train, y_cv = train_test_split(X_train, y_train,random_state = 33,test_size=0.10,stratify=y_train)\n"
      ],
      "execution_count": 9,
      "outputs": []
    },
    {
      "cell_type": "code",
      "metadata": {
        "colab": {
          "base_uri": "https://localhost:8080/",
          "height": 439
        },
        "id": "mzC-FzRVJncZ",
        "outputId": "c0d03894-5dbd-416a-a657-79bbca8f0849"
      },
      "source": [
        "X_train"
      ],
      "execution_count": null,
      "outputs": [
        {
          "data": {
            "text/html": [
              "<div>\n",
              "<style scoped>\n",
              "    .dataframe tbody tr th:only-of-type {\n",
              "        vertical-align: middle;\n",
              "    }\n",
              "\n",
              "    .dataframe tbody tr th {\n",
              "        vertical-align: top;\n",
              "    }\n",
              "\n",
              "    .dataframe thead th {\n",
              "        text-align: right;\n",
              "    }\n",
              "</style>\n",
              "<table border=\"1\" class=\"dataframe\">\n",
              "  <thead>\n",
              "    <tr style=\"text-align: right;\">\n",
              "      <th></th>\n",
              "      <th>national_inv</th>\n",
              "      <th>lead_time</th>\n",
              "      <th>in_transit_qty</th>\n",
              "      <th>forecast_3_month</th>\n",
              "      <th>forecast_6_month</th>\n",
              "      <th>forecast_9_month</th>\n",
              "      <th>sales_1_month</th>\n",
              "      <th>sales_3_month</th>\n",
              "      <th>sales_6_month</th>\n",
              "      <th>sales_9_month</th>\n",
              "      <th>min_bank</th>\n",
              "      <th>potential_issue</th>\n",
              "      <th>pieces_past_due</th>\n",
              "      <th>perf_6_month_avg</th>\n",
              "      <th>perf_12_month_avg</th>\n",
              "      <th>local_bo_qty</th>\n",
              "      <th>deck_risk</th>\n",
              "      <th>oe_constraint</th>\n",
              "      <th>ppap_risk</th>\n",
              "      <th>stop_auto_buy</th>\n",
              "      <th>rev_stop</th>\n",
              "    </tr>\n",
              "  </thead>\n",
              "  <tbody>\n",
              "    <tr>\n",
              "      <th>1437004</th>\n",
              "      <td>8.0</td>\n",
              "      <td>8.0</td>\n",
              "      <td>0.0</td>\n",
              "      <td>0.0</td>\n",
              "      <td>0.0</td>\n",
              "      <td>0.0</td>\n",
              "      <td>0.0</td>\n",
              "      <td>0.0</td>\n",
              "      <td>0.0</td>\n",
              "      <td>0.0</td>\n",
              "      <td>0.0</td>\n",
              "      <td>0</td>\n",
              "      <td>0.0</td>\n",
              "      <td>0.99</td>\n",
              "      <td>0.96</td>\n",
              "      <td>0.0</td>\n",
              "      <td>0</td>\n",
              "      <td>0</td>\n",
              "      <td>0</td>\n",
              "      <td>1</td>\n",
              "      <td>0</td>\n",
              "    </tr>\n",
              "    <tr>\n",
              "      <th>582719</th>\n",
              "      <td>7325.0</td>\n",
              "      <td>NaN</td>\n",
              "      <td>0.0</td>\n",
              "      <td>0.0</td>\n",
              "      <td>0.0</td>\n",
              "      <td>0.0</td>\n",
              "      <td>0.0</td>\n",
              "      <td>0.0</td>\n",
              "      <td>11.0</td>\n",
              "      <td>92.0</td>\n",
              "      <td>53.0</td>\n",
              "      <td>0</td>\n",
              "      <td>0.0</td>\n",
              "      <td>NaN</td>\n",
              "      <td>NaN</td>\n",
              "      <td>0.0</td>\n",
              "      <td>0</td>\n",
              "      <td>0</td>\n",
              "      <td>0</td>\n",
              "      <td>1</td>\n",
              "      <td>0</td>\n",
              "    </tr>\n",
              "    <tr>\n",
              "      <th>250698</th>\n",
              "      <td>190.0</td>\n",
              "      <td>12.0</td>\n",
              "      <td>0.0</td>\n",
              "      <td>0.0</td>\n",
              "      <td>0.0</td>\n",
              "      <td>0.0</td>\n",
              "      <td>0.0</td>\n",
              "      <td>0.0</td>\n",
              "      <td>0.0</td>\n",
              "      <td>0.0</td>\n",
              "      <td>0.0</td>\n",
              "      <td>0</td>\n",
              "      <td>0.0</td>\n",
              "      <td>NaN</td>\n",
              "      <td>0.33</td>\n",
              "      <td>0.0</td>\n",
              "      <td>0</td>\n",
              "      <td>0</td>\n",
              "      <td>1</td>\n",
              "      <td>0</td>\n",
              "      <td>0</td>\n",
              "    </tr>\n",
              "    <tr>\n",
              "      <th>1599337</th>\n",
              "      <td>15.0</td>\n",
              "      <td>8.0</td>\n",
              "      <td>18.0</td>\n",
              "      <td>0.0</td>\n",
              "      <td>15.0</td>\n",
              "      <td>35.0</td>\n",
              "      <td>6.0</td>\n",
              "      <td>15.0</td>\n",
              "      <td>39.0</td>\n",
              "      <td>59.0</td>\n",
              "      <td>0.0</td>\n",
              "      <td>0</td>\n",
              "      <td>0.0</td>\n",
              "      <td>0.76</td>\n",
              "      <td>0.84</td>\n",
              "      <td>0.0</td>\n",
              "      <td>0</td>\n",
              "      <td>0</td>\n",
              "      <td>0</td>\n",
              "      <td>1</td>\n",
              "      <td>0</td>\n",
              "    </tr>\n",
              "    <tr>\n",
              "      <th>451811</th>\n",
              "      <td>10.0</td>\n",
              "      <td>12.0</td>\n",
              "      <td>0.0</td>\n",
              "      <td>2.0</td>\n",
              "      <td>10.0</td>\n",
              "      <td>14.0</td>\n",
              "      <td>4.0</td>\n",
              "      <td>5.0</td>\n",
              "      <td>8.0</td>\n",
              "      <td>16.0</td>\n",
              "      <td>3.0</td>\n",
              "      <td>0</td>\n",
              "      <td>0.0</td>\n",
              "      <td>0.93</td>\n",
              "      <td>0.95</td>\n",
              "      <td>0.0</td>\n",
              "      <td>0</td>\n",
              "      <td>0</td>\n",
              "      <td>0</td>\n",
              "      <td>1</td>\n",
              "      <td>0</td>\n",
              "    </tr>\n",
              "    <tr>\n",
              "      <th>...</th>\n",
              "      <td>...</td>\n",
              "      <td>...</td>\n",
              "      <td>...</td>\n",
              "      <td>...</td>\n",
              "      <td>...</td>\n",
              "      <td>...</td>\n",
              "      <td>...</td>\n",
              "      <td>...</td>\n",
              "      <td>...</td>\n",
              "      <td>...</td>\n",
              "      <td>...</td>\n",
              "      <td>...</td>\n",
              "      <td>...</td>\n",
              "      <td>...</td>\n",
              "      <td>...</td>\n",
              "      <td>...</td>\n",
              "      <td>...</td>\n",
              "      <td>...</td>\n",
              "      <td>...</td>\n",
              "      <td>...</td>\n",
              "      <td>...</td>\n",
              "    </tr>\n",
              "    <tr>\n",
              "      <th>1190510</th>\n",
              "      <td>230.0</td>\n",
              "      <td>8.0</td>\n",
              "      <td>0.0</td>\n",
              "      <td>0.0</td>\n",
              "      <td>0.0</td>\n",
              "      <td>0.0</td>\n",
              "      <td>0.0</td>\n",
              "      <td>0.0</td>\n",
              "      <td>0.0</td>\n",
              "      <td>0.0</td>\n",
              "      <td>0.0</td>\n",
              "      <td>0</td>\n",
              "      <td>0.0</td>\n",
              "      <td>0.98</td>\n",
              "      <td>0.97</td>\n",
              "      <td>0.0</td>\n",
              "      <td>0</td>\n",
              "      <td>0</td>\n",
              "      <td>0</td>\n",
              "      <td>1</td>\n",
              "      <td>0</td>\n",
              "    </tr>\n",
              "    <tr>\n",
              "      <th>486572</th>\n",
              "      <td>15.0</td>\n",
              "      <td>8.0</td>\n",
              "      <td>0.0</td>\n",
              "      <td>0.0</td>\n",
              "      <td>0.0</td>\n",
              "      <td>0.0</td>\n",
              "      <td>3.0</td>\n",
              "      <td>5.0</td>\n",
              "      <td>14.0</td>\n",
              "      <td>20.0</td>\n",
              "      <td>1.0</td>\n",
              "      <td>0</td>\n",
              "      <td>0.0</td>\n",
              "      <td>0.99</td>\n",
              "      <td>0.97</td>\n",
              "      <td>0.0</td>\n",
              "      <td>0</td>\n",
              "      <td>0</td>\n",
              "      <td>1</td>\n",
              "      <td>1</td>\n",
              "      <td>0</td>\n",
              "    </tr>\n",
              "    <tr>\n",
              "      <th>622924</th>\n",
              "      <td>190.0</td>\n",
              "      <td>2.0</td>\n",
              "      <td>0.0</td>\n",
              "      <td>0.0</td>\n",
              "      <td>0.0</td>\n",
              "      <td>0.0</td>\n",
              "      <td>10.0</td>\n",
              "      <td>34.0</td>\n",
              "      <td>47.0</td>\n",
              "      <td>84.0</td>\n",
              "      <td>0.0</td>\n",
              "      <td>0</td>\n",
              "      <td>0.0</td>\n",
              "      <td>NaN</td>\n",
              "      <td>NaN</td>\n",
              "      <td>0.0</td>\n",
              "      <td>0</td>\n",
              "      <td>0</td>\n",
              "      <td>0</td>\n",
              "      <td>1</td>\n",
              "      <td>0</td>\n",
              "    </tr>\n",
              "    <tr>\n",
              "      <th>330428</th>\n",
              "      <td>34.0</td>\n",
              "      <td>NaN</td>\n",
              "      <td>0.0</td>\n",
              "      <td>0.0</td>\n",
              "      <td>0.0</td>\n",
              "      <td>0.0</td>\n",
              "      <td>2.0</td>\n",
              "      <td>13.0</td>\n",
              "      <td>33.0</td>\n",
              "      <td>49.0</td>\n",
              "      <td>8.0</td>\n",
              "      <td>0</td>\n",
              "      <td>0.0</td>\n",
              "      <td>NaN</td>\n",
              "      <td>NaN</td>\n",
              "      <td>0.0</td>\n",
              "      <td>0</td>\n",
              "      <td>0</td>\n",
              "      <td>0</td>\n",
              "      <td>0</td>\n",
              "      <td>0</td>\n",
              "    </tr>\n",
              "    <tr>\n",
              "      <th>1206258</th>\n",
              "      <td>29.0</td>\n",
              "      <td>2.0</td>\n",
              "      <td>0.0</td>\n",
              "      <td>0.0</td>\n",
              "      <td>0.0</td>\n",
              "      <td>0.0</td>\n",
              "      <td>0.0</td>\n",
              "      <td>4.0</td>\n",
              "      <td>16.0</td>\n",
              "      <td>17.0</td>\n",
              "      <td>1.0</td>\n",
              "      <td>0</td>\n",
              "      <td>0.0</td>\n",
              "      <td>0.97</td>\n",
              "      <td>0.98</td>\n",
              "      <td>0.0</td>\n",
              "      <td>0</td>\n",
              "      <td>0</td>\n",
              "      <td>0</td>\n",
              "      <td>1</td>\n",
              "      <td>0</td>\n",
              "    </tr>\n",
              "  </tbody>\n",
              "</table>\n",
              "<p>1215259 rows × 21 columns</p>\n",
              "</div>"
            ],
            "text/plain": [
              "         national_inv  lead_time  ...  stop_auto_buy  rev_stop\n",
              "1437004           8.0        8.0  ...              1         0\n",
              "582719         7325.0        NaN  ...              1         0\n",
              "250698          190.0       12.0  ...              0         0\n",
              "1599337          15.0        8.0  ...              1         0\n",
              "451811           10.0       12.0  ...              1         0\n",
              "...               ...        ...  ...            ...       ...\n",
              "1190510         230.0        8.0  ...              1         0\n",
              "486572           15.0        8.0  ...              1         0\n",
              "622924          190.0        2.0  ...              1         0\n",
              "330428           34.0        NaN  ...              0         0\n",
              "1206258          29.0        2.0  ...              1         0\n",
              "\n",
              "[1215259 rows x 21 columns]"
            ]
          },
          "execution_count": 14,
          "metadata": {
            "tags": []
          },
          "output_type": "execute_result"
        }
      ]
    },
    {
      "cell_type": "markdown",
      "metadata": {
        "id": "vIFoTbxvJnca"
      },
      "source": [
        "### Missing values imputation"
      ]
    },
    {
      "cell_type": "code",
      "metadata": {
        "id": "eXxSDoHXJnca"
      },
      "source": [
        "from sklearn.experimental import enable_iterative_imputer\n",
        "from sklearn.impute import IterativeImputer"
      ],
      "execution_count": 10,
      "outputs": []
    },
    {
      "cell_type": "code",
      "metadata": {
        "colab": {
          "base_uri": "https://localhost:8080/"
        },
        "id": "4S6tzl0SJnca",
        "outputId": "86a28230-4667-4a7a-cf62-a1069e4b0f94"
      },
      "source": [
        "%%time\n",
        "df = X_train\n",
        "imp = IterativeImputer(max_iter=10, verbose=0)\n",
        "imp = imp.fit(X_train)\n",
        "imputed_X_train = imp.transform(X_train)\n",
        "imputed_X_test = imp.transform(X_test)\n",
        "imputed_X_cv = imp.transform(X_cv)\n",
        "\n",
        "\n",
        "X_train = pd.DataFrame(imputed_X_train, columns=df.columns)\n",
        "X_test = pd.DataFrame(imputed_X_test, columns=df.columns)\n",
        "X_cv = pd.DataFrame(imputed_X_cv, columns=df.columns)\n",
        "\n",
        "\n"
      ],
      "execution_count": 11,
      "outputs": [
        {
          "output_type": "stream",
          "name": "stdout",
          "text": [
            "CPU times: user 1min 4s, sys: 33.5 s, total: 1min 37s\n",
            "Wall time: 34.1 s\n"
          ]
        }
      ]
    },
    {
      "cell_type": "code",
      "metadata": {
        "id": "bO7kmFQM26f0"
      },
      "source": [
        "filename = '/content/drive/MyDrive/BackorderPrediction/Imputer_New.pkl'\n",
        "pickle.dump(imp, open(filename, 'wb'))"
      ],
      "execution_count": 12,
      "outputs": []
    },
    {
      "cell_type": "code",
      "metadata": {
        "id": "ahMwUq6k5kCc"
      },
      "source": [
        "import joblib"
      ],
      "execution_count": null,
      "outputs": []
    },
    {
      "cell_type": "code",
      "metadata": {
        "id": "DP8nyXBA4mxu"
      },
      "source": [
        "# filename = 'finalized_model.sav'\n",
        "filename = '/content/drive/MyDrive/BackorderPrediction/Imputer_joblib.pkl'\n",
        "\n",
        "joblib.dump(imp, filename)"
      ],
      "execution_count": null,
      "outputs": []
    },
    {
      "cell_type": "code",
      "metadata": {
        "id": "-DXxdul2Jnca"
      },
      "source": [
        "# imputer = IterativeImputer(max_iter=10, random_state=0)\n",
        "# imputer.fit(X_train)\n",
        "# X_train = imputer.transform(X_train)\n",
        "# X_test = imputer.transform(X_test)\n"
      ],
      "execution_count": null,
      "outputs": []
    },
    {
      "cell_type": "code",
      "metadata": {
        "colab": {
          "base_uri": "https://localhost:8080/",
          "height": 473
        },
        "id": "yt13joeBJnca",
        "outputId": "a0257613-085c-48c8-be42-3b8e23e279b1"
      },
      "source": [
        "%%time\n",
        "X_train"
      ],
      "execution_count": null,
      "outputs": [
        {
          "name": "stdout",
          "output_type": "stream",
          "text": [
            "Wall time: 0 ns\n"
          ]
        },
        {
          "data": {
            "text/html": [
              "<div>\n",
              "<style scoped>\n",
              "    .dataframe tbody tr th:only-of-type {\n",
              "        vertical-align: middle;\n",
              "    }\n",
              "\n",
              "    .dataframe tbody tr th {\n",
              "        vertical-align: top;\n",
              "    }\n",
              "\n",
              "    .dataframe thead th {\n",
              "        text-align: right;\n",
              "    }\n",
              "</style>\n",
              "<table border=\"1\" class=\"dataframe\">\n",
              "  <thead>\n",
              "    <tr style=\"text-align: right;\">\n",
              "      <th></th>\n",
              "      <th>national_inv</th>\n",
              "      <th>lead_time</th>\n",
              "      <th>in_transit_qty</th>\n",
              "      <th>forecast_3_month</th>\n",
              "      <th>forecast_6_month</th>\n",
              "      <th>forecast_9_month</th>\n",
              "      <th>sales_1_month</th>\n",
              "      <th>sales_3_month</th>\n",
              "      <th>sales_6_month</th>\n",
              "      <th>sales_9_month</th>\n",
              "      <th>...</th>\n",
              "      <th>potential_issue</th>\n",
              "      <th>pieces_past_due</th>\n",
              "      <th>perf_6_month_avg</th>\n",
              "      <th>perf_12_month_avg</th>\n",
              "      <th>local_bo_qty</th>\n",
              "      <th>deck_risk</th>\n",
              "      <th>oe_constraint</th>\n",
              "      <th>ppap_risk</th>\n",
              "      <th>stop_auto_buy</th>\n",
              "      <th>rev_stop</th>\n",
              "    </tr>\n",
              "  </thead>\n",
              "  <tbody>\n",
              "    <tr>\n",
              "      <th>0</th>\n",
              "      <td>8.0</td>\n",
              "      <td>8.000000</td>\n",
              "      <td>0.0</td>\n",
              "      <td>0.0</td>\n",
              "      <td>0.0</td>\n",
              "      <td>0.0</td>\n",
              "      <td>0.0</td>\n",
              "      <td>0.0</td>\n",
              "      <td>0.0</td>\n",
              "      <td>0.0</td>\n",
              "      <td>...</td>\n",
              "      <td>0.0</td>\n",
              "      <td>0.0</td>\n",
              "      <td>0.990000</td>\n",
              "      <td>0.960000</td>\n",
              "      <td>0.0</td>\n",
              "      <td>0.0</td>\n",
              "      <td>0.0</td>\n",
              "      <td>0.0</td>\n",
              "      <td>1.0</td>\n",
              "      <td>0.0</td>\n",
              "    </tr>\n",
              "    <tr>\n",
              "      <th>1</th>\n",
              "      <td>7325.0</td>\n",
              "      <td>7.177643</td>\n",
              "      <td>0.0</td>\n",
              "      <td>0.0</td>\n",
              "      <td>0.0</td>\n",
              "      <td>0.0</td>\n",
              "      <td>0.0</td>\n",
              "      <td>0.0</td>\n",
              "      <td>11.0</td>\n",
              "      <td>92.0</td>\n",
              "      <td>...</td>\n",
              "      <td>0.0</td>\n",
              "      <td>0.0</td>\n",
              "      <td>0.783932</td>\n",
              "      <td>0.781573</td>\n",
              "      <td>0.0</td>\n",
              "      <td>0.0</td>\n",
              "      <td>0.0</td>\n",
              "      <td>0.0</td>\n",
              "      <td>1.0</td>\n",
              "      <td>0.0</td>\n",
              "    </tr>\n",
              "    <tr>\n",
              "      <th>2</th>\n",
              "      <td>190.0</td>\n",
              "      <td>12.000000</td>\n",
              "      <td>0.0</td>\n",
              "      <td>0.0</td>\n",
              "      <td>0.0</td>\n",
              "      <td>0.0</td>\n",
              "      <td>0.0</td>\n",
              "      <td>0.0</td>\n",
              "      <td>0.0</td>\n",
              "      <td>0.0</td>\n",
              "      <td>...</td>\n",
              "      <td>0.0</td>\n",
              "      <td>0.0</td>\n",
              "      <td>0.340934</td>\n",
              "      <td>0.330000</td>\n",
              "      <td>0.0</td>\n",
              "      <td>0.0</td>\n",
              "      <td>0.0</td>\n",
              "      <td>1.0</td>\n",
              "      <td>0.0</td>\n",
              "      <td>0.0</td>\n",
              "    </tr>\n",
              "    <tr>\n",
              "      <th>3</th>\n",
              "      <td>15.0</td>\n",
              "      <td>8.000000</td>\n",
              "      <td>18.0</td>\n",
              "      <td>0.0</td>\n",
              "      <td>15.0</td>\n",
              "      <td>35.0</td>\n",
              "      <td>6.0</td>\n",
              "      <td>15.0</td>\n",
              "      <td>39.0</td>\n",
              "      <td>59.0</td>\n",
              "      <td>...</td>\n",
              "      <td>0.0</td>\n",
              "      <td>0.0</td>\n",
              "      <td>0.760000</td>\n",
              "      <td>0.840000</td>\n",
              "      <td>0.0</td>\n",
              "      <td>0.0</td>\n",
              "      <td>0.0</td>\n",
              "      <td>0.0</td>\n",
              "      <td>1.0</td>\n",
              "      <td>0.0</td>\n",
              "    </tr>\n",
              "    <tr>\n",
              "      <th>4</th>\n",
              "      <td>10.0</td>\n",
              "      <td>12.000000</td>\n",
              "      <td>0.0</td>\n",
              "      <td>2.0</td>\n",
              "      <td>10.0</td>\n",
              "      <td>14.0</td>\n",
              "      <td>4.0</td>\n",
              "      <td>5.0</td>\n",
              "      <td>8.0</td>\n",
              "      <td>16.0</td>\n",
              "      <td>...</td>\n",
              "      <td>0.0</td>\n",
              "      <td>0.0</td>\n",
              "      <td>0.930000</td>\n",
              "      <td>0.950000</td>\n",
              "      <td>0.0</td>\n",
              "      <td>0.0</td>\n",
              "      <td>0.0</td>\n",
              "      <td>0.0</td>\n",
              "      <td>1.0</td>\n",
              "      <td>0.0</td>\n",
              "    </tr>\n",
              "    <tr>\n",
              "      <th>...</th>\n",
              "      <td>...</td>\n",
              "      <td>...</td>\n",
              "      <td>...</td>\n",
              "      <td>...</td>\n",
              "      <td>...</td>\n",
              "      <td>...</td>\n",
              "      <td>...</td>\n",
              "      <td>...</td>\n",
              "      <td>...</td>\n",
              "      <td>...</td>\n",
              "      <td>...</td>\n",
              "      <td>...</td>\n",
              "      <td>...</td>\n",
              "      <td>...</td>\n",
              "      <td>...</td>\n",
              "      <td>...</td>\n",
              "      <td>...</td>\n",
              "      <td>...</td>\n",
              "      <td>...</td>\n",
              "      <td>...</td>\n",
              "      <td>...</td>\n",
              "    </tr>\n",
              "    <tr>\n",
              "      <th>1215254</th>\n",
              "      <td>230.0</td>\n",
              "      <td>8.000000</td>\n",
              "      <td>0.0</td>\n",
              "      <td>0.0</td>\n",
              "      <td>0.0</td>\n",
              "      <td>0.0</td>\n",
              "      <td>0.0</td>\n",
              "      <td>0.0</td>\n",
              "      <td>0.0</td>\n",
              "      <td>0.0</td>\n",
              "      <td>...</td>\n",
              "      <td>0.0</td>\n",
              "      <td>0.0</td>\n",
              "      <td>0.980000</td>\n",
              "      <td>0.970000</td>\n",
              "      <td>0.0</td>\n",
              "      <td>0.0</td>\n",
              "      <td>0.0</td>\n",
              "      <td>0.0</td>\n",
              "      <td>1.0</td>\n",
              "      <td>0.0</td>\n",
              "    </tr>\n",
              "    <tr>\n",
              "      <th>1215255</th>\n",
              "      <td>15.0</td>\n",
              "      <td>8.000000</td>\n",
              "      <td>0.0</td>\n",
              "      <td>0.0</td>\n",
              "      <td>0.0</td>\n",
              "      <td>0.0</td>\n",
              "      <td>3.0</td>\n",
              "      <td>5.0</td>\n",
              "      <td>14.0</td>\n",
              "      <td>20.0</td>\n",
              "      <td>...</td>\n",
              "      <td>0.0</td>\n",
              "      <td>0.0</td>\n",
              "      <td>0.990000</td>\n",
              "      <td>0.970000</td>\n",
              "      <td>0.0</td>\n",
              "      <td>0.0</td>\n",
              "      <td>0.0</td>\n",
              "      <td>1.0</td>\n",
              "      <td>1.0</td>\n",
              "      <td>0.0</td>\n",
              "    </tr>\n",
              "    <tr>\n",
              "      <th>1215256</th>\n",
              "      <td>190.0</td>\n",
              "      <td>2.000000</td>\n",
              "      <td>0.0</td>\n",
              "      <td>0.0</td>\n",
              "      <td>0.0</td>\n",
              "      <td>0.0</td>\n",
              "      <td>10.0</td>\n",
              "      <td>34.0</td>\n",
              "      <td>47.0</td>\n",
              "      <td>84.0</td>\n",
              "      <td>...</td>\n",
              "      <td>0.0</td>\n",
              "      <td>0.0</td>\n",
              "      <td>0.783131</td>\n",
              "      <td>0.779781</td>\n",
              "      <td>0.0</td>\n",
              "      <td>0.0</td>\n",
              "      <td>0.0</td>\n",
              "      <td>0.0</td>\n",
              "      <td>1.0</td>\n",
              "      <td>0.0</td>\n",
              "    </tr>\n",
              "    <tr>\n",
              "      <th>1215257</th>\n",
              "      <td>34.0</td>\n",
              "      <td>20.362122</td>\n",
              "      <td>0.0</td>\n",
              "      <td>0.0</td>\n",
              "      <td>0.0</td>\n",
              "      <td>0.0</td>\n",
              "      <td>2.0</td>\n",
              "      <td>13.0</td>\n",
              "      <td>33.0</td>\n",
              "      <td>49.0</td>\n",
              "      <td>...</td>\n",
              "      <td>0.0</td>\n",
              "      <td>0.0</td>\n",
              "      <td>0.752492</td>\n",
              "      <td>0.756802</td>\n",
              "      <td>0.0</td>\n",
              "      <td>0.0</td>\n",
              "      <td>0.0</td>\n",
              "      <td>0.0</td>\n",
              "      <td>0.0</td>\n",
              "      <td>0.0</td>\n",
              "    </tr>\n",
              "    <tr>\n",
              "      <th>1215258</th>\n",
              "      <td>29.0</td>\n",
              "      <td>2.000000</td>\n",
              "      <td>0.0</td>\n",
              "      <td>0.0</td>\n",
              "      <td>0.0</td>\n",
              "      <td>0.0</td>\n",
              "      <td>0.0</td>\n",
              "      <td>4.0</td>\n",
              "      <td>16.0</td>\n",
              "      <td>17.0</td>\n",
              "      <td>...</td>\n",
              "      <td>0.0</td>\n",
              "      <td>0.0</td>\n",
              "      <td>0.970000</td>\n",
              "      <td>0.980000</td>\n",
              "      <td>0.0</td>\n",
              "      <td>0.0</td>\n",
              "      <td>0.0</td>\n",
              "      <td>0.0</td>\n",
              "      <td>1.0</td>\n",
              "      <td>0.0</td>\n",
              "    </tr>\n",
              "  </tbody>\n",
              "</table>\n",
              "<p>1215259 rows × 21 columns</p>\n",
              "</div>"
            ],
            "text/plain": [
              "         national_inv  lead_time  in_transit_qty  forecast_3_month  \\\n",
              "0                 8.0   8.000000             0.0               0.0   \n",
              "1              7325.0   7.177643             0.0               0.0   \n",
              "2               190.0  12.000000             0.0               0.0   \n",
              "3                15.0   8.000000            18.0               0.0   \n",
              "4                10.0  12.000000             0.0               2.0   \n",
              "...               ...        ...             ...               ...   \n",
              "1215254         230.0   8.000000             0.0               0.0   \n",
              "1215255          15.0   8.000000             0.0               0.0   \n",
              "1215256         190.0   2.000000             0.0               0.0   \n",
              "1215257          34.0  20.362122             0.0               0.0   \n",
              "1215258          29.0   2.000000             0.0               0.0   \n",
              "\n",
              "         forecast_6_month  forecast_9_month  sales_1_month  sales_3_month  \\\n",
              "0                     0.0               0.0            0.0            0.0   \n",
              "1                     0.0               0.0            0.0            0.0   \n",
              "2                     0.0               0.0            0.0            0.0   \n",
              "3                    15.0              35.0            6.0           15.0   \n",
              "4                    10.0              14.0            4.0            5.0   \n",
              "...                   ...               ...            ...            ...   \n",
              "1215254               0.0               0.0            0.0            0.0   \n",
              "1215255               0.0               0.0            3.0            5.0   \n",
              "1215256               0.0               0.0           10.0           34.0   \n",
              "1215257               0.0               0.0            2.0           13.0   \n",
              "1215258               0.0               0.0            0.0            4.0   \n",
              "\n",
              "         sales_6_month  sales_9_month  ...  potential_issue  pieces_past_due  \\\n",
              "0                  0.0            0.0  ...              0.0              0.0   \n",
              "1                 11.0           92.0  ...              0.0              0.0   \n",
              "2                  0.0            0.0  ...              0.0              0.0   \n",
              "3                 39.0           59.0  ...              0.0              0.0   \n",
              "4                  8.0           16.0  ...              0.0              0.0   \n",
              "...                ...            ...  ...              ...              ...   \n",
              "1215254            0.0            0.0  ...              0.0              0.0   \n",
              "1215255           14.0           20.0  ...              0.0              0.0   \n",
              "1215256           47.0           84.0  ...              0.0              0.0   \n",
              "1215257           33.0           49.0  ...              0.0              0.0   \n",
              "1215258           16.0           17.0  ...              0.0              0.0   \n",
              "\n",
              "         perf_6_month_avg  perf_12_month_avg  local_bo_qty  deck_risk  \\\n",
              "0                0.990000           0.960000           0.0        0.0   \n",
              "1                0.783932           0.781573           0.0        0.0   \n",
              "2                0.340934           0.330000           0.0        0.0   \n",
              "3                0.760000           0.840000           0.0        0.0   \n",
              "4                0.930000           0.950000           0.0        0.0   \n",
              "...                   ...                ...           ...        ...   \n",
              "1215254          0.980000           0.970000           0.0        0.0   \n",
              "1215255          0.990000           0.970000           0.0        0.0   \n",
              "1215256          0.783131           0.779781           0.0        0.0   \n",
              "1215257          0.752492           0.756802           0.0        0.0   \n",
              "1215258          0.970000           0.980000           0.0        0.0   \n",
              "\n",
              "         oe_constraint  ppap_risk  stop_auto_buy  rev_stop  \n",
              "0                  0.0        0.0            1.0       0.0  \n",
              "1                  0.0        0.0            1.0       0.0  \n",
              "2                  0.0        1.0            0.0       0.0  \n",
              "3                  0.0        0.0            1.0       0.0  \n",
              "4                  0.0        0.0            1.0       0.0  \n",
              "...                ...        ...            ...       ...  \n",
              "1215254            0.0        0.0            1.0       0.0  \n",
              "1215255            0.0        1.0            1.0       0.0  \n",
              "1215256            0.0        0.0            1.0       0.0  \n",
              "1215257            0.0        0.0            0.0       0.0  \n",
              "1215258            0.0        0.0            1.0       0.0  \n",
              "\n",
              "[1215259 rows x 21 columns]"
            ]
          },
          "execution_count": 12,
          "metadata": {
            "tags": []
          },
          "output_type": "execute_result"
        }
      ]
    },
    {
      "cell_type": "code",
      "metadata": {
        "colab": {
          "base_uri": "https://localhost:8080/",
          "height": 317
        },
        "id": "NSXSSb6AJncb",
        "outputId": "b0bd8d30-531f-4656-e81a-a7899c39b48f"
      },
      "source": [
        "X_train.describe()"
      ],
      "execution_count": null,
      "outputs": [
        {
          "data": {
            "text/html": [
              "<div>\n",
              "<style scoped>\n",
              "    .dataframe tbody tr th:only-of-type {\n",
              "        vertical-align: middle;\n",
              "    }\n",
              "\n",
              "    .dataframe tbody tr th {\n",
              "        vertical-align: top;\n",
              "    }\n",
              "\n",
              "    .dataframe thead th {\n",
              "        text-align: right;\n",
              "    }\n",
              "</style>\n",
              "<table border=\"1\" class=\"dataframe\">\n",
              "  <thead>\n",
              "    <tr style=\"text-align: right;\">\n",
              "      <th></th>\n",
              "      <th>national_inv</th>\n",
              "      <th>lead_time</th>\n",
              "      <th>in_transit_qty</th>\n",
              "      <th>forecast_3_month</th>\n",
              "      <th>forecast_6_month</th>\n",
              "      <th>forecast_9_month</th>\n",
              "      <th>sales_1_month</th>\n",
              "      <th>sales_3_month</th>\n",
              "      <th>sales_6_month</th>\n",
              "      <th>sales_9_month</th>\n",
              "      <th>min_bank</th>\n",
              "      <th>potential_issue</th>\n",
              "      <th>pieces_past_due</th>\n",
              "      <th>perf_6_month_avg</th>\n",
              "      <th>perf_12_month_avg</th>\n",
              "      <th>local_bo_qty</th>\n",
              "      <th>deck_risk</th>\n",
              "      <th>oe_constraint</th>\n",
              "      <th>ppap_risk</th>\n",
              "      <th>stop_auto_buy</th>\n",
              "      <th>rev_stop</th>\n",
              "    </tr>\n",
              "  </thead>\n",
              "  <tbody>\n",
              "    <tr>\n",
              "      <th>count</th>\n",
              "      <td>1.215259e+06</td>\n",
              "      <td>1.215259e+06</td>\n",
              "      <td>1.215259e+06</td>\n",
              "      <td>1.215259e+06</td>\n",
              "      <td>1.215259e+06</td>\n",
              "      <td>1.215259e+06</td>\n",
              "      <td>1.215259e+06</td>\n",
              "      <td>1.215259e+06</td>\n",
              "      <td>1.215259e+06</td>\n",
              "      <td>1.215259e+06</td>\n",
              "      <td>1.215259e+06</td>\n",
              "      <td>1.215259e+06</td>\n",
              "      <td>1.215259e+06</td>\n",
              "      <td>1.215259e+06</td>\n",
              "      <td>1.215259e+06</td>\n",
              "      <td>1.215259e+06</td>\n",
              "      <td>1.215259e+06</td>\n",
              "      <td>1.215259e+06</td>\n",
              "      <td>1.215259e+06</td>\n",
              "      <td>1.215259e+06</td>\n",
              "      <td>1.215259e+06</td>\n",
              "    </tr>\n",
              "    <tr>\n",
              "      <th>mean</th>\n",
              "      <td>4.923974e+02</td>\n",
              "      <td>8.071842e+00</td>\n",
              "      <td>4.514353e+01</td>\n",
              "      <td>1.801604e+02</td>\n",
              "      <td>3.489645e+02</td>\n",
              "      <td>5.121952e+02</td>\n",
              "      <td>5.690991e+01</td>\n",
              "      <td>1.782269e+02</td>\n",
              "      <td>3.469212e+02</td>\n",
              "      <td>5.348089e+02</td>\n",
              "      <td>5.340802e+01</td>\n",
              "      <td>5.258138e-04</td>\n",
              "      <td>2.122755e+00</td>\n",
              "      <td>7.800174e-01</td>\n",
              "      <td>7.763251e-01</td>\n",
              "      <td>6.221777e-01</td>\n",
              "      <td>2.295165e-01</td>\n",
              "      <td>1.505852e-04</td>\n",
              "      <td>1.209923e-01</td>\n",
              "      <td>9.637559e-01</td>\n",
              "      <td>4.427040e-04</td>\n",
              "    </tr>\n",
              "    <tr>\n",
              "      <th>std</th>\n",
              "      <td>2.939521e+04</td>\n",
              "      <td>7.009007e+00</td>\n",
              "      <td>1.381523e+03</td>\n",
              "      <td>5.018274e+03</td>\n",
              "      <td>9.857124e+03</td>\n",
              "      <td>1.452271e+04</td>\n",
              "      <td>1.970215e+03</td>\n",
              "      <td>5.368683e+03</td>\n",
              "      <td>9.877155e+03</td>\n",
              "      <td>1.528198e+04</td>\n",
              "      <td>1.287343e+03</td>\n",
              "      <td>2.292461e-02</td>\n",
              "      <td>2.581694e+02</td>\n",
              "      <td>2.303372e-01</td>\n",
              "      <td>2.218362e-01</td>\n",
              "      <td>3.388277e+01</td>\n",
              "      <td>4.205221e-01</td>\n",
              "      <td>1.227040e-02</td>\n",
              "      <td>3.261185e-01</td>\n",
              "      <td>1.868971e-01</td>\n",
              "      <td>2.103588e-02</td>\n",
              "    </tr>\n",
              "    <tr>\n",
              "      <th>min</th>\n",
              "      <td>-2.725600e+04</td>\n",
              "      <td>-3.535940e+01</td>\n",
              "      <td>0.000000e+00</td>\n",
              "      <td>0.000000e+00</td>\n",
              "      <td>0.000000e+00</td>\n",
              "      <td>0.000000e+00</td>\n",
              "      <td>0.000000e+00</td>\n",
              "      <td>0.000000e+00</td>\n",
              "      <td>0.000000e+00</td>\n",
              "      <td>0.000000e+00</td>\n",
              "      <td>0.000000e+00</td>\n",
              "      <td>0.000000e+00</td>\n",
              "      <td>0.000000e+00</td>\n",
              "      <td>0.000000e+00</td>\n",
              "      <td>0.000000e+00</td>\n",
              "      <td>0.000000e+00</td>\n",
              "      <td>0.000000e+00</td>\n",
              "      <td>0.000000e+00</td>\n",
              "      <td>0.000000e+00</td>\n",
              "      <td>0.000000e+00</td>\n",
              "      <td>0.000000e+00</td>\n",
              "    </tr>\n",
              "    <tr>\n",
              "      <th>25%</th>\n",
              "      <td>4.000000e+00</td>\n",
              "      <td>4.000000e+00</td>\n",
              "      <td>0.000000e+00</td>\n",
              "      <td>0.000000e+00</td>\n",
              "      <td>0.000000e+00</td>\n",
              "      <td>0.000000e+00</td>\n",
              "      <td>0.000000e+00</td>\n",
              "      <td>0.000000e+00</td>\n",
              "      <td>0.000000e+00</td>\n",
              "      <td>0.000000e+00</td>\n",
              "      <td>0.000000e+00</td>\n",
              "      <td>0.000000e+00</td>\n",
              "      <td>0.000000e+00</td>\n",
              "      <td>7.300000e-01</td>\n",
              "      <td>7.200000e-01</td>\n",
              "      <td>0.000000e+00</td>\n",
              "      <td>0.000000e+00</td>\n",
              "      <td>0.000000e+00</td>\n",
              "      <td>0.000000e+00</td>\n",
              "      <td>1.000000e+00</td>\n",
              "      <td>0.000000e+00</td>\n",
              "    </tr>\n",
              "    <tr>\n",
              "      <th>50%</th>\n",
              "      <td>1.500000e+01</td>\n",
              "      <td>8.000000e+00</td>\n",
              "      <td>0.000000e+00</td>\n",
              "      <td>0.000000e+00</td>\n",
              "      <td>0.000000e+00</td>\n",
              "      <td>0.000000e+00</td>\n",
              "      <td>0.000000e+00</td>\n",
              "      <td>1.000000e+00</td>\n",
              "      <td>2.000000e+00</td>\n",
              "      <td>4.000000e+00</td>\n",
              "      <td>0.000000e+00</td>\n",
              "      <td>0.000000e+00</td>\n",
              "      <td>0.000000e+00</td>\n",
              "      <td>8.200000e-01</td>\n",
              "      <td>8.100000e-01</td>\n",
              "      <td>0.000000e+00</td>\n",
              "      <td>0.000000e+00</td>\n",
              "      <td>0.000000e+00</td>\n",
              "      <td>0.000000e+00</td>\n",
              "      <td>1.000000e+00</td>\n",
              "      <td>0.000000e+00</td>\n",
              "    </tr>\n",
              "    <tr>\n",
              "      <th>75%</th>\n",
              "      <td>8.000000e+01</td>\n",
              "      <td>9.000000e+00</td>\n",
              "      <td>0.000000e+00</td>\n",
              "      <td>4.000000e+00</td>\n",
              "      <td>1.200000e+01</td>\n",
              "      <td>2.000000e+01</td>\n",
              "      <td>4.000000e+00</td>\n",
              "      <td>1.500000e+01</td>\n",
              "      <td>3.100000e+01</td>\n",
              "      <td>4.600000e+01</td>\n",
              "      <td>3.000000e+00</td>\n",
              "      <td>0.000000e+00</td>\n",
              "      <td>0.000000e+00</td>\n",
              "      <td>9.700000e-01</td>\n",
              "      <td>9.500000e-01</td>\n",
              "      <td>0.000000e+00</td>\n",
              "      <td>0.000000e+00</td>\n",
              "      <td>0.000000e+00</td>\n",
              "      <td>0.000000e+00</td>\n",
              "      <td>1.000000e+00</td>\n",
              "      <td>0.000000e+00</td>\n",
              "    </tr>\n",
              "    <tr>\n",
              "      <th>max</th>\n",
              "      <td>1.233440e+07</td>\n",
              "      <td>5.200000e+01</td>\n",
              "      <td>4.876800e+05</td>\n",
              "      <td>1.218328e+06</td>\n",
              "      <td>2.461360e+06</td>\n",
              "      <td>3.777304e+06</td>\n",
              "      <td>7.417740e+05</td>\n",
              "      <td>1.105478e+06</td>\n",
              "      <td>2.146625e+06</td>\n",
              "      <td>3.205172e+06</td>\n",
              "      <td>3.133190e+05</td>\n",
              "      <td>1.000000e+00</td>\n",
              "      <td>1.464960e+05</td>\n",
              "      <td>1.024611e+00</td>\n",
              "      <td>1.000000e+00</td>\n",
              "      <td>1.253000e+04</td>\n",
              "      <td>1.000000e+00</td>\n",
              "      <td>1.000000e+00</td>\n",
              "      <td>1.000000e+00</td>\n",
              "      <td>1.000000e+00</td>\n",
              "      <td>1.000000e+00</td>\n",
              "    </tr>\n",
              "  </tbody>\n",
              "</table>\n",
              "</div>"
            ],
            "text/plain": [
              "       national_inv     lead_time  ...  stop_auto_buy      rev_stop\n",
              "count  1.215259e+06  1.215259e+06  ...   1.215259e+06  1.215259e+06\n",
              "mean   4.923974e+02  8.071842e+00  ...   9.637559e-01  4.427040e-04\n",
              "std    2.939521e+04  7.009007e+00  ...   1.868971e-01  2.103588e-02\n",
              "min   -2.725600e+04 -3.535940e+01  ...   0.000000e+00  0.000000e+00\n",
              "25%    4.000000e+00  4.000000e+00  ...   1.000000e+00  0.000000e+00\n",
              "50%    1.500000e+01  8.000000e+00  ...   1.000000e+00  0.000000e+00\n",
              "75%    8.000000e+01  9.000000e+00  ...   1.000000e+00  0.000000e+00\n",
              "max    1.233440e+07  5.200000e+01  ...   1.000000e+00  1.000000e+00\n",
              "\n",
              "[8 rows x 21 columns]"
            ]
          },
          "execution_count": 18,
          "metadata": {
            "tags": []
          },
          "output_type": "execute_result"
        }
      ]
    },
    {
      "cell_type": "markdown",
      "metadata": {
        "id": "dW7eBH05jYkt"
      },
      "source": [
        "# Modeling "
      ]
    },
    {
      "cell_type": "markdown",
      "metadata": {
        "id": "iTiIi67FJncb"
      },
      "source": [
        "## Base model on RAW data "
      ]
    },
    {
      "cell_type": "code",
      "metadata": {
        "id": "YtkUDVp9Jncb"
      },
      "source": [
        "from sklearn.linear_model import LogisticRegression\n",
        "from sklearn.model_selection import GridSearchCV"
      ],
      "execution_count": 64,
      "outputs": []
    },
    {
      "cell_type": "code",
      "metadata": {
        "colab": {
          "base_uri": "https://localhost:8080/"
        },
        "scrolled": true,
        "id": "bXI4wbr2Qy-i",
        "outputId": "a9b6dcae-33c9-4a06-cae5-6d408e16e941"
      },
      "source": [
        "%%time\n",
        "model = LogisticRegression(n_jobs = -1)\n",
        "parameters = {'penalty' : ['l1', 'l2'] , 'C' : [0.01,0.1,0,1.0,10.0,100.0,1000.0]}\n",
        "clf = GridSearchCV(model, parameters,scoring = 'roc_auc' )\n",
        "logreg = clf.fit(X_train, y_train)\n",
        "print(\"Best Params:\" , logreg.best_params_)\n",
        "print(\"Best Score:\" , logreg.best_score_)"
      ],
      "execution_count": null,
      "outputs": [
        {
          "name": "stdout",
          "output_type": "stream",
          "text": [
            "Best Params :  {'C': 1000.0, 'penalty': 'l2'}\n",
            "Best Score :  0.686929440797646\n",
            "CPU times: user 27.4 s, sys: 14.3 s, total: 41.8 s\n",
            "Wall time: 37min 7s\n"
          ]
        }
      ]
    },
    {
      "cell_type": "code",
      "metadata": {
        "colab": {
          "base_uri": "https://localhost:8080/"
        },
        "id": "QC6kCn_IHhcf",
        "outputId": "679ff3e5-09ec-4603-d4c2-d54f51025b97"
      },
      "source": [
        "clf.best_params_['C']"
      ],
      "execution_count": null,
      "outputs": [
        {
          "data": {
            "text/plain": [
              "1000.0"
            ]
          },
          "execution_count": 80,
          "metadata": {
            "tags": []
          },
          "output_type": "execute_result"
        }
      ]
    },
    {
      "cell_type": "code",
      "metadata": {
        "colab": {
          "base_uri": "https://localhost:8080/"
        },
        "id": "B9_tFjygQy-i",
        "outputId": "fbe02198-782c-486e-c98e-c4baafdba1c5"
      },
      "source": [
        "model = LogisticRegression(penalty = logreg.best_params_['penalty'],C = logreg.best_params_['C'], n_jobs=-1)\n",
        "model.fit(X_train, y_train)\n",
        "\n"
      ],
      "execution_count": null,
      "outputs": [
        {
          "data": {
            "text/plain": [
              "LogisticRegression(C=1000.0, class_weight=None, dual=False, fit_intercept=True,\n",
              "                   intercept_scaling=1, l1_ratio=None, max_iter=100,\n",
              "                   multi_class='auto', n_jobs=-1, penalty='l2',\n",
              "                   random_state=None, solver='lbfgs', tol=0.0001, verbose=0,\n",
              "                   warm_start=False)"
            ]
          },
          "execution_count": 72,
          "metadata": {
            "tags": []
          },
          "output_type": "execute_result"
        }
      ]
    },
    {
      "cell_type": "code",
      "metadata": {
        "id": "2skfPHamJncc"
      },
      "source": [
        "from sklearn.metrics import roc_auc_score\n",
        "from sklearn.metrics import f1_score"
      ],
      "execution_count": 17,
      "outputs": []
    },
    {
      "cell_type": "code",
      "metadata": {
        "id": "nThoDCXSJncc"
      },
      "source": [
        "filename = '/content/drive/MyDrive/BackorderPrediction/LogisticRegression_model.pkl'\n",
        "pickle.dump(model, open(filename, 'wb'))"
      ],
      "execution_count": null,
      "outputs": []
    },
    {
      "cell_type": "code",
      "metadata": {
        "id": "hSNFYgJIs_dw"
      },
      "source": [
        "\n",
        "filename = '/content/drive/MyDrive/BackorderPrediction/LogisticRegression_model.pkl'\n",
        "\n",
        "modelLog = pickle.load(open(filename, 'rb'))\n",
        "\n",
        "\n"
      ],
      "execution_count": 18,
      "outputs": []
    },
    {
      "cell_type": "code",
      "metadata": {
        "colab": {
          "base_uri": "https://localhost:8080/",
          "height": 348
        },
        "id": "SPyUkRnls_dy",
        "outputId": "4379ed23-4527-4e67-af59-d7ba8407d90d"
      },
      "source": [
        "%%time\n",
        "lr_probs = modelLog.predict_proba(X_test)\n",
        "lr_probs = lr_probs[:, 1]\n",
        "lr_auc = roc_auc_score(y_test, lr_probs)\n",
        "print('Logistic: ROC AUC=%.3f' % (lr_auc))\n",
        "lr_fpr, lr_tpr, _ = roc_curve(y_test, lr_probs)\n",
        "pyplot.plot(lr_fpr, lr_tpr, marker='.', label='Logistic Regression')\n",
        "pyplot.xlabel('False Positive Rate')\n",
        "pyplot.ylabel('True Positive Rate')\n",
        "pyplot.legend()\n",
        "pyplot.show()"
      ],
      "execution_count": 21,
      "outputs": [
        {
          "output_type": "stream",
          "name": "stdout",
          "text": [
            "Logistic: ROC AUC=0.671\n"
          ]
        },
        {
          "output_type": "display_data",
          "data": {
            "image/png": "[encoded data removed]",
            "text/plain": [
              "<Figure size 432x288 with 1 Axes>"
            ]
          },
          "metadata": {
            "needs_background": "light"
          }
        },
        {
          "output_type": "stream",
          "name": "stdout",
          "text": [
            "The ROC-AUC Score obtained on CV set is :  0.49987921732828733\n",
            "CPU times: user 745 ms, sys: 623 ms, total: 1.37 s\n",
            "Wall time: 662 ms\n"
          ]
        }
      ]
    },
    {
      "cell_type": "code",
      "metadata": {
        "colab": {
          "base_uri": "https://localhost:8080/",
          "height": 296
        },
        "id": "XqFEFrRXs_dz",
        "outputId": "335da5fc-912d-46da-c466-66e659e8fc3d"
      },
      "source": [
        "lr_probs = modelLog.predict_proba(X_test)\n",
        "lr_probs = lr_probs[:, 1]\n",
        "yhat = modelLog.predict(X_test)\n",
        "lr_precision, lr_recall, _ = precision_recall_curve(y_test, lr_probs)\n",
        "lr_f1, lr_auc = f1_score(y_test, yhat), auc(lr_recall, lr_precision)\n",
        "print('Logistic: f1=%.3f auc=%.3f' % (lr_f1, lr_auc))\n",
        "no_skill = len(y_test[y_test==1]) / len(y_test)\n",
        "pyplot.plot([0, 1], [no_skill, no_skill], linestyle='--', label='No Skill')\n",
        "pyplot.plot(lr_recall, lr_precision, marker='.', label='Logistic Regression')\n",
        "pyplot.xlabel('Recall')\n",
        "pyplot.ylabel('Precision')\n",
        "pyplot.legend()\n",
        "pyplot.show()"
      ],
      "execution_count": null,
      "outputs": [
        {
          "name": "stdout",
          "output_type": "stream",
          "text": [
            "Logistic: f1=0.000 auc=0.016\n"
          ]
        },
        {
          "data": {
            "image/png": "[encoded data removed]",
            "text/plain": [
              "<Figure size 432x288 with 1 Axes>"
            ]
          },
          "metadata": {
            "tags": []
          },
          "output_type": "display_data"
        }
      ]
    },
    {
      "cell_type": "code",
      "metadata": {
        "id": "PuLLCydNs-xJ"
      },
      "source": [
        ""
      ],
      "execution_count": null,
      "outputs": []
    },
    {
      "cell_type": "code",
      "metadata": {
        "id": "zZoxkK25s-3k"
      },
      "source": [
        ""
      ],
      "execution_count": null,
      "outputs": []
    },
    {
      "cell_type": "markdown",
      "metadata": {
        "id": "-bnSF7ylJncc"
      },
      "source": [
        "### SMOTE"
      ]
    },
    {
      "cell_type": "code",
      "metadata": {
        "id": "W881u4vCJncc"
      },
      "source": [
        "from imblearn.combine import SMOTETomek"
      ],
      "execution_count": 22,
      "outputs": []
    },
    {
      "cell_type": "code",
      "metadata": {
        "id": "IxYbgL96Jncc",
        "outputId": "27d0ae9b-698a-471c-b282-7917ed9e0261"
      },
      "source": [
        "#  pip install --upgrade scikit-learn"
      ],
      "execution_count": null,
      "outputs": [
        {
          "name": "stdout",
          "output_type": "stream",
          "text": [
            "Requirement already satisfied: scikit-learn in c:\\users\\vrtrix\\anaconda3\\lib\\site-packages (0.24.1)\n",
            "Requirement already satisfied: scipy>=0.19.1 in c:\\users\\vrtrix\\anaconda3\\lib\\site-packages (from scikit-learn) (1.6.1)\n",
            "Requirement already satisfied: threadpoolctl>=2.0.0 in c:\\users\\vrtrix\\anaconda3\\lib\\site-packages (from scikit-learn) (2.1.0)\n",
            "Requirement already satisfied: numpy>=1.13.3 in c:\\users\\vrtrix\\anaconda3\\lib\\site-packages (from scikit-learn) (1.19.2)\n",
            "Requirement already satisfied: joblib>=0.11 in c:\\users\\vrtrix\\anaconda3\\lib\\site-packages (from scikit-learn) (1.0.1)\n",
            "Note: you may need to restart the kernel to use updated packages.\n"
          ]
        }
      ]
    },
    {
      "cell_type": "code",
      "metadata": {
        "id": "ino3K8BFJncd"
      },
      "source": [
        "smotemek = SMOTETomek(sampling_strategy='auto')\n",
        "\n",
        "\n",
        "X_train_smt, y_train_smt = smotemek.fit_resample(X_train, y_train)\n",
        "np.save('X_train_smt.npy', X_train_smt) \n",
        "np.save('y_train_smt.npy', y_train_smt)"
      ],
      "execution_count": null,
      "outputs": []
    },
    {
      "cell_type": "code",
      "metadata": {
        "collapsed": true,
        "id": "ljuMR06bJncd"
      },
      "source": [
        "\n",
        "X_train_smt = np.load('/content/drive/MyDrive/BackorderPrediction/X_train_smt.npy') # load\n",
        "y_train_smt = np.load('/content/drive/MyDrive/BackorderPrediction/y_train_smt.npy') # load"
      ],
      "execution_count": 23,
      "outputs": []
    },
    {
      "cell_type": "code",
      "metadata": {
        "id": "ybaCY0GWQdig"
      },
      "source": [
        "\n",
        "X_train_smt = np.load('X_train_smt.npy') # load\n",
        "y_train_smt = np.load('y_train_smt.npy') # load"
      ],
      "execution_count": null,
      "outputs": []
    },
    {
      "cell_type": "code",
      "metadata": {
        "colab": {
          "base_uri": "https://localhost:8080/"
        },
        "id": "48zWyJWmJncd",
        "outputId": "94d61e70-e7db-4855-8bc3-1edc6fbcf15a"
      },
      "source": [
        "%time\n",
        "model = LogisticRegression(n_jobs = -1)\n",
        "parameters = {'penalty' : ['l1', 'l2'] , 'C' : [0.01,0.1,0,1.0,10.0,100.0,1000.0]}\n",
        "clf = GridSearchCV(model, parameters,scoring = 'roc_auc' )\n",
        "logregsmt = clf.fit(X_train_smt, y_train_smt)\n",
        "print(\"Best Params : \" , logregsmt.best_params_)\n",
        "print(\"Best Score : \" , logregsmt.best_score_)"
      ],
      "execution_count": null,
      "outputs": [
        {
          "name": "stdout",
          "output_type": "stream",
          "text": [
            "CPU times: user 3 µs, sys: 1e+03 ns, total: 4 µs\n",
            "Wall time: 6.68 µs\n",
            "Best Params :  {'C': 0.01, 'penalty': 'l2'}\n",
            "Best Score :  0.8996264726612834\n"
          ]
        }
      ]
    },
    {
      "cell_type": "code",
      "metadata": {
        "colab": {
          "base_uri": "https://localhost:8080/"
        },
        "id": "6ASvxKF9Jncd",
        "outputId": "8bcb662d-7d52-43a0-d16f-01e550846a38"
      },
      "source": [
        "model = LogisticRegression(penalty = logregsmt.best_params_['penalty'],C = logregsmt.best_params_['C'],n_jobs=-1)\n",
        "model.fit(X_train_smt, y_train_smt)"
      ],
      "execution_count": null,
      "outputs": [
        {
          "data": {
            "text/plain": [
              "LogisticRegression(C=0.01, class_weight=None, dual=False, fit_intercept=True,\n",
              "                   intercept_scaling=1, l1_ratio=None, max_iter=100,\n",
              "                   multi_class='auto', n_jobs=-1, penalty='l2',\n",
              "                   random_state=None, solver='lbfgs', tol=0.0001, verbose=0,\n",
              "                   warm_start=False)"
            ]
          },
          "execution_count": 24,
          "metadata": {
            "tags": []
          },
          "output_type": "execute_result"
        }
      ]
    },
    {
      "cell_type": "code",
      "metadata": {
        "id": "vwGLj2XHJnce"
      },
      "source": [
        "import pickle\n",
        "# /content/drive/MyDrive/BackorderPrediction/FE and Modeling Backorder prediction.ipynb"
      ],
      "execution_count": null,
      "outputs": []
    },
    {
      "cell_type": "code",
      "metadata": {
        "id": "PQ3ZJxkuJnce"
      },
      "source": [
        "filename = '/content/drive/MyDrive/BackorderPrediction/LogisticRegressionwithSMOTE_model.pkl'\n",
        "pickle.dump(model, open(filename, 'wb'))"
      ],
      "execution_count": null,
      "outputs": []
    },
    {
      "cell_type": "code",
      "metadata": {
        "id": "cHKzDvtEJnce"
      },
      "source": [
        "\n",
        "\n",
        "filename = '/content/drive/MyDrive/BackorderPrediction/LogisticRegressionwithSMOTE_model.pkl'\n",
        "\n",
        "modelLogSMOTE = pickle.load(open(filename, 'rb'))\n",
        "\n",
        "\n"
      ],
      "execution_count": 24,
      "outputs": []
    },
    {
      "cell_type": "code",
      "metadata": {
        "colab": {
          "base_uri": "https://localhost:8080/",
          "height": 348
        },
        "id": "r9OYoR7csVmJ",
        "outputId": "aba355a2-e398-4c2f-d770-8e871e2d4d2d"
      },
      "source": [
        "%%time\n",
        "lr_probs = modelLogSMOTE.predict_proba(X_test)\n",
        "lr_probs = lr_probs[:, 1]\n",
        "lr_auc = roc_auc_score(y_test, lr_probs)\n",
        "print('Logistic with SMOTE: ROC AUC=%.3f' % (lr_auc))\n",
        "lr_fpr, lr_tpr, _ = roc_curve(y_test, lr_probs)\n",
        "pyplot.plot(lr_fpr, lr_tpr, marker='.', label='Logistic with SMOTE')\n",
        "pyplot.xlabel('False Positive Rate')\n",
        "pyplot.ylabel('True Positive Rate')\n",
        "pyplot.legend()\n",
        "pyplot.show()\n",
        "\n",
        "print(\"The ROC-AUC Score obtained on CV set is : \" , roc_auc_score(y_cv, modelLogSMOTE.decision_function(X_cv)))\n",
        "\n",
        "\n"
      ],
      "execution_count": 63,
      "outputs": [
        {
          "output_type": "stream",
          "name": "stdout",
          "text": [
            "Logistic with SMOTE: ROC AUC=0.812\n"
          ]
        },
        {
          "output_type": "display_data",
          "data": {
            "image/png": "[encoded data removed]",
            "text/plain": [
              "<Figure size 432x288 with 1 Axes>"
            ]
          },
          "metadata": {
            "needs_background": "light"
          }
        },
        {
          "output_type": "stream",
          "name": "stdout",
          "text": [
            "The ROC-AUC Score obtained on CV set is :  0.8250510185386416\n",
            "CPU times: user 692 ms, sys: 539 ms, total: 1.23 s\n",
            "Wall time: 632 ms\n"
          ]
        }
      ]
    },
    {
      "cell_type": "code",
      "metadata": {
        "colab": {
          "base_uri": "https://localhost:8080/",
          "height": 296
        },
        "id": "xQUvknnHsVmL",
        "outputId": "f94db278-0e05-4d0e-c0fd-26d24172d8cc"
      },
      "source": [
        "lr_probs = modelLogSMOTE.predict_proba(X_test)\n",
        "lr_probs = lr_probs[:, 1]\n",
        "yhat = modelLogSMOTE.predict(X_test)\n",
        "lr_precision, lr_recall, _ = precision_recall_curve(y_test, lr_probs)\n",
        "lr_f1, lr_auc = f1_score(y_test, yhat), auc(lr_recall, lr_precision)\n",
        "print('Logistic with SMOTE: f1=%.3f auc=%.3f' % (lr_f1, lr_auc))\n",
        "no_skill = len(y_test[y_test==1]) / len(y_test)\n",
        "pyplot.plot([0, 1], [no_skill, no_skill], linestyle='--', label='No Skill')\n",
        "pyplot.plot(lr_recall, lr_precision, marker='.', label='Logistic with SMOTE')\n",
        "pyplot.xlabel('Recall')\n",
        "pyplot.ylabel('Precision')\n",
        "pyplot.legend()\n",
        "pyplot.show()"
      ],
      "execution_count": 34,
      "outputs": [
        {
          "output_type": "stream",
          "name": "stdout",
          "text": [
            "Logistic with SMOTE: f1=0.042 auc=0.075\n"
          ]
        },
        {
          "output_type": "display_data",
          "data": {
            "image/png": "[encoded data removed]",
            "text/plain": [
              "<Figure size 432x288 with 1 Axes>"
            ]
          },
          "metadata": {
            "needs_background": "light"
          }
        }
      ]
    },
    {
      "cell_type": "code",
      "metadata": {
        "id": "USMPjsRMsU3H"
      },
      "source": [
        ""
      ],
      "execution_count": null,
      "outputs": []
    },
    {
      "cell_type": "code",
      "metadata": {
        "id": "xC9Q46pTJnce"
      },
      "source": [
        "num_features = ['national_inv' , 'in_transit_qty' , 'forecast_3_month','forecast_6_month','forecast_9_month' , 'sales_1_month','sales_3_month','sales_6_month','sales_9_month' , 'min_bank','pieces_past_due','local_bo_qty']"
      ],
      "execution_count": 39,
      "outputs": []
    },
    {
      "cell_type": "markdown",
      "metadata": {
        "id": "d6IbcxtxVdXU"
      },
      "source": [
        "## Log transform"
      ]
    },
    {
      "cell_type": "code",
      "metadata": {
        "id": "J7IKB8M-Jnce"
      },
      "source": [
        "# Copying data to try and apply log transform \n",
        "X_train_log, X_cv_log,X_test_log, y_train_log, y_cv_log , y_test_log = X_train, X_cv,X_test, y_train, y_cv , y_test\n"
      ],
      "execution_count": 40,
      "outputs": []
    },
    {
      "cell_type": "code",
      "metadata": {
        "colab": {
          "base_uri": "https://localhost:8080/",
          "height": 444
        },
        "id": "_bug4IzhL0Er",
        "outputId": "9f2f338f-3e86-40a4-a985-6ac7fd9c5698"
      },
      "source": [
        "X_train"
      ],
      "execution_count": 58,
      "outputs": [
        {
          "output_type": "execute_result",
          "data": {
            "text/html": [
              "<div>\n",
              "<style scoped>\n",
              "    .dataframe tbody tr th:only-of-type {\n",
              "        vertical-align: middle;\n",
              "    }\n",
              "\n",
              "    .dataframe tbody tr th {\n",
              "        vertical-align: top;\n",
              "    }\n",
              "\n",
              "    .dataframe thead th {\n",
              "        text-align: right;\n",
              "    }\n",
              "</style>\n",
              "<table border=\"1\" class=\"dataframe\">\n",
              "  <thead>\n",
              "    <tr style=\"text-align: right;\">\n",
              "      <th></th>\n",
              "      <th>national_inv</th>\n",
              "      <th>lead_time</th>\n",
              "      <th>in_transit_qty</th>\n",
              "      <th>forecast_3_month</th>\n",
              "      <th>forecast_6_month</th>\n",
              "      <th>forecast_9_month</th>\n",
              "      <th>sales_1_month</th>\n",
              "      <th>sales_3_month</th>\n",
              "      <th>sales_6_month</th>\n",
              "      <th>sales_9_month</th>\n",
              "      <th>min_bank</th>\n",
              "      <th>potential_issue</th>\n",
              "      <th>pieces_past_due</th>\n",
              "      <th>perf_6_month_avg</th>\n",
              "      <th>perf_12_month_avg</th>\n",
              "      <th>local_bo_qty</th>\n",
              "      <th>deck_risk</th>\n",
              "      <th>oe_constraint</th>\n",
              "      <th>ppap_risk</th>\n",
              "      <th>stop_auto_buy</th>\n",
              "      <th>rev_stop</th>\n",
              "    </tr>\n",
              "  </thead>\n",
              "  <tbody>\n",
              "    <tr>\n",
              "      <th>0</th>\n",
              "      <td>2.197225</td>\n",
              "      <td>8.000000</td>\n",
              "      <td>0.000000</td>\n",
              "      <td>0.000000</td>\n",
              "      <td>0.000000</td>\n",
              "      <td>0.000000</td>\n",
              "      <td>0.000000</td>\n",
              "      <td>0.000000</td>\n",
              "      <td>0.000000</td>\n",
              "      <td>0.000000</td>\n",
              "      <td>0.000000</td>\n",
              "      <td>0.0</td>\n",
              "      <td>0.0</td>\n",
              "      <td>0.990000</td>\n",
              "      <td>0.960000</td>\n",
              "      <td>0.0</td>\n",
              "      <td>0.0</td>\n",
              "      <td>0.0</td>\n",
              "      <td>0.0</td>\n",
              "      <td>1.0</td>\n",
              "      <td>0.0</td>\n",
              "    </tr>\n",
              "    <tr>\n",
              "      <th>1</th>\n",
              "      <td>8.899185</td>\n",
              "      <td>7.177643</td>\n",
              "      <td>0.000000</td>\n",
              "      <td>0.000000</td>\n",
              "      <td>0.000000</td>\n",
              "      <td>0.000000</td>\n",
              "      <td>0.000000</td>\n",
              "      <td>0.000000</td>\n",
              "      <td>2.484907</td>\n",
              "      <td>4.532599</td>\n",
              "      <td>3.988984</td>\n",
              "      <td>0.0</td>\n",
              "      <td>0.0</td>\n",
              "      <td>0.783932</td>\n",
              "      <td>0.781573</td>\n",
              "      <td>0.0</td>\n",
              "      <td>0.0</td>\n",
              "      <td>0.0</td>\n",
              "      <td>0.0</td>\n",
              "      <td>1.0</td>\n",
              "      <td>0.0</td>\n",
              "    </tr>\n",
              "    <tr>\n",
              "      <th>2</th>\n",
              "      <td>5.252273</td>\n",
              "      <td>12.000000</td>\n",
              "      <td>0.000000</td>\n",
              "      <td>0.000000</td>\n",
              "      <td>0.000000</td>\n",
              "      <td>0.000000</td>\n",
              "      <td>0.000000</td>\n",
              "      <td>0.000000</td>\n",
              "      <td>0.000000</td>\n",
              "      <td>0.000000</td>\n",
              "      <td>0.000000</td>\n",
              "      <td>0.0</td>\n",
              "      <td>0.0</td>\n",
              "      <td>0.340934</td>\n",
              "      <td>0.330000</td>\n",
              "      <td>0.0</td>\n",
              "      <td>0.0</td>\n",
              "      <td>0.0</td>\n",
              "      <td>1.0</td>\n",
              "      <td>0.0</td>\n",
              "      <td>0.0</td>\n",
              "    </tr>\n",
              "    <tr>\n",
              "      <th>3</th>\n",
              "      <td>2.772589</td>\n",
              "      <td>8.000000</td>\n",
              "      <td>2.944439</td>\n",
              "      <td>0.000000</td>\n",
              "      <td>2.772589</td>\n",
              "      <td>3.583519</td>\n",
              "      <td>1.945910</td>\n",
              "      <td>2.772589</td>\n",
              "      <td>3.688879</td>\n",
              "      <td>4.094345</td>\n",
              "      <td>0.000000</td>\n",
              "      <td>0.0</td>\n",
              "      <td>0.0</td>\n",
              "      <td>0.760000</td>\n",
              "      <td>0.840000</td>\n",
              "      <td>0.0</td>\n",
              "      <td>0.0</td>\n",
              "      <td>0.0</td>\n",
              "      <td>0.0</td>\n",
              "      <td>1.0</td>\n",
              "      <td>0.0</td>\n",
              "    </tr>\n",
              "    <tr>\n",
              "      <th>4</th>\n",
              "      <td>2.397895</td>\n",
              "      <td>12.000000</td>\n",
              "      <td>0.000000</td>\n",
              "      <td>1.098612</td>\n",
              "      <td>2.397895</td>\n",
              "      <td>2.708050</td>\n",
              "      <td>1.609438</td>\n",
              "      <td>1.791759</td>\n",
              "      <td>2.197225</td>\n",
              "      <td>2.833213</td>\n",
              "      <td>1.386294</td>\n",
              "      <td>0.0</td>\n",
              "      <td>0.0</td>\n",
              "      <td>0.930000</td>\n",
              "      <td>0.950000</td>\n",
              "      <td>0.0</td>\n",
              "      <td>0.0</td>\n",
              "      <td>0.0</td>\n",
              "      <td>0.0</td>\n",
              "      <td>1.0</td>\n",
              "      <td>0.0</td>\n",
              "    </tr>\n",
              "    <tr>\n",
              "      <th>...</th>\n",
              "      <td>...</td>\n",
              "      <td>...</td>\n",
              "      <td>...</td>\n",
              "      <td>...</td>\n",
              "      <td>...</td>\n",
              "      <td>...</td>\n",
              "      <td>...</td>\n",
              "      <td>...</td>\n",
              "      <td>...</td>\n",
              "      <td>...</td>\n",
              "      <td>...</td>\n",
              "      <td>...</td>\n",
              "      <td>...</td>\n",
              "      <td>...</td>\n",
              "      <td>...</td>\n",
              "      <td>...</td>\n",
              "      <td>...</td>\n",
              "      <td>...</td>\n",
              "      <td>...</td>\n",
              "      <td>...</td>\n",
              "      <td>...</td>\n",
              "    </tr>\n",
              "    <tr>\n",
              "      <th>1215254</th>\n",
              "      <td>5.442418</td>\n",
              "      <td>8.000000</td>\n",
              "      <td>0.000000</td>\n",
              "      <td>0.000000</td>\n",
              "      <td>0.000000</td>\n",
              "      <td>0.000000</td>\n",
              "      <td>0.000000</td>\n",
              "      <td>0.000000</td>\n",
              "      <td>0.000000</td>\n",
              "      <td>0.000000</td>\n",
              "      <td>0.000000</td>\n",
              "      <td>0.0</td>\n",
              "      <td>0.0</td>\n",
              "      <td>0.980000</td>\n",
              "      <td>0.970000</td>\n",
              "      <td>0.0</td>\n",
              "      <td>0.0</td>\n",
              "      <td>0.0</td>\n",
              "      <td>0.0</td>\n",
              "      <td>1.0</td>\n",
              "      <td>0.0</td>\n",
              "    </tr>\n",
              "    <tr>\n",
              "      <th>1215255</th>\n",
              "      <td>2.772589</td>\n",
              "      <td>8.000000</td>\n",
              "      <td>0.000000</td>\n",
              "      <td>0.000000</td>\n",
              "      <td>0.000000</td>\n",
              "      <td>0.000000</td>\n",
              "      <td>1.386294</td>\n",
              "      <td>1.791759</td>\n",
              "      <td>2.708050</td>\n",
              "      <td>3.044522</td>\n",
              "      <td>0.693147</td>\n",
              "      <td>0.0</td>\n",
              "      <td>0.0</td>\n",
              "      <td>0.990000</td>\n",
              "      <td>0.970000</td>\n",
              "      <td>0.0</td>\n",
              "      <td>0.0</td>\n",
              "      <td>0.0</td>\n",
              "      <td>1.0</td>\n",
              "      <td>1.0</td>\n",
              "      <td>0.0</td>\n",
              "    </tr>\n",
              "    <tr>\n",
              "      <th>1215256</th>\n",
              "      <td>5.252273</td>\n",
              "      <td>2.000000</td>\n",
              "      <td>0.000000</td>\n",
              "      <td>0.000000</td>\n",
              "      <td>0.000000</td>\n",
              "      <td>0.000000</td>\n",
              "      <td>2.397895</td>\n",
              "      <td>3.555348</td>\n",
              "      <td>3.871201</td>\n",
              "      <td>4.442651</td>\n",
              "      <td>0.000000</td>\n",
              "      <td>0.0</td>\n",
              "      <td>0.0</td>\n",
              "      <td>0.783131</td>\n",
              "      <td>0.779781</td>\n",
              "      <td>0.0</td>\n",
              "      <td>0.0</td>\n",
              "      <td>0.0</td>\n",
              "      <td>0.0</td>\n",
              "      <td>1.0</td>\n",
              "      <td>0.0</td>\n",
              "    </tr>\n",
              "    <tr>\n",
              "      <th>1215257</th>\n",
              "      <td>3.555348</td>\n",
              "      <td>20.362122</td>\n",
              "      <td>0.000000</td>\n",
              "      <td>0.000000</td>\n",
              "      <td>0.000000</td>\n",
              "      <td>0.000000</td>\n",
              "      <td>1.098612</td>\n",
              "      <td>2.639057</td>\n",
              "      <td>3.526361</td>\n",
              "      <td>3.912023</td>\n",
              "      <td>2.197225</td>\n",
              "      <td>0.0</td>\n",
              "      <td>0.0</td>\n",
              "      <td>0.752492</td>\n",
              "      <td>0.756802</td>\n",
              "      <td>0.0</td>\n",
              "      <td>0.0</td>\n",
              "      <td>0.0</td>\n",
              "      <td>0.0</td>\n",
              "      <td>0.0</td>\n",
              "      <td>0.0</td>\n",
              "    </tr>\n",
              "    <tr>\n",
              "      <th>1215258</th>\n",
              "      <td>3.401197</td>\n",
              "      <td>2.000000</td>\n",
              "      <td>0.000000</td>\n",
              "      <td>0.000000</td>\n",
              "      <td>0.000000</td>\n",
              "      <td>0.000000</td>\n",
              "      <td>0.000000</td>\n",
              "      <td>1.609438</td>\n",
              "      <td>2.833213</td>\n",
              "      <td>2.890372</td>\n",
              "      <td>0.693147</td>\n",
              "      <td>0.0</td>\n",
              "      <td>0.0</td>\n",
              "      <td>0.970000</td>\n",
              "      <td>0.980000</td>\n",
              "      <td>0.0</td>\n",
              "      <td>0.0</td>\n",
              "      <td>0.0</td>\n",
              "      <td>0.0</td>\n",
              "      <td>1.0</td>\n",
              "      <td>0.0</td>\n",
              "    </tr>\n",
              "  </tbody>\n",
              "</table>\n",
              "<p>1215259 rows × 21 columns</p>\n",
              "</div>"
            ],
            "text/plain": [
              "         national_inv  lead_time  ...  stop_auto_buy  rev_stop\n",
              "0            2.197225   8.000000  ...            1.0       0.0\n",
              "1            8.899185   7.177643  ...            1.0       0.0\n",
              "2            5.252273  12.000000  ...            0.0       0.0\n",
              "3            2.772589   8.000000  ...            1.0       0.0\n",
              "4            2.397895  12.000000  ...            1.0       0.0\n",
              "...               ...        ...  ...            ...       ...\n",
              "1215254      5.442418   8.000000  ...            1.0       0.0\n",
              "1215255      2.772589   8.000000  ...            1.0       0.0\n",
              "1215256      5.252273   2.000000  ...            1.0       0.0\n",
              "1215257      3.555348  20.362122  ...            0.0       0.0\n",
              "1215258      3.401197   2.000000  ...            1.0       0.0\n",
              "\n",
              "[1215259 rows x 21 columns]"
            ]
          },
          "metadata": {},
          "execution_count": 58
        }
      ]
    },
    {
      "cell_type": "code",
      "metadata": {
        "colab": {
          "base_uri": "https://localhost:8080/",
          "height": 444
        },
        "id": "gCQMpPeyi5bA",
        "outputId": "c83097ad-90e4-44b3-803c-c70c4d085630"
      },
      "source": [
        "X_train_log"
      ],
      "execution_count": 41,
      "outputs": [
        {
          "output_type": "execute_result",
          "data": {
            "text/html": [
              "<div>\n",
              "<style scoped>\n",
              "    .dataframe tbody tr th:only-of-type {\n",
              "        vertical-align: middle;\n",
              "    }\n",
              "\n",
              "    .dataframe tbody tr th {\n",
              "        vertical-align: top;\n",
              "    }\n",
              "\n",
              "    .dataframe thead th {\n",
              "        text-align: right;\n",
              "    }\n",
              "</style>\n",
              "<table border=\"1\" class=\"dataframe\">\n",
              "  <thead>\n",
              "    <tr style=\"text-align: right;\">\n",
              "      <th></th>\n",
              "      <th>national_inv</th>\n",
              "      <th>lead_time</th>\n",
              "      <th>in_transit_qty</th>\n",
              "      <th>forecast_3_month</th>\n",
              "      <th>forecast_6_month</th>\n",
              "      <th>forecast_9_month</th>\n",
              "      <th>sales_1_month</th>\n",
              "      <th>sales_3_month</th>\n",
              "      <th>sales_6_month</th>\n",
              "      <th>sales_9_month</th>\n",
              "      <th>min_bank</th>\n",
              "      <th>potential_issue</th>\n",
              "      <th>pieces_past_due</th>\n",
              "      <th>perf_6_month_avg</th>\n",
              "      <th>perf_12_month_avg</th>\n",
              "      <th>local_bo_qty</th>\n",
              "      <th>deck_risk</th>\n",
              "      <th>oe_constraint</th>\n",
              "      <th>ppap_risk</th>\n",
              "      <th>stop_auto_buy</th>\n",
              "      <th>rev_stop</th>\n",
              "    </tr>\n",
              "  </thead>\n",
              "  <tbody>\n",
              "    <tr>\n",
              "      <th>0</th>\n",
              "      <td>8.0</td>\n",
              "      <td>8.000000</td>\n",
              "      <td>0.0</td>\n",
              "      <td>0.0</td>\n",
              "      <td>0.0</td>\n",
              "      <td>0.0</td>\n",
              "      <td>0.0</td>\n",
              "      <td>0.0</td>\n",
              "      <td>0.0</td>\n",
              "      <td>0.0</td>\n",
              "      <td>0.0</td>\n",
              "      <td>0.0</td>\n",
              "      <td>0.0</td>\n",
              "      <td>0.990000</td>\n",
              "      <td>0.960000</td>\n",
              "      <td>0.0</td>\n",
              "      <td>0.0</td>\n",
              "      <td>0.0</td>\n",
              "      <td>0.0</td>\n",
              "      <td>1.0</td>\n",
              "      <td>0.0</td>\n",
              "    </tr>\n",
              "    <tr>\n",
              "      <th>1</th>\n",
              "      <td>7325.0</td>\n",
              "      <td>7.177643</td>\n",
              "      <td>0.0</td>\n",
              "      <td>0.0</td>\n",
              "      <td>0.0</td>\n",
              "      <td>0.0</td>\n",
              "      <td>0.0</td>\n",
              "      <td>0.0</td>\n",
              "      <td>11.0</td>\n",
              "      <td>92.0</td>\n",
              "      <td>53.0</td>\n",
              "      <td>0.0</td>\n",
              "      <td>0.0</td>\n",
              "      <td>0.783932</td>\n",
              "      <td>0.781573</td>\n",
              "      <td>0.0</td>\n",
              "      <td>0.0</td>\n",
              "      <td>0.0</td>\n",
              "      <td>0.0</td>\n",
              "      <td>1.0</td>\n",
              "      <td>0.0</td>\n",
              "    </tr>\n",
              "    <tr>\n",
              "      <th>2</th>\n",
              "      <td>190.0</td>\n",
              "      <td>12.000000</td>\n",
              "      <td>0.0</td>\n",
              "      <td>0.0</td>\n",
              "      <td>0.0</td>\n",
              "      <td>0.0</td>\n",
              "      <td>0.0</td>\n",
              "      <td>0.0</td>\n",
              "      <td>0.0</td>\n",
              "      <td>0.0</td>\n",
              "      <td>0.0</td>\n",
              "      <td>0.0</td>\n",
              "      <td>0.0</td>\n",
              "      <td>0.340934</td>\n",
              "      <td>0.330000</td>\n",
              "      <td>0.0</td>\n",
              "      <td>0.0</td>\n",
              "      <td>0.0</td>\n",
              "      <td>1.0</td>\n",
              "      <td>0.0</td>\n",
              "      <td>0.0</td>\n",
              "    </tr>\n",
              "    <tr>\n",
              "      <th>3</th>\n",
              "      <td>15.0</td>\n",
              "      <td>8.000000</td>\n",
              "      <td>18.0</td>\n",
              "      <td>0.0</td>\n",
              "      <td>15.0</td>\n",
              "      <td>35.0</td>\n",
              "      <td>6.0</td>\n",
              "      <td>15.0</td>\n",
              "      <td>39.0</td>\n",
              "      <td>59.0</td>\n",
              "      <td>0.0</td>\n",
              "      <td>0.0</td>\n",
              "      <td>0.0</td>\n",
              "      <td>0.760000</td>\n",
              "      <td>0.840000</td>\n",
              "      <td>0.0</td>\n",
              "      <td>0.0</td>\n",
              "      <td>0.0</td>\n",
              "      <td>0.0</td>\n",
              "      <td>1.0</td>\n",
              "      <td>0.0</td>\n",
              "    </tr>\n",
              "    <tr>\n",
              "      <th>4</th>\n",
              "      <td>10.0</td>\n",
              "      <td>12.000000</td>\n",
              "      <td>0.0</td>\n",
              "      <td>2.0</td>\n",
              "      <td>10.0</td>\n",
              "      <td>14.0</td>\n",
              "      <td>4.0</td>\n",
              "      <td>5.0</td>\n",
              "      <td>8.0</td>\n",
              "      <td>16.0</td>\n",
              "      <td>3.0</td>\n",
              "      <td>0.0</td>\n",
              "      <td>0.0</td>\n",
              "      <td>0.930000</td>\n",
              "      <td>0.950000</td>\n",
              "      <td>0.0</td>\n",
              "      <td>0.0</td>\n",
              "      <td>0.0</td>\n",
              "      <td>0.0</td>\n",
              "      <td>1.0</td>\n",
              "      <td>0.0</td>\n",
              "    </tr>\n",
              "    <tr>\n",
              "      <th>...</th>\n",
              "      <td>...</td>\n",
              "      <td>...</td>\n",
              "      <td>...</td>\n",
              "      <td>...</td>\n",
              "      <td>...</td>\n",
              "      <td>...</td>\n",
              "      <td>...</td>\n",
              "      <td>...</td>\n",
              "      <td>...</td>\n",
              "      <td>...</td>\n",
              "      <td>...</td>\n",
              "      <td>...</td>\n",
              "      <td>...</td>\n",
              "      <td>...</td>\n",
              "      <td>...</td>\n",
              "      <td>...</td>\n",
              "      <td>...</td>\n",
              "      <td>...</td>\n",
              "      <td>...</td>\n",
              "      <td>...</td>\n",
              "      <td>...</td>\n",
              "    </tr>\n",
              "    <tr>\n",
              "      <th>1215254</th>\n",
              "      <td>230.0</td>\n",
              "      <td>8.000000</td>\n",
              "      <td>0.0</td>\n",
              "      <td>0.0</td>\n",
              "      <td>0.0</td>\n",
              "      <td>0.0</td>\n",
              "      <td>0.0</td>\n",
              "      <td>0.0</td>\n",
              "      <td>0.0</td>\n",
              "      <td>0.0</td>\n",
              "      <td>0.0</td>\n",
              "      <td>0.0</td>\n",
              "      <td>0.0</td>\n",
              "      <td>0.980000</td>\n",
              "      <td>0.970000</td>\n",
              "      <td>0.0</td>\n",
              "      <td>0.0</td>\n",
              "      <td>0.0</td>\n",
              "      <td>0.0</td>\n",
              "      <td>1.0</td>\n",
              "      <td>0.0</td>\n",
              "    </tr>\n",
              "    <tr>\n",
              "      <th>1215255</th>\n",
              "      <td>15.0</td>\n",
              "      <td>8.000000</td>\n",
              "      <td>0.0</td>\n",
              "      <td>0.0</td>\n",
              "      <td>0.0</td>\n",
              "      <td>0.0</td>\n",
              "      <td>3.0</td>\n",
              "      <td>5.0</td>\n",
              "      <td>14.0</td>\n",
              "      <td>20.0</td>\n",
              "      <td>1.0</td>\n",
              "      <td>0.0</td>\n",
              "      <td>0.0</td>\n",
              "      <td>0.990000</td>\n",
              "      <td>0.970000</td>\n",
              "      <td>0.0</td>\n",
              "      <td>0.0</td>\n",
              "      <td>0.0</td>\n",
              "      <td>1.0</td>\n",
              "      <td>1.0</td>\n",
              "      <td>0.0</td>\n",
              "    </tr>\n",
              "    <tr>\n",
              "      <th>1215256</th>\n",
              "      <td>190.0</td>\n",
              "      <td>2.000000</td>\n",
              "      <td>0.0</td>\n",
              "      <td>0.0</td>\n",
              "      <td>0.0</td>\n",
              "      <td>0.0</td>\n",
              "      <td>10.0</td>\n",
              "      <td>34.0</td>\n",
              "      <td>47.0</td>\n",
              "      <td>84.0</td>\n",
              "      <td>0.0</td>\n",
              "      <td>0.0</td>\n",
              "      <td>0.0</td>\n",
              "      <td>0.783131</td>\n",
              "      <td>0.779781</td>\n",
              "      <td>0.0</td>\n",
              "      <td>0.0</td>\n",
              "      <td>0.0</td>\n",
              "      <td>0.0</td>\n",
              "      <td>1.0</td>\n",
              "      <td>0.0</td>\n",
              "    </tr>\n",
              "    <tr>\n",
              "      <th>1215257</th>\n",
              "      <td>34.0</td>\n",
              "      <td>20.362122</td>\n",
              "      <td>0.0</td>\n",
              "      <td>0.0</td>\n",
              "      <td>0.0</td>\n",
              "      <td>0.0</td>\n",
              "      <td>2.0</td>\n",
              "      <td>13.0</td>\n",
              "      <td>33.0</td>\n",
              "      <td>49.0</td>\n",
              "      <td>8.0</td>\n",
              "      <td>0.0</td>\n",
              "      <td>0.0</td>\n",
              "      <td>0.752492</td>\n",
              "      <td>0.756802</td>\n",
              "      <td>0.0</td>\n",
              "      <td>0.0</td>\n",
              "      <td>0.0</td>\n",
              "      <td>0.0</td>\n",
              "      <td>0.0</td>\n",
              "      <td>0.0</td>\n",
              "    </tr>\n",
              "    <tr>\n",
              "      <th>1215258</th>\n",
              "      <td>29.0</td>\n",
              "      <td>2.000000</td>\n",
              "      <td>0.0</td>\n",
              "      <td>0.0</td>\n",
              "      <td>0.0</td>\n",
              "      <td>0.0</td>\n",
              "      <td>0.0</td>\n",
              "      <td>4.0</td>\n",
              "      <td>16.0</td>\n",
              "      <td>17.0</td>\n",
              "      <td>1.0</td>\n",
              "      <td>0.0</td>\n",
              "      <td>0.0</td>\n",
              "      <td>0.970000</td>\n",
              "      <td>0.980000</td>\n",
              "      <td>0.0</td>\n",
              "      <td>0.0</td>\n",
              "      <td>0.0</td>\n",
              "      <td>0.0</td>\n",
              "      <td>1.0</td>\n",
              "      <td>0.0</td>\n",
              "    </tr>\n",
              "  </tbody>\n",
              "</table>\n",
              "<p>1215259 rows × 21 columns</p>\n",
              "</div>"
            ],
            "text/plain": [
              "         national_inv  lead_time  ...  stop_auto_buy  rev_stop\n",
              "0                 8.0   8.000000  ...            1.0       0.0\n",
              "1              7325.0   7.177643  ...            1.0       0.0\n",
              "2               190.0  12.000000  ...            0.0       0.0\n",
              "3                15.0   8.000000  ...            1.0       0.0\n",
              "4                10.0  12.000000  ...            1.0       0.0\n",
              "...               ...        ...  ...            ...       ...\n",
              "1215254         230.0   8.000000  ...            1.0       0.0\n",
              "1215255          15.0   8.000000  ...            1.0       0.0\n",
              "1215256         190.0   2.000000  ...            1.0       0.0\n",
              "1215257          34.0  20.362122  ...            0.0       0.0\n",
              "1215258          29.0   2.000000  ...            1.0       0.0\n",
              "\n",
              "[1215259 rows x 21 columns]"
            ]
          },
          "metadata": {},
          "execution_count": 41
        }
      ]
    },
    {
      "cell_type": "code",
      "metadata": {
        "colab": {
          "base_uri": "https://localhost:8080/",
          "height": 439
        },
        "id": "yEmsGG7gJncf",
        "outputId": "79bdf82a-32b2-4f91-f2ca-b8f5d993adc5"
      },
      "source": [
        "# sign = np.sign(data[num_features])\n",
        "# sign"
      ],
      "execution_count": null,
      "outputs": [
        {
          "data": {
            "text/html": [
              "<div>\n",
              "<style scoped>\n",
              "    .dataframe tbody tr th:only-of-type {\n",
              "        vertical-align: middle;\n",
              "    }\n",
              "\n",
              "    .dataframe tbody tr th {\n",
              "        vertical-align: top;\n",
              "    }\n",
              "\n",
              "    .dataframe thead th {\n",
              "        text-align: right;\n",
              "    }\n",
              "</style>\n",
              "<table border=\"1\" class=\"dataframe\">\n",
              "  <thead>\n",
              "    <tr style=\"text-align: right;\">\n",
              "      <th></th>\n",
              "      <th>national_inv</th>\n",
              "      <th>in_transit_qty</th>\n",
              "      <th>forecast_3_month</th>\n",
              "      <th>forecast_6_month</th>\n",
              "      <th>forecast_9_month</th>\n",
              "      <th>sales_1_month</th>\n",
              "      <th>sales_3_month</th>\n",
              "      <th>sales_6_month</th>\n",
              "      <th>sales_9_month</th>\n",
              "      <th>min_bank</th>\n",
              "      <th>pieces_past_due</th>\n",
              "      <th>local_bo_qty</th>\n",
              "    </tr>\n",
              "  </thead>\n",
              "  <tbody>\n",
              "    <tr>\n",
              "      <th>0</th>\n",
              "      <td>0.0</td>\n",
              "      <td>0.0</td>\n",
              "      <td>0.0</td>\n",
              "      <td>0.0</td>\n",
              "      <td>0.0</td>\n",
              "      <td>0.0</td>\n",
              "      <td>0.0</td>\n",
              "      <td>0.0</td>\n",
              "      <td>0.0</td>\n",
              "      <td>0.0</td>\n",
              "      <td>0.0</td>\n",
              "      <td>0.0</td>\n",
              "    </tr>\n",
              "    <tr>\n",
              "      <th>1</th>\n",
              "      <td>1.0</td>\n",
              "      <td>0.0</td>\n",
              "      <td>0.0</td>\n",
              "      <td>0.0</td>\n",
              "      <td>0.0</td>\n",
              "      <td>0.0</td>\n",
              "      <td>0.0</td>\n",
              "      <td>0.0</td>\n",
              "      <td>0.0</td>\n",
              "      <td>0.0</td>\n",
              "      <td>0.0</td>\n",
              "      <td>0.0</td>\n",
              "    </tr>\n",
              "    <tr>\n",
              "      <th>2</th>\n",
              "      <td>1.0</td>\n",
              "      <td>0.0</td>\n",
              "      <td>0.0</td>\n",
              "      <td>0.0</td>\n",
              "      <td>0.0</td>\n",
              "      <td>0.0</td>\n",
              "      <td>0.0</td>\n",
              "      <td>0.0</td>\n",
              "      <td>0.0</td>\n",
              "      <td>0.0</td>\n",
              "      <td>0.0</td>\n",
              "      <td>0.0</td>\n",
              "    </tr>\n",
              "    <tr>\n",
              "      <th>3</th>\n",
              "      <td>1.0</td>\n",
              "      <td>0.0</td>\n",
              "      <td>0.0</td>\n",
              "      <td>0.0</td>\n",
              "      <td>0.0</td>\n",
              "      <td>0.0</td>\n",
              "      <td>0.0</td>\n",
              "      <td>0.0</td>\n",
              "      <td>0.0</td>\n",
              "      <td>1.0</td>\n",
              "      <td>0.0</td>\n",
              "      <td>0.0</td>\n",
              "    </tr>\n",
              "    <tr>\n",
              "      <th>4</th>\n",
              "      <td>1.0</td>\n",
              "      <td>0.0</td>\n",
              "      <td>0.0</td>\n",
              "      <td>0.0</td>\n",
              "      <td>0.0</td>\n",
              "      <td>0.0</td>\n",
              "      <td>0.0</td>\n",
              "      <td>0.0</td>\n",
              "      <td>1.0</td>\n",
              "      <td>1.0</td>\n",
              "      <td>0.0</td>\n",
              "      <td>0.0</td>\n",
              "    </tr>\n",
              "    <tr>\n",
              "      <th>...</th>\n",
              "      <td>...</td>\n",
              "      <td>...</td>\n",
              "      <td>...</td>\n",
              "      <td>...</td>\n",
              "      <td>...</td>\n",
              "      <td>...</td>\n",
              "      <td>...</td>\n",
              "      <td>...</td>\n",
              "      <td>...</td>\n",
              "      <td>...</td>\n",
              "      <td>...</td>\n",
              "      <td>...</td>\n",
              "    </tr>\n",
              "    <tr>\n",
              "      <th>1687855</th>\n",
              "      <td>0.0</td>\n",
              "      <td>0.0</td>\n",
              "      <td>1.0</td>\n",
              "      <td>1.0</td>\n",
              "      <td>1.0</td>\n",
              "      <td>0.0</td>\n",
              "      <td>1.0</td>\n",
              "      <td>1.0</td>\n",
              "      <td>1.0</td>\n",
              "      <td>0.0</td>\n",
              "      <td>0.0</td>\n",
              "      <td>1.0</td>\n",
              "    </tr>\n",
              "    <tr>\n",
              "      <th>1687856</th>\n",
              "      <td>-1.0</td>\n",
              "      <td>0.0</td>\n",
              "      <td>1.0</td>\n",
              "      <td>1.0</td>\n",
              "      <td>1.0</td>\n",
              "      <td>1.0</td>\n",
              "      <td>1.0</td>\n",
              "      <td>1.0</td>\n",
              "      <td>1.0</td>\n",
              "      <td>0.0</td>\n",
              "      <td>0.0</td>\n",
              "      <td>1.0</td>\n",
              "    </tr>\n",
              "    <tr>\n",
              "      <th>1687857</th>\n",
              "      <td>-1.0</td>\n",
              "      <td>0.0</td>\n",
              "      <td>1.0</td>\n",
              "      <td>1.0</td>\n",
              "      <td>1.0</td>\n",
              "      <td>0.0</td>\n",
              "      <td>1.0</td>\n",
              "      <td>1.0</td>\n",
              "      <td>1.0</td>\n",
              "      <td>0.0</td>\n",
              "      <td>0.0</td>\n",
              "      <td>1.0</td>\n",
              "    </tr>\n",
              "    <tr>\n",
              "      <th>1687858</th>\n",
              "      <td>1.0</td>\n",
              "      <td>1.0</td>\n",
              "      <td>1.0</td>\n",
              "      <td>1.0</td>\n",
              "      <td>1.0</td>\n",
              "      <td>1.0</td>\n",
              "      <td>1.0</td>\n",
              "      <td>1.0</td>\n",
              "      <td>1.0</td>\n",
              "      <td>1.0</td>\n",
              "      <td>0.0</td>\n",
              "      <td>1.0</td>\n",
              "    </tr>\n",
              "    <tr>\n",
              "      <th>1687859</th>\n",
              "      <td>1.0</td>\n",
              "      <td>0.0</td>\n",
              "      <td>0.0</td>\n",
              "      <td>0.0</td>\n",
              "      <td>0.0</td>\n",
              "      <td>1.0</td>\n",
              "      <td>1.0</td>\n",
              "      <td>1.0</td>\n",
              "      <td>1.0</td>\n",
              "      <td>1.0</td>\n",
              "      <td>0.0</td>\n",
              "      <td>1.0</td>\n",
              "    </tr>\n",
              "  </tbody>\n",
              "</table>\n",
              "<p>1687860 rows × 12 columns</p>\n",
              "</div>"
            ],
            "text/plain": [
              "         national_inv  in_transit_qty  ...  pieces_past_due  local_bo_qty\n",
              "0                 0.0             0.0  ...              0.0           0.0\n",
              "1                 1.0             0.0  ...              0.0           0.0\n",
              "2                 1.0             0.0  ...              0.0           0.0\n",
              "3                 1.0             0.0  ...              0.0           0.0\n",
              "4                 1.0             0.0  ...              0.0           0.0\n",
              "...               ...             ...  ...              ...           ...\n",
              "1687855           0.0             0.0  ...              0.0           1.0\n",
              "1687856          -1.0             0.0  ...              0.0           1.0\n",
              "1687857          -1.0             0.0  ...              0.0           1.0\n",
              "1687858           1.0             1.0  ...              0.0           1.0\n",
              "1687859           1.0             0.0  ...              0.0           1.0\n",
              "\n",
              "[1687860 rows x 12 columns]"
            ]
          },
          "execution_count": 42,
          "metadata": {
            "tags": []
          },
          "output_type": "execute_result"
        }
      ]
    },
    {
      "cell_type": "code",
      "metadata": {
        "id": "OJv5MNSeJncf"
      },
      "source": [
        "# def log_transform(a):\n",
        "#   print(a[num_features])\n",
        "#   sign = np.sign(a[num_features])\n",
        "#   a[num_features] =  int(np.log(0.000001+abs(a[num_features]))*sign)\n",
        "  \n",
        "#   return a"
      ],
      "execution_count": null,
      "outputs": []
    },
    {
      "cell_type": "code",
      "metadata": {
        "colab": {
          "base_uri": "https://localhost:8080/",
          "height": 439
        },
        "id": "GZGY2BfklFUj",
        "outputId": "5e4f3b9e-880f-42df-b73c-bb3ba7b71531"
      },
      "source": [
        "# X_train_log[num_features]"
      ],
      "execution_count": null,
      "outputs": [
        {
          "data": {
            "text/html": [
              "<div>\n",
              "<style scoped>\n",
              "    .dataframe tbody tr th:only-of-type {\n",
              "        vertical-align: middle;\n",
              "    }\n",
              "\n",
              "    .dataframe tbody tr th {\n",
              "        vertical-align: top;\n",
              "    }\n",
              "\n",
              "    .dataframe thead th {\n",
              "        text-align: right;\n",
              "    }\n",
              "</style>\n",
              "<table border=\"1\" class=\"dataframe\">\n",
              "  <thead>\n",
              "    <tr style=\"text-align: right;\">\n",
              "      <th></th>\n",
              "      <th>national_inv</th>\n",
              "      <th>in_transit_qty</th>\n",
              "      <th>forecast_3_month</th>\n",
              "      <th>forecast_6_month</th>\n",
              "      <th>forecast_9_month</th>\n",
              "      <th>sales_1_month</th>\n",
              "      <th>sales_3_month</th>\n",
              "      <th>sales_6_month</th>\n",
              "      <th>sales_9_month</th>\n",
              "      <th>min_bank</th>\n",
              "      <th>pieces_past_due</th>\n",
              "      <th>local_bo_qty</th>\n",
              "    </tr>\n",
              "  </thead>\n",
              "  <tbody>\n",
              "    <tr>\n",
              "      <th>0</th>\n",
              "      <td>2.197225</td>\n",
              "      <td>0.000000</td>\n",
              "      <td>0.000000</td>\n",
              "      <td>0.000000</td>\n",
              "      <td>0.000000</td>\n",
              "      <td>0.000000</td>\n",
              "      <td>0.000000</td>\n",
              "      <td>0.000000</td>\n",
              "      <td>0.000000</td>\n",
              "      <td>0.000000</td>\n",
              "      <td>0.0</td>\n",
              "      <td>0.0</td>\n",
              "    </tr>\n",
              "    <tr>\n",
              "      <th>1</th>\n",
              "      <td>8.899185</td>\n",
              "      <td>0.000000</td>\n",
              "      <td>0.000000</td>\n",
              "      <td>0.000000</td>\n",
              "      <td>0.000000</td>\n",
              "      <td>0.000000</td>\n",
              "      <td>0.000000</td>\n",
              "      <td>2.484907</td>\n",
              "      <td>4.532599</td>\n",
              "      <td>3.988984</td>\n",
              "      <td>0.0</td>\n",
              "      <td>0.0</td>\n",
              "    </tr>\n",
              "    <tr>\n",
              "      <th>2</th>\n",
              "      <td>5.252273</td>\n",
              "      <td>0.000000</td>\n",
              "      <td>0.000000</td>\n",
              "      <td>0.000000</td>\n",
              "      <td>0.000000</td>\n",
              "      <td>0.000000</td>\n",
              "      <td>0.000000</td>\n",
              "      <td>0.000000</td>\n",
              "      <td>0.000000</td>\n",
              "      <td>0.000000</td>\n",
              "      <td>0.0</td>\n",
              "      <td>0.0</td>\n",
              "    </tr>\n",
              "    <tr>\n",
              "      <th>3</th>\n",
              "      <td>2.772589</td>\n",
              "      <td>2.944439</td>\n",
              "      <td>0.000000</td>\n",
              "      <td>2.772589</td>\n",
              "      <td>3.583519</td>\n",
              "      <td>1.945910</td>\n",
              "      <td>2.772589</td>\n",
              "      <td>3.688879</td>\n",
              "      <td>4.094345</td>\n",
              "      <td>0.000000</td>\n",
              "      <td>0.0</td>\n",
              "      <td>0.0</td>\n",
              "    </tr>\n",
              "    <tr>\n",
              "      <th>4</th>\n",
              "      <td>2.397895</td>\n",
              "      <td>0.000000</td>\n",
              "      <td>1.098612</td>\n",
              "      <td>2.397895</td>\n",
              "      <td>2.708050</td>\n",
              "      <td>1.609438</td>\n",
              "      <td>1.791759</td>\n",
              "      <td>2.197225</td>\n",
              "      <td>2.833213</td>\n",
              "      <td>1.386294</td>\n",
              "      <td>0.0</td>\n",
              "      <td>0.0</td>\n",
              "    </tr>\n",
              "    <tr>\n",
              "      <th>...</th>\n",
              "      <td>...</td>\n",
              "      <td>...</td>\n",
              "      <td>...</td>\n",
              "      <td>...</td>\n",
              "      <td>...</td>\n",
              "      <td>...</td>\n",
              "      <td>...</td>\n",
              "      <td>...</td>\n",
              "      <td>...</td>\n",
              "      <td>...</td>\n",
              "      <td>...</td>\n",
              "      <td>...</td>\n",
              "    </tr>\n",
              "    <tr>\n",
              "      <th>1215254</th>\n",
              "      <td>5.442418</td>\n",
              "      <td>0.000000</td>\n",
              "      <td>0.000000</td>\n",
              "      <td>0.000000</td>\n",
              "      <td>0.000000</td>\n",
              "      <td>0.000000</td>\n",
              "      <td>0.000000</td>\n",
              "      <td>0.000000</td>\n",
              "      <td>0.000000</td>\n",
              "      <td>0.000000</td>\n",
              "      <td>0.0</td>\n",
              "      <td>0.0</td>\n",
              "    </tr>\n",
              "    <tr>\n",
              "      <th>1215255</th>\n",
              "      <td>2.772589</td>\n",
              "      <td>0.000000</td>\n",
              "      <td>0.000000</td>\n",
              "      <td>0.000000</td>\n",
              "      <td>0.000000</td>\n",
              "      <td>1.386294</td>\n",
              "      <td>1.791759</td>\n",
              "      <td>2.708050</td>\n",
              "      <td>3.044522</td>\n",
              "      <td>0.693147</td>\n",
              "      <td>0.0</td>\n",
              "      <td>0.0</td>\n",
              "    </tr>\n",
              "    <tr>\n",
              "      <th>1215256</th>\n",
              "      <td>5.252273</td>\n",
              "      <td>0.000000</td>\n",
              "      <td>0.000000</td>\n",
              "      <td>0.000000</td>\n",
              "      <td>0.000000</td>\n",
              "      <td>2.397895</td>\n",
              "      <td>3.555348</td>\n",
              "      <td>3.871201</td>\n",
              "      <td>4.442651</td>\n",
              "      <td>0.000000</td>\n",
              "      <td>0.0</td>\n",
              "      <td>0.0</td>\n",
              "    </tr>\n",
              "    <tr>\n",
              "      <th>1215257</th>\n",
              "      <td>3.555348</td>\n",
              "      <td>0.000000</td>\n",
              "      <td>0.000000</td>\n",
              "      <td>0.000000</td>\n",
              "      <td>0.000000</td>\n",
              "      <td>1.098612</td>\n",
              "      <td>2.639057</td>\n",
              "      <td>3.526361</td>\n",
              "      <td>3.912023</td>\n",
              "      <td>2.197225</td>\n",
              "      <td>0.0</td>\n",
              "      <td>0.0</td>\n",
              "    </tr>\n",
              "    <tr>\n",
              "      <th>1215258</th>\n",
              "      <td>3.401197</td>\n",
              "      <td>0.000000</td>\n",
              "      <td>0.000000</td>\n",
              "      <td>0.000000</td>\n",
              "      <td>0.000000</td>\n",
              "      <td>0.000000</td>\n",
              "      <td>1.609438</td>\n",
              "      <td>2.833213</td>\n",
              "      <td>2.890372</td>\n",
              "      <td>0.693147</td>\n",
              "      <td>0.0</td>\n",
              "      <td>0.0</td>\n",
              "    </tr>\n",
              "  </tbody>\n",
              "</table>\n",
              "<p>1215259 rows × 12 columns</p>\n",
              "</div>"
            ],
            "text/plain": [
              "         national_inv  in_transit_qty  ...  pieces_past_due  local_bo_qty\n",
              "0            2.197225        0.000000  ...              0.0           0.0\n",
              "1            8.899185        0.000000  ...              0.0           0.0\n",
              "2            5.252273        0.000000  ...              0.0           0.0\n",
              "3            2.772589        2.944439  ...              0.0           0.0\n",
              "4            2.397895        0.000000  ...              0.0           0.0\n",
              "...               ...             ...  ...              ...           ...\n",
              "1215254      5.442418        0.000000  ...              0.0           0.0\n",
              "1215255      2.772589        0.000000  ...              0.0           0.0\n",
              "1215256      5.252273        0.000000  ...              0.0           0.0\n",
              "1215257      3.555348        0.000000  ...              0.0           0.0\n",
              "1215258      3.401197        0.000000  ...              0.0           0.0\n",
              "\n",
              "[1215259 rows x 12 columns]"
            ]
          },
          "execution_count": 72,
          "metadata": {
            "tags": []
          },
          "output_type": "execute_result"
        }
      ]
    },
    {
      "cell_type": "code",
      "metadata": {
        "colab": {
          "base_uri": "https://localhost:8080/"
        },
        "id": "RVdxeBCGjhQO",
        "outputId": "f3f4cdb3-e41c-47cc-f102-d24dca18f855"
      },
      "source": [
        "skewed_features = ['national_inv' , 'in_transit_qty' , 'forecast_3_month','forecast_6_month','forecast_9_month' , 'sales_1_month','sales_3_month','sales_6_month','sales_9_month' , 'min_bank','pieces_past_due','local_bo_qty']\n",
        "log_columns = []\n",
        "for i in skewed_features:\n",
        "  log_columns.append(X_train.columns.get_loc(i))\n",
        "log_columns"
      ],
      "execution_count": 42,
      "outputs": [
        {
          "output_type": "execute_result",
          "data": {
            "text/plain": [
              "[0, 2, 3, 4, 5, 6, 7, 8, 9, 10, 12, 15]"
            ]
          },
          "metadata": {},
          "execution_count": 42
        }
      ]
    },
    {
      "cell_type": "code",
      "metadata": {
        "id": "6wKib62VjhUv"
      },
      "source": [
        "def log_transform(a):\n",
        "  # print(a[log_columns])\n",
        "  sign = np.sign(a[log_columns])\n",
        "  # print(sign)\n",
        "  a[log_columns] =  np.log(1.0+abs(a[log_columns]))*sign\n",
        "\n",
        "  return a"
      ],
      "execution_count": 43,
      "outputs": []
    },
    {
      "cell_type": "code",
      "metadata": {
        "colab": {
          "base_uri": "https://localhost:8080/"
        },
        "id": "DKcHWo81Jncf",
        "outputId": "64ff918b-2d65-4193-ccd5-7434eb9ad867"
      },
      "source": [
        "%%time\n",
        "X_train_log = np.apply_along_axis(log_transform, 1, X_train_log)\n",
        "X_cv_log = np.apply_along_axis(log_transform, 1, X_cv_log)\n",
        "X_test_log = np.apply_along_axis(log_transform, 1, X_test_log)\n"
      ],
      "execution_count": 44,
      "outputs": [
        {
          "output_type": "stream",
          "name": "stdout",
          "text": [
            "CPU times: user 29.7 s, sys: 5.28 s, total: 35 s\n",
            "Wall time: 29.8 s\n"
          ]
        }
      ]
    },
    {
      "cell_type": "code",
      "metadata": {
        "id": "MebFgXu8xOUm"
      },
      "source": [
        ""
      ],
      "execution_count": null,
      "outputs": []
    },
    {
      "cell_type": "markdown",
      "metadata": {
        "id": "OeztLta2xPHS"
      },
      "source": [
        "Standard scaler"
      ]
    },
    {
      "cell_type": "code",
      "metadata": {
        "id": "8YythKT3xOhE"
      },
      "source": [
        "scaler = StandardScaler().fit(X_train_log)\n",
        "X_train_log = scaler.transform(X_train_log)\n",
        "X_cv_log = scaler.transform(X_cv_log)\n",
        "X_test_log = scaler.transform(X_test_log)"
      ],
      "execution_count": 45,
      "outputs": []
    },
    {
      "cell_type": "markdown",
      "metadata": {
        "id": "WzbqokCmvfLR"
      },
      "source": [
        "## Logistic regression with Log transform"
      ]
    },
    {
      "cell_type": "code",
      "metadata": {
        "id": "F3IBqqjGz9Bw"
      },
      "source": [
        ""
      ],
      "execution_count": null,
      "outputs": []
    },
    {
      "cell_type": "code",
      "metadata": {
        "colab": {
          "base_uri": "https://localhost:8080/"
        },
        "id": "3MNDkEubJncg",
        "outputId": "c9a0c36a-566f-4e98-e197-2cf5c1d076e2"
      },
      "source": [
        "%%time\n",
        "model = LogisticRegression(n_jobs = -1)\n",
        "parameters = {'penalty' : ['l1', 'l2'] , 'C' : [0.01,0.1,0,1.0,10.0,100.0,1000.0]}\n",
        "clf = GridSearchCV(model, parameters,scoring = 'roc_auc' )\n",
        "logreglog = clf.fit(X_train_log, y_train_log)\n",
        "print(\"Best Params:\" , logreglog.best_params_)\n",
        "print(\"Best Score :\" , logreglog.best_score_)"
      ],
      "execution_count": null,
      "outputs": [
        {
          "name": "stdout",
          "output_type": "stream",
          "text": [
            "Best Params: {'C': 0.01, 'penalty': 'l2'}\n",
            "Best Score : 0.9240550847626532\n",
            "CPU times: user 19.3 s, sys: 14.3 s, total: 33.7 s\n",
            "Wall time: 17min 7s\n"
          ]
        }
      ]
    },
    {
      "cell_type": "code",
      "metadata": {
        "colab": {
          "base_uri": "https://localhost:8080/"
        },
        "id": "h6Znk2PcuQMf",
        "outputId": "db756224-6e07-4cb1-9d59-8930cf9a4f72"
      },
      "source": [
        "model = LogisticRegression(penalty = logreglog.best_params_['penalty'],C = logreglog.best_params_['C'],n_jobs=-1)\n",
        "model.fit(X_train_log, y_train_log)"
      ],
      "execution_count": null,
      "outputs": [
        {
          "data": {
            "text/plain": [
              "LogisticRegression(C=0.01, class_weight=None, dual=False, fit_intercept=True,\n",
              "                   intercept_scaling=1, l1_ratio=None, max_iter=100,\n",
              "                   multi_class='auto', n_jobs=-1, penalty='l2',\n",
              "                   random_state=None, solver='lbfgs', tol=0.0001, verbose=0,\n",
              "                   warm_start=False)"
            ]
          },
          "execution_count": 82,
          "metadata": {
            "tags": []
          },
          "output_type": "execute_result"
        }
      ]
    },
    {
      "cell_type": "code",
      "metadata": {
        "id": "hXdOZ9xIuQdK"
      },
      "source": [
        "filename = '/content/drive/MyDrive/BackorderPrediction/LogisticRegressionwithLOG_SMOTE_model.pkl'\n",
        "pickle.dump(model, open(filename, 'wb'))"
      ],
      "execution_count": null,
      "outputs": []
    },
    {
      "cell_type": "code",
      "metadata": {
        "id": "u8cb7IyMqCVy"
      },
      "source": [
        "filename = '/content/drive/MyDrive/BackorderPrediction/LogisticRegressionwithLOG_SMOTE_model.pkl'\n",
        "\n",
        "modelLogLog = pickle.load(open(filename, 'rb'))\n"
      ],
      "execution_count": null,
      "outputs": []
    },
    {
      "cell_type": "code",
      "metadata": {
        "colab": {
          "base_uri": "https://localhost:8080/",
          "height": 330
        },
        "id": "0cOetPlz6e_G",
        "outputId": "e7ae2b38-2793-4a8e-945f-3a8dae207022"
      },
      "source": [
        "%%time\n",
        "lr_probs = modelLogLog.predict_proba(X_test_log)\n",
        "lr_probs = lr_probs[:, 1]\n",
        "lr_auc = roc_auc_score(y_test, lr_probs)\n",
        "print('Logistic with Log transform: ROC AUC=%.3f' % (lr_auc))\n",
        "lr_fpr, lr_tpr, _ = roc_curve(y_test, lr_probs)\n",
        "pyplot.plot(lr_fpr, lr_tpr, marker='.', label='Logistic with Log transform')\n",
        "pyplot.xlabel('False Positive Rate')\n",
        "pyplot.ylabel('True Positive Rate')\n",
        "pyplot.legend()\n",
        "pyplot.show()"
      ],
      "execution_count": null,
      "outputs": [
        {
          "name": "stdout",
          "output_type": "stream",
          "text": [
            "Logistic with Log transform: ROC AUC=0.921\n"
          ]
        },
        {
          "data": {
            "image/png": "[encoded data removed]",
            "text/plain": [
              "<Figure size 432x288 with 1 Axes>"
            ]
          },
          "metadata": {
            "tags": []
          },
          "output_type": "display_data"
        },
        {
          "name": "stdout",
          "output_type": "stream",
          "text": [
            "CPU times: user 701 ms, sys: 343 ms, total: 1.04 s\n",
            "Wall time: 687 ms\n"
          ]
        }
      ]
    },
    {
      "cell_type": "code",
      "metadata": {
        "colab": {
          "base_uri": "https://localhost:8080/",
          "height": 296
        },
        "id": "R_Fq3Lhzp8RO",
        "outputId": "36502e27-0c9b-4cf0-92c8-e2c8f6e7d0f3"
      },
      "source": [
        "lr_probs = modelLogLog.predict_proba(X_test_log)\n",
        "lr_probs = lr_probs[:, 1]\n",
        "yhat = modelLogLog.predict(X_test_log)\n",
        "lr_precision, lr_recall, _ = precision_recall_curve(y_test, lr_probs)\n",
        "lr_f1, lr_auc = f1_score(y_test, yhat), auc(lr_recall, lr_precision)\n",
        "print('Logistic with Log transform: f1=%.3f auc=%.3f' % (lr_f1, lr_auc))\n",
        "no_skill = len(y_test[y_test==1]) / len(y_test)\n",
        "pyplot.plot([0, 1], [no_skill, no_skill], linestyle='--', label='No Skill')\n",
        "pyplot.plot(lr_recall, lr_precision, marker='.', label='Logistic with Log transform')\n",
        "pyplot.xlabel('Recall')\n",
        "pyplot.ylabel('Precision')\n",
        "pyplot.legend()\n",
        "pyplot.show()"
      ],
      "execution_count": null,
      "outputs": [
        {
          "name": "stdout",
          "output_type": "stream",
          "text": [
            "Logistic: f1=0.053 auc=0.150\n"
          ]
        },
        {
          "data": {
            "image/png": "[encoded data removed]",
            "text/plain": [
              "<Figure size 432x288 with 1 Axes>"
            ]
          },
          "metadata": {
            "tags": []
          },
          "output_type": "display_data"
        }
      ]
    },
    {
      "cell_type": "code",
      "metadata": {
        "id": "BxG9l3ICp8XE"
      },
      "source": [
        ""
      ],
      "execution_count": null,
      "outputs": []
    },
    {
      "cell_type": "code",
      "metadata": {
        "id": "jm_IbsRlp8c3"
      },
      "source": [
        ""
      ],
      "execution_count": null,
      "outputs": []
    },
    {
      "cell_type": "markdown",
      "metadata": {
        "id": "4WF1URJ_95rc"
      },
      "source": [
        "## Balanced Bagging"
      ]
    },
    {
      "cell_type": "code",
      "metadata": {
        "id": "Bt33xwqE6fEe"
      },
      "source": [
        "from imblearn.ensemble import BalancedBaggingClassifier"
      ],
      "execution_count": null,
      "outputs": []
    },
    {
      "cell_type": "code",
      "metadata": {
        "colab": {
          "base_uri": "https://localhost:8080/"
        },
        "id": "vEST_ygN6fMF",
        "outputId": "cf2b928b-75eb-4500-9dac-f22e70008b1e"
      },
      "source": [
        "%%time\n",
        "model = BalancedBaggingClassifier(n_jobs = -1)\n",
        "parameters = {'n_estimators' : [10,50,100,200,300,500,1000]}\n",
        "clf = GridSearchCV(model, parameters,scoring = 'roc_auc' )\n",
        "blag = clf.fit(X_train_log, y_train_log)\n",
        "print(\"Best Params : \" , blag.best_params_)\n",
        "print(\"Best Score : \" , blag.best_score_)"
      ],
      "execution_count": null,
      "outputs": [
        {
          "name": "stdout",
          "output_type": "stream",
          "text": [
            "Best Params :  {'n_estimators': 1000}\n",
            "Best Score :  0.9686900956437547\n",
            "CPU times: user 58.8 s, sys: 12.8 s, total: 1min 11s\n",
            "Wall time: 1h 9min 21s\n"
          ]
        }
      ]
    },
    {
      "cell_type": "code",
      "metadata": {
        "colab": {
          "base_uri": "https://localhost:8080/"
        },
        "id": "fEphymgA6fVx",
        "outputId": "8aa287ec-d5f4-4488-866f-dacb79d8e052"
      },
      "source": [
        "model = BalancedBaggingClassifier(n_estimators = blag.best_params_['n_estimators'],n_jobs=-1)\n",
        "model.fit(X_train_log, y_train_log)\n"
      ],
      "execution_count": null,
      "outputs": [
        {
          "data": {
            "text/plain": [
              "BalancedBaggingClassifier(base_estimator=None, bootstrap=True,\n",
              "                          bootstrap_features=False, max_features=1.0,\n",
              "                          max_samples=1.0, n_estimators=1000, n_jobs=-1,\n",
              "                          oob_score=False, random_state=None, ratio=None,\n",
              "                          replacement=False, sampling_strategy='auto',\n",
              "                          verbose=0, warm_start=False)"
            ]
          },
          "execution_count": 95,
          "metadata": {
            "tags": []
          },
          "output_type": "execute_result"
        }
      ]
    },
    {
      "cell_type": "code",
      "metadata": {
        "id": "QKi0BnNg6f02"
      },
      "source": [
        "filename = '/content/drive/MyDrive/BackorderPrediction/BalancedBaggingwithLOG_model.pkl'\n",
        "pickle.dump(model, open(filename, 'wb'))"
      ],
      "execution_count": null,
      "outputs": []
    },
    {
      "cell_type": "code",
      "metadata": {
        "id": "1nYzDvXXhuZr"
      },
      "source": [
        "filename = '/content/drive/MyDrive/BackorderPrediction/BalancedBaggingwithLOG_model.pkl'"
      ],
      "execution_count": null,
      "outputs": []
    },
    {
      "cell_type": "code",
      "metadata": {
        "id": "C1g7xozL6f6K"
      },
      "source": [
        "modelBlag = pickle.load(open(filename, 'rb'))"
      ],
      "execution_count": null,
      "outputs": []
    },
    {
      "cell_type": "code",
      "metadata": {
        "id": "uI6Vr_d7lDxt"
      },
      "source": [
        "from sklearn.metrics import roc_curve\n",
        "from matplotlib import pyplot"
      ],
      "execution_count": null,
      "outputs": []
    },
    {
      "cell_type": "code",
      "metadata": {
        "colab": {
          "base_uri": "https://localhost:8080/",
          "height": 330
        },
        "id": "xvGLIXl_hHi9",
        "outputId": "f592e628-546e-4cfb-f61f-0319ef8670b5"
      },
      "source": [
        "%%time\n",
        "lr_probs = modelBlag.predict_proba(X_test_log)\n",
        "lr_probs = lr_probs[:, 1]\n",
        "lr_auc = roc_auc_score(y_test, lr_probs)\n",
        "print('Blag: ROC AUC=%.3f' % (lr_auc))\n",
        "lr_fpr, lr_tpr, _ = roc_curve(y_test, lr_probs)\n",
        "pyplot.plot(lr_fpr, lr_tpr, marker='.', label='BLAG')\n",
        "pyplot.xlabel('False Positive Rate')\n",
        "pyplot.ylabel('True Positive Rate')\n",
        "pyplot.legend()\n",
        "pyplot.show()"
      ],
      "execution_count": null,
      "outputs": [
        {
          "name": "stdout",
          "output_type": "stream",
          "text": [
            "Blag: ROC AUC=0.971\n"
          ]
        },
        {
          "data": {
            "image/png": "[encoded data removed]",
            "text/plain": [
              "<Figure size 432x288 with 1 Axes>"
            ]
          },
          "metadata": {
            "tags": []
          },
          "output_type": "display_data"
        },
        {
          "name": "stdout",
          "output_type": "stream",
          "text": [
            "CPU times: user 2.53 s, sys: 451 ms, total: 2.98 s\n",
            "Wall time: 51.1 s\n"
          ]
        }
      ]
    },
    {
      "cell_type": "code",
      "metadata": {
        "id": "V7xdFg-SnMI5"
      },
      "source": [
        "from sklearn.metrics import precision_recall_curve\n",
        "from sklearn.metrics import f1_score\n",
        "from sklearn.metrics import auc"
      ],
      "execution_count": null,
      "outputs": []
    },
    {
      "cell_type": "code",
      "metadata": {
        "colab": {
          "base_uri": "https://localhost:8080/",
          "height": 330
        },
        "id": "PP2UJM63hHpe",
        "outputId": "8f3e4a33-401c-45b3-a9c3-08568a056dfc"
      },
      "source": [
        "%%time\n",
        "lr_probs = modelBlag.predict_proba(X_test_log)\n",
        "lr_probs = lr_probs[:, 1]\n",
        "yhat = modelBlag.predict(X_test_log)\n",
        "lr_precision, lr_recall, _ = precision_recall_curve(y_test, lr_probs)\n",
        "lr_f1, lr_auc = f1_score(y_test, yhat), auc(lr_recall, lr_precision)\n",
        "print('BLAG: f1=%.3f auc=%.3f' % (lr_f1, lr_auc))\n",
        "no_skill = len(y_test[y_test==1]) / len(y_test)\n",
        "pyplot.plot([0, 1], [no_skill, no_skill], linestyle='--', label='No Skill')\n",
        "pyplot.plot(lr_recall, lr_precision, marker='.', label='BLAG')\n",
        "pyplot.xlabel('Recall')\n",
        "pyplot.ylabel('Precision')\n",
        "pyplot.legend()\n",
        "pyplot.show()"
      ],
      "execution_count": null,
      "outputs": [
        {
          "name": "stdout",
          "output_type": "stream",
          "text": [
            "BLAG: f1=0.130 auc=0.328\n"
          ]
        },
        {
          "data": {
            "image/png": "[encoded data removed]",
            "text/plain": [
              "<Figure size 432x288 with 1 Axes>"
            ]
          },
          "metadata": {
            "tags": []
          },
          "output_type": "display_data"
        },
        {
          "name": "stdout",
          "output_type": "stream",
          "text": [
            "CPU times: user 4.65 s, sys: 1.01 s, total: 5.66 s\n",
            "Wall time: 1min 47s\n"
          ]
        }
      ]
    },
    {
      "cell_type": "code",
      "metadata": {
        "id": "fhmX6zJDhHu2"
      },
      "source": [
        ""
      ],
      "execution_count": null,
      "outputs": []
    },
    {
      "cell_type": "markdown",
      "metadata": {
        "id": "3DfyHrxSNF4v"
      },
      "source": [
        "## Random Forest with Balanced sub-sample"
      ]
    },
    {
      "cell_type": "code",
      "metadata": {
        "id": "rZVGmLA1ONjy"
      },
      "source": [
        "from sklearn.ensemble import RandomForestClassifier"
      ],
      "execution_count": 46,
      "outputs": []
    },
    {
      "cell_type": "code",
      "metadata": {
        "colab": {
          "base_uri": "https://localhost:8080/"
        },
        "id": "1jVJ83996gAg",
        "outputId": "98e101a1-4c88-452f-ff99-9f7fe1901408"
      },
      "source": [
        "%%time \n",
        "\n",
        "model = RandomForestClassifier(class_weight = \"balanced_subsample\" , n_jobs = -1 )\n",
        "parameters = {'n_estimators' : [10,50,100,300,500,1000] , 'max_depth' : [1,3,5,7]}\n",
        "# %time\n",
        "\n",
        "clf = GridSearchCV(model, parameters,scoring = 'roc_auc' )\n",
        "rf = clf.fit(X_train_log, y_train)\n",
        "print(\"Best Params : \" , rf.best_params_)\n",
        "print(\"Best Score : \" , rf.best_score_)"
      ],
      "execution_count": null,
      "outputs": [
        {
          "name": "stdout",
          "output_type": "stream",
          "text": [
            "Best Params :  {'max_depth': 7, 'n_estimators': 1000}\n",
            "Best Score :  0.9353209858463766\n",
            "CPU times: user 1h 17min 40s, sys: 51.6 s, total: 1h 18min 31s\n",
            "Wall time: 5h 49min 42s\n"
          ]
        }
      ]
    },
    {
      "cell_type": "code",
      "metadata": {
        "colab": {
          "base_uri": "https://localhost:8080/"
        },
        "id": "gh7Ms3qc6gE9",
        "outputId": "d6a6c8d7-3833-4b95-e839-1e106485bdd0"
      },
      "source": [
        "model = RandomForestClassifier(n_estimators = rf.best_params_['n_estimators'],max_depth =rf.best_params_['max_depth'],class_weight = \"balanced_subsample\", n_jobs=-1)\n",
        "model.fit(X_train_log, y_train)"
      ],
      "execution_count": null,
      "outputs": [
        {
          "data": {
            "text/plain": [
              "RandomForestClassifier(bootstrap=True, ccp_alpha=0.0,\n",
              "                       class_weight='balanced_subsample', criterion='gini',\n",
              "                       max_depth=7, max_features='auto', max_leaf_nodes=None,\n",
              "                       max_samples=None, min_impurity_decrease=0.0,\n",
              "                       min_impurity_split=None, min_samples_leaf=1,\n",
              "                       min_samples_split=2, min_weight_fraction_leaf=0.0,\n",
              "                       n_estimators=1000, n_jobs=-1, oob_score=False,\n",
              "                       random_state=None, verbose=0, warm_start=False)"
            ]
          },
          "execution_count": 157,
          "metadata": {
            "tags": []
          },
          "output_type": "execute_result"
        }
      ]
    },
    {
      "cell_type": "code",
      "metadata": {
        "id": "L2E3agh46gRw"
      },
      "source": [
        "filename = '/content/drive/MyDrive/BackorderPrediction/RandamForestBalancedwithLOG_model.pkl'\n",
        "pickle.dump(model, open(filename, 'wb'))"
      ],
      "execution_count": null,
      "outputs": []
    },
    {
      "cell_type": "code",
      "metadata": {
        "id": "kd3tV-_mNS8O"
      },
      "source": [
        ""
      ],
      "execution_count": null,
      "outputs": []
    },
    {
      "cell_type": "code",
      "metadata": {
        "id": "egmBuU0cq20Y"
      },
      "source": [
        "filename = '/content/drive/MyDrive/BackorderPrediction/RandamForestBalancedwithLOG_model.pkl'\n",
        "\n",
        "modelRand = pickle.load(open(filename, 'rb'))"
      ],
      "execution_count": 47,
      "outputs": []
    },
    {
      "cell_type": "code",
      "metadata": {
        "colab": {
          "base_uri": "https://localhost:8080/",
          "height": 348
        },
        "id": "7cZ03rmtq20l",
        "outputId": "c37e2032-a505-4775-cb28-fec179fe2f71"
      },
      "source": [
        "%%time\n",
        "lr_probs = modelRand.predict_proba(X_test_log)\n",
        "lr_probs = lr_probs[:, 1]\n",
        "lr_auc = roc_auc_score(y_test, lr_probs)\n",
        "print('Random Forest: ROC AUC=%.3f' % (lr_auc))\n",
        "lr_fpr, lr_tpr, _ = roc_curve(y_test, lr_probs)\n",
        "pyplot.plot(lr_fpr, lr_tpr, marker='.', label='Random Forest')\n",
        "pyplot.xlabel('False Positive Rate')\n",
        "pyplot.ylabel('True Positive Rate')\n",
        "pyplot.legend()\n",
        "pyplot.show()\n",
        "print(\"The ROC-AUC Score obtained on CV set is : \" , roc_auc_score(y_cv, modelRand.predict_proba(X_cv_log)[:, 1]))\n"
      ],
      "execution_count": 50,
      "outputs": [
        {
          "output_type": "stream",
          "name": "stdout",
          "text": [
            "Random Forest: ROC AUC=0.917\n"
          ]
        },
        {
          "output_type": "display_data",
          "data": {
            "image/png": "[encoded data removed]",
            "text/plain": [
              "<Figure size 432x288 with 1 Axes>"
            ]
          },
          "metadata": {
            "needs_background": "light"
          }
        },
        {
          "output_type": "stream",
          "name": "stdout",
          "text": [
            "The ROC-AUC Score obtained on CV set is :  0.9142607910259223\n",
            "CPU times: user 54.1 s, sys: 515 ms, total: 54.7 s\n",
            "Wall time: 14.6 s\n"
          ]
        }
      ]
    },
    {
      "cell_type": "code",
      "metadata": {
        "id": "mX2A8fWpNTC0"
      },
      "source": [
        ""
      ],
      "execution_count": null,
      "outputs": []
    },
    {
      "cell_type": "code",
      "metadata": {
        "colab": {
          "base_uri": "https://localhost:8080/",
          "height": 331
        },
        "id": "4jUu2cvQrQCB",
        "outputId": "71722c8e-88f6-40a0-db65-3d9ab7c3dd47"
      },
      "source": [
        "%%time\n",
        "lr_probs = modelRand.predict_proba(X_test_log)\n",
        "lr_probs = lr_probs[:, 1]\n",
        "yhat = modelRand.predict(X_test_log)\n",
        "lr_precision, lr_recall, _ = precision_recall_curve(y_test, lr_probs)\n",
        "lr_f1, lr_auc = f1_score(y_test, yhat), auc(lr_recall, lr_precision)\n",
        "print('Random Forest: f1=%.3f auc=%.3f' % (lr_f1, lr_auc))\n",
        "no_skill = len(y_test[y_test==1]) / len(y_test)\n",
        "pyplot.plot([0, 1], [no_skill, no_skill], linestyle='--', label='No Skill')\n",
        "pyplot.plot(lr_recall, lr_precision, marker='.', label='Random Forest')\n",
        "pyplot.xlabel('Recall')\n",
        "pyplot.ylabel('Precision')\n",
        "pyplot.legend()\n",
        "pyplot.show()"
      ],
      "execution_count": 51,
      "outputs": [
        {
          "output_type": "stream",
          "name": "stdout",
          "text": [
            "Random Forest: f1=0.073 auc=0.141\n"
          ]
        },
        {
          "output_type": "display_data",
          "data": {
            "image/png": "[encoded data removed]",
            "text/plain": [
              "<Figure size 432x288 with 1 Axes>"
            ]
          },
          "metadata": {
            "needs_background": "light"
          }
        },
        {
          "output_type": "stream",
          "name": "stdout",
          "text": [
            "CPU times: user 1min 17s, sys: 539 ms, total: 1min 18s\n",
            "Wall time: 20.6 s\n"
          ]
        }
      ]
    },
    {
      "cell_type": "markdown",
      "metadata": {
        "id": "zgRZh6Jg_wFp"
      },
      "source": [
        "## AdaBoost"
      ]
    },
    {
      "cell_type": "code",
      "metadata": {
        "id": "tedv_Ikj_6BM"
      },
      "source": [
        "from sklearn.ensemble import AdaBoostClassifier"
      ],
      "execution_count": null,
      "outputs": []
    },
    {
      "cell_type": "code",
      "metadata": {
        "colab": {
          "base_uri": "https://localhost:8080/"
        },
        "id": "NsknUPz3_QIJ",
        "outputId": "f2aa75e7-4dfa-448f-b561-93496017ba53"
      },
      "source": [
        "%%time\n",
        "model = AdaBoostClassifier()\n",
        "parameters = {'n_estimators' : [10,50,100,300,500,1000]}\n",
        "clf = GridSearchCV(model, parameters,scoring = 'roc_auc' )\n",
        "adab = clf.fit(X_train_log, y_train)\n",
        "print(\"Best Params : \" , adab.best_params_)\n",
        "print(\"Best Score : \" , adab.best_score_)"
      ],
      "execution_count": null,
      "outputs": [
        {
          "name": "stdout",
          "output_type": "stream",
          "text": [
            "Best Params :  {'n_estimators': 1000}\n",
            "Best Score :  0.9326726556086766\n",
            "CPU times: user 4h 37min 48s, sys: 49.2 s, total: 4h 38min 37s\n",
            "Wall time: 4h 38min 16s\n"
          ]
        }
      ]
    },
    {
      "cell_type": "code",
      "metadata": {
        "colab": {
          "base_uri": "https://localhost:8080/"
        },
        "id": "_3RvBKMV_QPW",
        "outputId": "2373225d-ee87-478b-a860-f0454ab1d5f1"
      },
      "source": [
        "%%time\n",
        "model = AdaBoostClassifier(n_estimators = adab.best_params_['n_estimators'])\n",
        "model.fit(X_train_log, y_train)"
      ],
      "execution_count": null,
      "outputs": [
        {
          "name": "stdout",
          "output_type": "stream",
          "text": [
            "CPU times: user 31min 5s, sys: 3.02 s, total: 31min 9s\n",
            "Wall time: 31min 4s\n"
          ]
        }
      ]
    },
    {
      "cell_type": "code",
      "metadata": {
        "id": "NyV37bO__QbA"
      },
      "source": [
        "filename = '/content/drive/MyDrive/BackorderPrediction/AdaBoostwithLOG_model.pkl'\n",
        "pickle.dump(model, open(filename, 'wb'))"
      ],
      "execution_count": null,
      "outputs": []
    },
    {
      "cell_type": "code",
      "metadata": {
        "id": "g3tKQwhK_Qin"
      },
      "source": [
        ""
      ],
      "execution_count": null,
      "outputs": []
    },
    {
      "cell_type": "code",
      "metadata": {
        "id": "5mfU0wpYsQgZ"
      },
      "source": [
        "filename = '/content/drive/MyDrive/BackorderPrediction/AdaBoostwithLOG_model.pkl'\n",
        "\n",
        "modelAda = pickle.load(open(filename, 'rb'))"
      ],
      "execution_count": 56,
      "outputs": []
    },
    {
      "cell_type": "code",
      "metadata": {
        "colab": {
          "base_uri": "https://localhost:8080/",
          "height": 348
        },
        "id": "9UpMSc9IsQga",
        "outputId": "98134b38-858e-47b1-c1f4-3016ba2e6c82"
      },
      "source": [
        "%%time\n",
        "lr_probs = modelAda.predict_proba(X_test_log)\n",
        "lr_probs = lr_probs[:, 1]\n",
        "lr_auc = roc_auc_score(y_test, lr_probs)\n",
        "print('AdaBoost: ROC AUC=%.3f' % (lr_auc))\n",
        "lr_fpr, lr_tpr, _ = roc_curve(y_test, lr_probs)\n",
        "pyplot.plot(lr_fpr, lr_tpr, marker='.', label='AdaBoost')\n",
        "pyplot.xlabel('False Positive Rate')\n",
        "pyplot.ylabel('True Positive Rate')\n",
        "pyplot.legend()\n",
        "pyplot.show()\n",
        "print(\"The ROC-AUC Score obtained on CV set is : \" , roc_auc_score(y_cv, modelAda.decision_function(X_cv_log)))\n"
      ],
      "execution_count": 57,
      "outputs": [
        {
          "output_type": "stream",
          "name": "stdout",
          "text": [
            "AdaBoost: ROC AUC=0.921\n"
          ]
        },
        {
          "output_type": "display_data",
          "data": {
            "image/png": "[encoded data removed]",
            "text/plain": [
              "<Figure size 432x288 with 1 Axes>"
            ]
          },
          "metadata": {
            "needs_background": "light"
          }
        },
        {
          "output_type": "stream",
          "name": "stdout",
          "text": [
            "The ROC-AUC Score obtained on CV set is :  0.9289334829686682\n",
            "CPU times: user 1min 25s, sys: 890 ms, total: 1min 26s\n",
            "Wall time: 1min 26s\n"
          ]
        }
      ]
    },
    {
      "cell_type": "code",
      "metadata": {
        "id": "U0I4xgIKsQgb"
      },
      "source": [
        ""
      ],
      "execution_count": null,
      "outputs": []
    },
    {
      "cell_type": "code",
      "metadata": {
        "colab": {
          "base_uri": "https://localhost:8080/",
          "height": 330
        },
        "id": "Ad8MO4lmsQgb",
        "outputId": "75c93283-3843-4a9c-d742-0cad6ca635ec"
      },
      "source": [
        "%%time\n",
        "lr_probs = modelAda.predict_proba(X_test_log)\n",
        "lr_probs = lr_probs[:, 1]\n",
        "yhat = modelAda.predict(X_test_log)\n",
        "lr_precision, lr_recall, _ = precision_recall_curve(y_test, lr_probs)\n",
        "lr_f1, lr_auc = f1_score(y_test, yhat), auc(lr_recall, lr_precision)\n",
        "print('AdaBoost: f1=%.3f auc=%.3f' % (lr_f1, lr_auc))\n",
        "no_skill = len(y_test[y_test==1]) / len(y_test)\n",
        "pyplot.plot([0, 1], [no_skill, no_skill], linestyle='--', label='No Skill')\n",
        "pyplot.plot(lr_recall, lr_precision, marker='.', label='AdaBoost')\n",
        "pyplot.xlabel('Recall')\n",
        "pyplot.ylabel('Precision')\n",
        "pyplot.legend()\n",
        "pyplot.show()"
      ],
      "execution_count": null,
      "outputs": [
        {
          "name": "stdout",
          "output_type": "stream",
          "text": [
            "AdaBoost: f1=0.049 auc=0.033\n"
          ]
        },
        {
          "data": {
            "image/png": "[encoded data removed]",
            "text/plain": [
              "<Figure size 432x288 with 1 Axes>"
            ]
          },
          "metadata": {
            "tags": []
          },
          "output_type": "display_data"
        },
        {
          "name": "stdout",
          "output_type": "stream",
          "text": [
            "CPU times: user 1min 57s, sys: 634 ms, total: 1min 58s\n",
            "Wall time: 1min 58s\n"
          ]
        }
      ]
    },
    {
      "cell_type": "code",
      "metadata": {
        "id": "Cn9alW5iQdiy"
      },
      "source": [
        ""
      ],
      "execution_count": null,
      "outputs": []
    },
    {
      "cell_type": "markdown",
      "metadata": {
        "id": "gQR2AH7LQdiz"
      },
      "source": [
        "## DT"
      ]
    },
    {
      "cell_type": "code",
      "metadata": {
        "id": "NPwiGT-kQdiz"
      },
      "source": [
        ""
      ],
      "execution_count": null,
      "outputs": []
    },
    {
      "cell_type": "code",
      "metadata": {
        "colab": {
          "base_uri": "https://localhost:8080/"
        },
        "id": "wXikcv3fQdiz",
        "outputId": "f2aa75e7-4dfa-448f-b561-93496017ba53"
      },
      "source": [
        "%%time\n",
        "model = DecisionTreeClassifier(class_weight='balanced', random_state=22)\n",
        "parameters = {'criterion' : ['gini', 'entropy'],\n",
        "             \"max_depth\": range(1,10),\n",
        "             \"min_samples_split\": range(1,10),\n",
        "             \"min_samples_leaf\": range(1,5)\n",
        "             }\n",
        "clf = GridSearchCV(model, parameters,scoring = 'roc_auc' )\n",
        "dt = clf.fit(X_train_log, y_train)\n",
        "print(\"Best Params : \" , dt.best_params_)\n",
        "print(\"Best Score : \" , dt.best_score_)"
      ],
      "execution_count": null,
      "outputs": [
        {
          "name": "stdout",
          "output_type": "stream",
          "text": [
            "Best Params :  {'criterion': 'entropy', 'max_depth': 7, 'min_samples_leaf': 1, 'min_samples_split': 2}\n",
            "Best Score :  0.9333720326605361\n",
            "Wall time: 4h 3min 1s\n"
          ]
        }
      ]
    },
    {
      "cell_type": "code",
      "metadata": {
        "colab": {
          "base_uri": "https://localhost:8080/"
        },
        "id": "HOAHvAB_Qdiz",
        "outputId": "2373225d-ee87-478b-a860-f0454ab1d5f1"
      },
      "source": [
        "%%time\n",
        "model = DecisionTreeClassifier(class_weight='balanced', random_state=22,criterion=dt.best_params_['criterion'], max_depth = dt.best_params_['max_depth'], min_samples_split=dt.best_params_['min_samples_split'],\n",
        "                               min_samples_leaf=dt.best_params_['min_samples_leaf'])\n",
        "                               \n",
        "model.fit(X_train_log, y_train)"
      ],
      "execution_count": null,
      "outputs": [
        {
          "name": "stdout",
          "output_type": "stream",
          "text": [
            "Wall time: 8.72 s\n"
          ]
        },
        {
          "data": {
            "text/plain": [
              "DecisionTreeClassifier(class_weight='balanced', criterion='entropy',\n",
              "                       max_depth=7, random_state=22)"
            ]
          },
          "execution_count": 20,
          "metadata": {
            "tags": []
          },
          "output_type": "execute_result"
        }
      ]
    },
    {
      "cell_type": "code",
      "metadata": {
        "id": "gYwVlMP6Qdi0"
      },
      "source": [
        "filename = 'DTwithLOG_model.pkl'\n",
        "pickle.dump(model, open(filename, 'wb'))"
      ],
      "execution_count": null,
      "outputs": []
    },
    {
      "cell_type": "code",
      "metadata": {
        "id": "SLq8rZhqQdi0",
        "outputId": "09a3eaee-8e53-4950-c67a-7c8da95348c1"
      },
      "source": [
        ""
      ],
      "execution_count": null,
      "outputs": [
        {
          "name": "stderr",
          "output_type": "stream",
          "text": [
            "'sudo' is not recognized as an internal or external command,\n",
            "operable program or batch file.\n"
          ]
        }
      ]
    },
    {
      "cell_type": "code",
      "metadata": {
        "id": "jo0GrcnJQdi0"
      },
      "source": [
        "filename = 'DTwithLOG_model.pkl'\n",
        "\n",
        "modelDt = pickle.load(open(filename, 'rb'))"
      ],
      "execution_count": null,
      "outputs": []
    },
    {
      "cell_type": "code",
      "metadata": {
        "colab": {
          "base_uri": "https://localhost:8080/",
          "height": 330
        },
        "id": "i0BBAEjmQdi0",
        "outputId": "8d1aa9f3-7a7e-4208-d4c5-c8b26f43fefa"
      },
      "source": [
        "%%time\n",
        "lr_probs = modelDt.predict_proba(X_test_log)\n",
        "lr_probs = lr_probs[:, 1]\n",
        "lr_auc = roc_auc_score(y_test, lr_probs)\n",
        "print('DT: ROC AUC=%.3f' % (lr_auc))\n",
        "lr_fpr, lr_tpr, _ = roc_curve(y_test, lr_probs)\n",
        "pyplot.plot(lr_fpr, lr_tpr, marker='.', label='DT')\n",
        "pyplot.xlabel('False Positive Rate')\n",
        "pyplot.ylabel('True Positive Rate')\n",
        "pyplot.legend()\n",
        "pyplot.show()"
      ],
      "execution_count": null,
      "outputs": [
        {
          "name": "stdout",
          "output_type": "stream",
          "text": [
            "DT: ROC AUC=0.931\n"
          ]
        },
        {
          "data": {
            "image/png": "[encoded data removed]",
            "text/plain": [
              "<Figure size 432x288 with 1 Axes>"
            ]
          },
          "metadata": {
            "tags": []
          },
          "output_type": "display_data"
        },
        {
          "name": "stdout",
          "output_type": "stream",
          "text": [
            "Wall time: 252 ms\n"
          ]
        }
      ]
    },
    {
      "cell_type": "code",
      "metadata": {
        "id": "nCBudCnYQdi0"
      },
      "source": [
        ""
      ],
      "execution_count": null,
      "outputs": []
    },
    {
      "cell_type": "code",
      "metadata": {
        "colab": {
          "base_uri": "https://localhost:8080/",
          "height": 330
        },
        "id": "MmCm4q99Qdi0",
        "outputId": "75c93283-3843-4a9c-d742-0cad6ca635ec"
      },
      "source": [
        "%%time\n",
        "lr_probs = modelDt.predict_proba(X_test_log)\n",
        "lr_probs = lr_probs[:, 1]\n",
        "yhat = modelDt.predict(X_test_log)\n",
        "lr_precision, lr_recall, _ = precision_recall_curve(y_test, lr_probs)\n",
        "lr_f1, lr_auc = f1_score(y_test, yhat), auc(lr_recall, lr_precision)\n",
        "print('DT: f1=%.3f auc=%.3f' % (lr_f1, lr_auc))\n",
        "no_skill = len(y_test[y_test==1]) / len(y_test)\n",
        "pyplot.plot([0, 1], [no_skill, no_skill], linestyle='--', label='No Skill')\n",
        "pyplot.plot(lr_recall, lr_precision, marker='.', label='DT')\n",
        "pyplot.xlabel('Recall')\n",
        "pyplot.ylabel('Precision')\n",
        "pyplot.legend()\n",
        "pyplot.show()"
      ],
      "execution_count": null,
      "outputs": [
        {
          "name": "stdout",
          "output_type": "stream",
          "text": [
            "DT: f1=0.074 auc=0.208\n"
          ]
        },
        {
          "data": {
            "image/png": "[encoded data removed]",
            "text/plain": [
              "<Figure size 432x288 with 1 Axes>"
            ]
          },
          "metadata": {
            "tags": []
          },
          "output_type": "display_data"
        },
        {
          "name": "stdout",
          "output_type": "stream",
          "text": [
            "Wall time: 272 ms\n"
          ]
        }
      ]
    },
    {
      "cell_type": "code",
      "metadata": {
        "id": "x5LZ-eA5Y6E5"
      },
      "source": [
        ""
      ],
      "execution_count": null,
      "outputs": []
    },
    {
      "cell_type": "code",
      "metadata": {
        "id": "5nNQPzrU_QtQ"
      },
      "source": [
        ""
      ],
      "execution_count": null,
      "outputs": []
    },
    {
      "cell_type": "markdown",
      "metadata": {
        "id": "ZTxwLgQNQdi1"
      },
      "source": [
        "## LGBM"
      ]
    },
    {
      "cell_type": "code",
      "metadata": {
        "id": "kEslZMFyQdi1",
        "outputId": "6f3b6ea0-175c-4337-e94c-18461f2d167c"
      },
      "source": [
        "!pip install lightgbm"
      ],
      "execution_count": null,
      "outputs": [
        {
          "name": "stdout",
          "output_type": "stream",
          "text": [
            "Collecting lightgbm\n",
            "  Downloading lightgbm-3.2.1-py3-none-win_amd64.whl (1.0 MB)\n",
            "Requirement already satisfied: scipy in c:\\users\\vrtrix\\anaconda3\\envs\\tensorflow_gpu\\lib\\site-packages (from lightgbm) (1.5.2)\n",
            "Requirement already satisfied: scikit-learn!=0.22.0 in c:\\users\\vrtrix\\anaconda3\\envs\\tensorflow_gpu\\lib\\site-packages (from lightgbm) (0.24.1)\n",
            "Requirement already satisfied: numpy in c:\\users\\vrtrix\\anaconda3\\envs\\tensorflow_gpu\\lib\\site-packages (from lightgbm) (1.19.2)\n",
            "Requirement already satisfied: wheel in c:\\users\\vrtrix\\anaconda3\\envs\\tensorflow_gpu\\lib\\site-packages (from lightgbm) (0.35.1)\n",
            "Requirement already satisfied: threadpoolctl>=2.0.0 in c:\\users\\vrtrix\\anaconda3\\envs\\tensorflow_gpu\\lib\\site-packages (from scikit-learn!=0.22.0->lightgbm) (2.1.0)\n",
            "Requirement already satisfied: joblib>=0.11 in c:\\users\\vrtrix\\anaconda3\\envs\\tensorflow_gpu\\lib\\site-packages (from scikit-learn!=0.22.0->lightgbm) (0.16.0)\n",
            "Installing collected packages: lightgbm\n",
            "Successfully installed lightgbm-3.2.1\n"
          ]
        }
      ]
    },
    {
      "cell_type": "code",
      "metadata": {
        "id": "leDdPEz2Jncg"
      },
      "source": [
        "# import lightgbm as lgb"
      ],
      "execution_count": null,
      "outputs": []
    },
    {
      "cell_type": "code",
      "metadata": {
        "id": "nu6CBgs1Qdi1",
        "outputId": "71ab7339-8eac-463d-82f1-d140c0d18a06"
      },
      "source": [
        "!pip install hyperopt"
      ],
      "execution_count": null,
      "outputs": [
        {
          "name": "stdout",
          "output_type": "stream",
          "text": [
            "Collecting hyperopt\n",
            "  Downloading hyperopt-0.2.5-py2.py3-none-any.whl (965 kB)\n",
            "Requirement already satisfied: six in c:\\users\\vrtrix\\anaconda3\\envs\\tensorflow_gpu\\lib\\site-packages (from hyperopt) (1.15.0)\n",
            "Collecting networkx>=2.2\n",
            "  Downloading networkx-2.5.1-py3-none-any.whl (1.6 MB)\n",
            "Collecting cloudpickle\n",
            "  Downloading cloudpickle-1.6.0-py3-none-any.whl (23 kB)\n",
            "Requirement already satisfied: tqdm in c:\\users\\vrtrix\\anaconda3\\envs\\tensorflow_gpu\\lib\\site-packages (from hyperopt) (4.57.0)\n",
            "Collecting future\n",
            "  Downloading future-0.18.2.tar.gz (829 kB)\n",
            "Requirement already satisfied: scipy in c:\\users\\vrtrix\\anaconda3\\envs\\tensorflow_gpu\\lib\\site-packages (from hyperopt) (1.5.2)\n",
            "Requirement already satisfied: numpy in c:\\users\\vrtrix\\anaconda3\\envs\\tensorflow_gpu\\lib\\site-packages (from hyperopt) (1.19.2)\n",
            "Requirement already satisfied: decorator<5,>=4.3 in c:\\users\\vrtrix\\anaconda3\\envs\\tensorflow_gpu\\lib\\site-packages (from networkx>=2.2->hyperopt) (4.4.2)\n",
            "Building wheels for collected packages: future\n",
            "  Building wheel for future (setup.py): started\n",
            "  Building wheel for future (setup.py): finished with status 'done'\n",
            "  Created wheel for future: filename=future-0.18.2-py3-none-any.whl size=491062 sha256=ea5558d3c045ab917c46576af7dce82e644061f71521176ea5745a6541d76144\n",
            "  Stored in directory: c:\\users\\vrtrix\\appdata\\local\\pip\\cache\\wheels\\56\\b0\\fe\\4410d17b32f1f0c3cf54cdfb2bc04d7b4b8f4ae377e2229ba0\n",
            "Successfully built future\n",
            "Installing collected packages: networkx, cloudpickle, future, hyperopt\n",
            "Successfully installed cloudpickle-1.6.0 future-0.18.2 hyperopt-0.2.5 networkx-2.5.1\n"
          ]
        }
      ]
    },
    {
      "cell_type": "code",
      "metadata": {
        "id": "IZYFOvU8Qdi1"
      },
      "source": [
        ""
      ],
      "execution_count": null,
      "outputs": []
    },
    {
      "cell_type": "code",
      "metadata": {
        "id": "yvhEMkyZQdi2"
      },
      "source": [
        "def gb_mse_cv(space):\n",
        "    model = lgb.LGBMClassifier(n_estimators = int(space['n_estimators']),\n",
        "                             max_depth = int(space['max_depth']),\n",
        "                             learning_rate= space['learning_rate'],                              \n",
        "                              num_leaves= int(space['num_leaves']),\n",
        "                              reg_alpha = space['reg_alpha'],\n",
        "                              reg_lambda = space['reg_lambda'],\n",
        "                              colsample_bytree = space['colsample_bytree'],\n",
        "                              min_child_weight = space['min_child_weight']                              \n",
        "                             )\n",
        "    score = cross_val_score(model, X_train_log, y_train, cv=10, scoring= \"roc_auc\").mean()\n",
        "    return score"
      ],
      "execution_count": null,
      "outputs": []
    },
    {
      "cell_type": "code",
      "metadata": {
        "id": "rVu87_C8Qdi2",
        "outputId": "3399b720-7279-458d-c7eb-f055681eb810"
      },
      "source": [
        "%%time\n",
        "space = {'n_estimators': hp.quniform('n_estimators', 100,200,1),\n",
        "         'max_depth': hp.quniform(\"max_depth\", 2,8,1),\n",
        "         'learning_rate': hp.loguniform(\"learning_rate\", -4,-1),\n",
        "#          'gamma': hp.quniform('gamma',0.1,0.5, 0.1),\n",
        "         'num_leaves': hp.quniform('num_leaves', 30,50,1),\n",
        "         'reg_alpha':hp.quniform('reg_alpha',1.1,1.5,0.1),\n",
        "         'reg_lambda':hp.uniform('reg_lambda',1.1,1.5),\n",
        "         'colsample_bytree':hp.uniform('colsample_bytree', 0.1,0.5),\n",
        "         'min_child_weight': hp.quniform('min_child_weight', 0,10,1)}\n",
        "\n",
        "trials = Trials()\n",
        "\n",
        "best= fmin(fn=gb_mse_cv,\n",
        "          space=space,\n",
        "          algo= tpe.suggest,\n",
        "          max_evals= 20,\n",
        "          trials= trials\n",
        "          )"
      ],
      "execution_count": null,
      "outputs": [
        {
          "name": "stdout",
          "output_type": "stream",
          "text": [
            "100%|██████████| 20/20 [17:54<00:00, 53.74s/trial, best loss: -0.9620168403322532]\n",
            "Wall time: 17min 54s\n"
          ]
        }
      ]
    },
    {
      "cell_type": "code",
      "metadata": {
        "id": "YYTrrUOaQdi2",
        "outputId": "2d3579fe-63ed-4f84-ea93-84b0161560b9"
      },
      "source": [
        "print(\"the best Hyperparameters are: \",\"\\n\" )\n",
        "print(best)"
      ],
      "execution_count": null,
      "outputs": [
        {
          "name": "stdout",
          "output_type": "stream",
          "text": [
            "the best Hyperparameters are:  \n",
            "\n",
            "{'colsample_bytree': 0.4946318706719163, 'learning_rate': 0.3170029409002925, 'max_depth': 7.0, 'min_child_weight': 2.0, 'n_estimators': 136.0, 'num_leaves': 43.0, 'reg_alpha': 1.2000000000000002, 'reg_lambda': 1.3087826920983168}\n"
          ]
        }
      ]
    },
    {
      "cell_type": "code",
      "metadata": {
        "id": "6Oo2ksjfQdi2",
        "outputId": "dbe9282d-f9fa-460e-f59f-93b9d758a519"
      },
      "source": [
        "model = lgb.LGBMClassifier(n_estimators = int(best['n_estimators']),\n",
        "                             max_depth = int(best['max_depth']),\n",
        "                             learning_rate= best['learning_rate'],                              \n",
        "                              num_leaves= int(best['num_leaves']),\n",
        "                              reg_alpha = best['reg_alpha'],\n",
        "                              reg_lambda = best['reg_lambda'],\n",
        "                              colsample_bytree = best['colsample_bytree'],\n",
        "                              min_child_weight = best['min_child_weight']                              \n",
        "                             )\n",
        "model.fit(X_train_log, y_train)\n",
        "\n"
      ],
      "execution_count": null,
      "outputs": [
        {
          "data": {
            "text/plain": [
              "LGBMClassifier(colsample_bytree=0.4946318706719163,\n",
              "               learning_rate=0.3170029409002925, max_depth=7,\n",
              "               min_child_weight=2.0, n_estimators=136, num_leaves=43,\n",
              "               reg_alpha=1.2000000000000002, reg_lambda=1.3087826920983168)"
            ]
          },
          "execution_count": 42,
          "metadata": {
            "tags": []
          },
          "output_type": "execute_result"
        }
      ]
    },
    {
      "cell_type": "code",
      "metadata": {
        "id": "gO4Kuu9mQdi3"
      },
      "source": [
        "filename = 'LGBMLOG_model.pkl'\n",
        "pickle.dump(model, open(filename, 'wb'))"
      ],
      "execution_count": null,
      "outputs": []
    },
    {
      "cell_type": "code",
      "metadata": {
        "id": "o738OXp0Qdi3"
      },
      "source": [
        "filename = 'LGBMLOG_model.pkl'\n",
        "\n",
        "modelLgbm = pickle.load(open(filename, 'rb'))"
      ],
      "execution_count": null,
      "outputs": []
    },
    {
      "cell_type": "code",
      "metadata": {
        "colab": {
          "base_uri": "https://localhost:8080/",
          "height": 330
        },
        "id": "wxJV6_pHQdi3",
        "outputId": "8d1aa9f3-7a7e-4208-d4c5-c8b26f43fefa"
      },
      "source": [
        "%%time\n",
        "lr_probs = modelLgbm.predict_proba(X_test_log)\n",
        "lr_probs = lr_probs[:, 1]\n",
        "lr_auc = roc_auc_score(y_test, lr_probs)\n",
        "print('LGBM: ROC AUC=%.3f' % (lr_auc))\n",
        "lr_fpr, lr_tpr, _ = roc_curve(y_test, lr_probs)\n",
        "pyplot.plot(lr_fpr, lr_tpr, marker='.', label='LGBM')\n",
        "pyplot.xlabel('False Positive Rate')\n",
        "pyplot.ylabel('True Positive Rate')\n",
        "pyplot.legend()\n",
        "pyplot.show()"
      ],
      "execution_count": null,
      "outputs": [
        {
          "name": "stdout",
          "output_type": "stream",
          "text": [
            "DT: ROC AUC=0.962\n"
          ]
        },
        {
          "data": {
            "image/png": "[encoded data removed]",
            "text/plain": [
              "<Figure size 432x288 with 1 Axes>"
            ]
          },
          "metadata": {
            "tags": []
          },
          "output_type": "display_data"
        },
        {
          "name": "stdout",
          "output_type": "stream",
          "text": [
            "Wall time: 766 ms\n"
          ]
        }
      ]
    },
    {
      "cell_type": "code",
      "metadata": {
        "id": "yb2v11x5Qdi3"
      },
      "source": [
        ""
      ],
      "execution_count": null,
      "outputs": []
    },
    {
      "cell_type": "code",
      "metadata": {
        "colab": {
          "base_uri": "https://localhost:8080/",
          "height": 330
        },
        "id": "gTTvJl13Qdi3",
        "outputId": "75c93283-3843-4a9c-d742-0cad6ca635ec"
      },
      "source": [
        "%%time\n",
        "lr_probs = modelLgbm.predict_proba(X_test_log)\n",
        "lr_probs = lr_probs[:, 1]\n",
        "yhat = modelLgbm.predict(X_test_log)\n",
        "lr_precision, lr_recall, _ = precision_recall_curve(y_test, lr_probs)\n",
        "lr_f1, lr_auc = f1_score(y_test, yhat), auc(lr_recall, lr_precision)\n",
        "print('LGBM: f1=%.3f auc=%.3f' % (lr_f1, lr_auc))\n",
        "no_skill = len(y_test[y_test==1]) / len(y_test)\n",
        "pyplot.plot([0, 1], [no_skill, no_skill], linestyle='--', label='No Skill')\n",
        "pyplot.plot(lr_recall, lr_precision, marker='.', label='LGBM')\n",
        "pyplot.xlabel('Recall')\n",
        "pyplot.ylabel('Precision')\n",
        "pyplot.legend()\n",
        "pyplot.show()"
      ],
      "execution_count": null,
      "outputs": [
        {
          "name": "stdout",
          "output_type": "stream",
          "text": [
            "DT: f1=0.189 auc=0.309\n"
          ]
        },
        {
          "data": {
            "image/png": "[encoded data removed]",
            "text/plain": [
              "<Figure size 432x288 with 1 Axes>"
            ]
          },
          "metadata": {
            "tags": []
          },
          "output_type": "display_data"
        },
        {
          "name": "stdout",
          "output_type": "stream",
          "text": [
            "Wall time: 1.3 s\n"
          ]
        }
      ]
    },
    {
      "cell_type": "code",
      "metadata": {
        "id": "h5x2AejuQdi3"
      },
      "source": [
        ""
      ],
      "execution_count": null,
      "outputs": []
    },
    {
      "cell_type": "markdown",
      "metadata": {
        "id": "ZPfhF0xUQdi8"
      },
      "source": [
        "## GassuianNB"
      ]
    },
    {
      "cell_type": "code",
      "metadata": {
        "id": "owFIq8naQdi8"
      },
      "source": [
        ""
      ],
      "execution_count": null,
      "outputs": []
    },
    {
      "cell_type": "code",
      "metadata": {
        "id": "qTHDXUOjQdi8"
      },
      "source": [
        "%%time\n",
        "model = GaussianNB()\n",
        "parameters =  {'var_smoothing': np.logspace(0,-9, num=100)}\n",
        "clf = GridSearchCV(model, parameters,scoring = 'roc_auc',verbose=10 )\n",
        "nb = clf.fit(X_train_log, y_train)\n",
        "print(\"Best Params : \" , nb.best_params_)\n",
        "print(\"Best Score : \" , nb.best_score_)"
      ],
      "execution_count": null,
      "outputs": []
    },
    {
      "cell_type": "code",
      "metadata": {
        "colab": {
          "base_uri": "https://localhost:8080/"
        },
        "id": "NpKTd7vYQdi8",
        "outputId": "2373225d-ee87-478b-a860-f0454ab1d5f1"
      },
      "source": [
        "%%time\n",
        "model = GaussianNB(var_smoothing=nb.best_params_['var_smoothing'])\n",
        "                               \n",
        "model.fit(X_train_log, y_train)"
      ],
      "execution_count": null,
      "outputs": [
        {
          "name": "stdout",
          "output_type": "stream",
          "text": [
            "Wall time: 515 ms\n"
          ]
        },
        {
          "data": {
            "text/plain": [
              "GaussianNB(var_smoothing=0.0004328761281083057)"
            ]
          },
          "execution_count": 60,
          "metadata": {
            "tags": []
          },
          "output_type": "execute_result"
        }
      ]
    },
    {
      "cell_type": "code",
      "metadata": {
        "id": "4ZanMQO2Qdi8"
      },
      "source": [
        "filename = 'NBwithLOG_model.pkl'\n",
        "pickle.dump(model, open(filename, 'wb'))"
      ],
      "execution_count": null,
      "outputs": []
    },
    {
      "cell_type": "code",
      "metadata": {
        "id": "XltsoAXYQdi9",
        "outputId": "92190036-46ab-49bb-a723-79b52514c0d4"
      },
      "source": [
        ""
      ],
      "execution_count": null,
      "outputs": [
        {
          "name": "stderr",
          "output_type": "stream",
          "text": [
            "'sudo' is not recognized as an internal or external command,\n",
            "operable program or batch file.\n"
          ]
        }
      ]
    },
    {
      "cell_type": "code",
      "metadata": {
        "id": "oxTFZEcVQdi9"
      },
      "source": [
        "filename = 'NBwithLOG_model.pkl'\n",
        "\n",
        "modelNB = pickle.load(open(filename, 'rb'))"
      ],
      "execution_count": null,
      "outputs": []
    },
    {
      "cell_type": "code",
      "metadata": {
        "colab": {
          "base_uri": "https://localhost:8080/",
          "height": 330
        },
        "id": "Ceo6olIlQdi9",
        "outputId": "8d1aa9f3-7a7e-4208-d4c5-c8b26f43fefa"
      },
      "source": [
        "%%time\n",
        "lr_probs = modelNB.predict_proba(X_test_log)\n",
        "lr_probs = lr_probs[:, 1]\n",
        "lr_auc = roc_auc_score(y_test, lr_probs)\n",
        "print('GaussianNB: ROC AUC=%.3f' % (lr_auc))\n",
        "lr_fpr, lr_tpr, _ = roc_curve(y_test, lr_probs)\n",
        "pyplot.plot(lr_fpr, lr_tpr, marker='.', label='GaussianNB')\n",
        "pyplot.xlabel('False Positive Rate')\n",
        "pyplot.ylabel('True Positive Rate')\n",
        "pyplot.legend()\n",
        "pyplot.show()"
      ],
      "execution_count": null,
      "outputs": [
        {
          "name": "stdout",
          "output_type": "stream",
          "text": [
            "GaussianNB: ROC AUC=0.882\n"
          ]
        },
        {
          "data": {
            "image/png": "[encoded data removed]",
            "text/plain": [
              "<Figure size 432x288 with 1 Axes>"
            ]
          },
          "metadata": {
            "tags": []
          },
          "output_type": "display_data"
        },
        {
          "name": "stdout",
          "output_type": "stream",
          "text": [
            "Wall time: 434 ms\n"
          ]
        }
      ]
    },
    {
      "cell_type": "code",
      "metadata": {
        "id": "yx6aLuZsQdi9"
      },
      "source": [
        ""
      ],
      "execution_count": null,
      "outputs": []
    },
    {
      "cell_type": "code",
      "metadata": {
        "colab": {
          "base_uri": "https://localhost:8080/",
          "height": 330
        },
        "id": "ig5IF08RQdi9",
        "outputId": "75c93283-3843-4a9c-d742-0cad6ca635ec"
      },
      "source": [
        "%%time\n",
        "lr_probs = modelNB.predict_proba(X_test_log)\n",
        "lr_probs = lr_probs[:, 1]\n",
        "yhat = modelNB.predict(X_test_log)\n",
        "lr_precision, lr_recall, _ = precision_recall_curve(y_test, lr_probs)\n",
        "lr_f1, lr_auc = f1_score(y_test, yhat), auc(lr_recall, lr_precision)\n",
        "print('GaussianNB: f1=%.3f auc=%.3f' % (lr_f1, lr_auc))\n",
        "no_skill = len(y_test[y_test==1]) / len(y_test)\n",
        "pyplot.plot([0, 1], [no_skill, no_skill], linestyle='--', label='No Skill')\n",
        "pyplot.plot(lr_recall, lr_precision, marker='.', label='GaussianNB')\n",
        "pyplot.xlabel('Recall')\n",
        "pyplot.ylabel('Precision')\n",
        "pyplot.legend()\n",
        "pyplot.show()"
      ],
      "execution_count": null,
      "outputs": [
        {
          "name": "stdout",
          "output_type": "stream",
          "text": [
            "GaussianNB: f1=0.101 auc=0.076\n"
          ]
        },
        {
          "data": {
            "image/png": "[encoded data removed]",
            "text/plain": [
              "<Figure size 432x288 with 1 Axes>"
            ]
          },
          "metadata": {
            "tags": []
          },
          "output_type": "display_data"
        },
        {
          "name": "stdout",
          "output_type": "stream",
          "text": [
            "Wall time: 751 ms\n"
          ]
        }
      ]
    },
    {
      "cell_type": "code",
      "metadata": {
        "id": "5wnJO_FLQdi9",
        "outputId": "67142400-5763-42ee-cf52-ec4a3bdf4dc5"
      },
      "source": [
        "!pip install PrettyTable"
      ],
      "execution_count": null,
      "outputs": [
        {
          "name": "stdout",
          "output_type": "stream",
          "text": [
            "Requirement already satisfied: PrettyTable in c:\\users\\vrtrix\\anaconda3\\envs\\tensorflow_gpu\\lib\\site-packages (2.1.0)\n",
            "Requirement already satisfied: wcwidth in c:\\users\\vrtrix\\anaconda3\\envs\\tensorflow_gpu\\lib\\site-packages (from PrettyTable) (0.2.5)\n",
            "Requirement already satisfied: importlib-metadata; python_version < \"3.8\" in c:\\users\\vrtrix\\anaconda3\\envs\\tensorflow_gpu\\lib\\site-packages (from PrettyTable) (1.7.0)\n",
            "Requirement already satisfied: zipp>=0.5 in c:\\users\\vrtrix\\anaconda3\\envs\\tensorflow_gpu\\lib\\site-packages (from importlib-metadata; python_version < \"3.8\"->PrettyTable) (3.1.0)\n"
          ]
        }
      ]
    },
    {
      "cell_type": "code",
      "metadata": {
        "id": "WQadl3bzQdi-"
      },
      "source": [
        ""
      ],
      "execution_count": null,
      "outputs": []
    },
    {
      "cell_type": "markdown",
      "metadata": {
        "id": "qoMVXnmD4k6Y"
      },
      "source": [
        "## Custom ensembel 1\n"
      ]
    },
    {
      "cell_type": "code",
      "metadata": {
        "id": "i1SYvZeA4k6Z"
      },
      "source": [
        "\n",
        "data_y = data['went_on_backorder']\n",
        "X_train, X_test, y_train, y_test = train_test_split(data.drop(['went_on_backorder'], axis=1), data_y , random_state = 42 , stratify=data_y,test_size=0.20)\n",
        "X_train1, X_train2, y_train1, y_train2 = train_test_split(X_train, y_train,random_state = 42 ,stratify=y_train,test_size=0.50)"
      ],
      "execution_count": null,
      "outputs": []
    },
    {
      "cell_type": "code",
      "metadata": {
        "id": "hLuEWaaP4k6Z",
        "outputId": "5d118526-1c35-48b4-9619-1fa5d6f25f49"
      },
      "source": [
        "imp = IterativeImputer(max_iter=10, random_state=0)\n",
        "imp.fit(X_train1)"
      ],
      "execution_count": null,
      "outputs": [
        {
          "data": {
            "text/plain": [
              "IterativeImputer(random_state=0)"
            ]
          },
          "execution_count": 8,
          "metadata": {
            "tags": []
          },
          "output_type": "execute_result"
        }
      ]
    },
    {
      "cell_type": "code",
      "metadata": {
        "id": "6gp3kPDx4k6Z"
      },
      "source": [
        "\n",
        "X_train1 = imp.transform(X_train1)\n",
        "X_test = imp.transform(X_test)\n",
        "X_train2 = imp.transform(X_train2)"
      ],
      "execution_count": null,
      "outputs": []
    },
    {
      "cell_type": "code",
      "metadata": {
        "id": "vm5ohDMw4k6Z"
      },
      "source": [
        "num_features = ['national_inv' , 'in_transit_qty' , 'forecast_3_month','forecast_6_month','forecast_9_month' , 'sales_1_month','sales_3_month','sales_6_month','sales_9_month' , 'min_bank','pieces_past_due','local_bo_qty']"
      ],
      "execution_count": null,
      "outputs": []
    },
    {
      "cell_type": "markdown",
      "metadata": {
        "id": "Yfz5rixq4k6a"
      },
      "source": [
        "## Log transform"
      ]
    },
    {
      "cell_type": "code",
      "metadata": {
        "id": "xoc8V5_Q4k6a"
      },
      "source": [
        "# Copying data to try and apply log transform \n",
        "X_train1_log, X_train2_log,X_test_log, y_train1_log, y_train2_log , y_test_log = X_train1, X_train2,X_test, y_train1, y_train2 , y_test\n"
      ],
      "execution_count": null,
      "outputs": []
    },
    {
      "cell_type": "code",
      "metadata": {
        "colab": {
          "base_uri": "https://localhost:8080/"
        },
        "id": "9IOUw_zr4k6a",
        "outputId": "733d0f95-f31b-4026-d0a6-6a3d7fd6e2d9"
      },
      "source": [
        "skewed_features = ['national_inv' , 'in_transit_qty' , 'forecast_3_month','forecast_6_month','forecast_9_month' , 'sales_1_month','sales_3_month','sales_6_month','sales_9_month' , 'min_bank','pieces_past_due','local_bo_qty']\n",
        "log_columns = []\n",
        "for i in skewed_features:\n",
        "  log_columns.append(X_train.columns.get_loc(i))\n",
        "log_columns"
      ],
      "execution_count": null,
      "outputs": [
        {
          "data": {
            "text/plain": [
              "[0, 2, 3, 4, 5, 6, 7, 8, 9, 10, 12, 15]"
            ]
          },
          "execution_count": 12,
          "metadata": {
            "tags": []
          },
          "output_type": "execute_result"
        }
      ]
    },
    {
      "cell_type": "code",
      "metadata": {
        "id": "dFtLXE_w4k6a"
      },
      "source": [
        "def log_transform(a):\n",
        "  # print(a[log_columns])\n",
        "  sign = np.sign(a[log_columns])\n",
        "  # print(sign)\n",
        "  a[log_columns] =  np.log(1.0+abs(a[log_columns]))*sign\n",
        "\n",
        "  return a"
      ],
      "execution_count": null,
      "outputs": []
    },
    {
      "cell_type": "code",
      "metadata": {
        "colab": {
          "base_uri": "https://localhost:8080/"
        },
        "id": "41EjQf6k4k6a",
        "outputId": "6f4dbf31-08c5-46f5-9681-afbdb38edb56"
      },
      "source": [
        "%%time\n",
        "X_train1_log = np.apply_along_axis(log_transform, 1, X_train1_log)\n",
        "X_train2_log = np.apply_along_axis(log_transform, 1, X_train2_log)\n",
        "X_test_log = np.apply_along_axis(log_transform, 1, X_test_log)\n"
      ],
      "execution_count": null,
      "outputs": [
        {
          "name": "stdout",
          "output_type": "stream",
          "text": [
            "Wall time: 24.7 s\n"
          ]
        }
      ]
    },
    {
      "cell_type": "code",
      "metadata": {
        "id": "KnjrZ0BW4k6a"
      },
      "source": [
        ""
      ],
      "execution_count": null,
      "outputs": []
    },
    {
      "cell_type": "markdown",
      "metadata": {
        "id": "2BXqUVum4k6a"
      },
      "source": [
        "Standard scaler"
      ]
    },
    {
      "cell_type": "code",
      "metadata": {
        "id": "dK8Bi30y4k6a"
      },
      "source": [
        "scaler = StandardScaler().fit(X_train1_log)\n",
        "X_train1_log = scaler.transform(X_train1_log)\n",
        "X_train2_log = scaler.transform(X_train2_log)\n",
        "X_test_log = scaler.transform(X_test_log)"
      ],
      "execution_count": null,
      "outputs": []
    },
    {
      "cell_type": "code",
      "metadata": {
        "id": "wTEXy2Nx4k6b"
      },
      "source": [
        ""
      ],
      "execution_count": null,
      "outputs": []
    },
    {
      "cell_type": "code",
      "metadata": {
        "id": "xmtKdSzJ4k6b"
      },
      "source": [
        "BLAG_base = BalancedBaggingClassifier(n_estimators = 1000, n_jobs=-1)\n",
        "DT = DecisionTreeClassifier(class_weight='balanced', random_state=22,criterion= 'entropy', max_depth= 7, min_samples_leaf=1, min_samples_split=2)\n",
        "# DT_meta =DecisionTreeClassifier()\n",
        "BLAG_meta = BalancedBaggingClassifier( n_jobs=-1)\n",
        "\n",
        "LR_meta = LogisticRegression(n_jobs = -1)\n",
        "GNB= GaussianNB(var_smoothing=0.0004328761281083057)\n",
        "LGBM = lgbm.LGBMClassifier(colsample_bytree=0.4946318706719163,\n",
        "               learning_rate=0.3170029409002925, max_depth=7,\n",
        "               min_child_weight=2.0, n_estimators=136, num_leaves=43,\n",
        "               reg_alpha=1.2000000000000002, reg_lambda=1.3087826920983168)\n",
        "RF_base=RandomForestClassifier(bootstrap=True, ccp_alpha=0.0,\n",
        "                       class_weight='balanced_subsample', criterion='gini',\n",
        "                       max_depth=7, max_features='auto', max_leaf_nodes=None,\n",
        "                       max_samples=None, min_impurity_decrease=0.0,\n",
        "                       min_impurity_split=None, min_samples_leaf=1,\n",
        "                       min_samples_split=2, min_weight_fraction_leaf=0.0,\n",
        "                       n_estimators=1000, n_jobs=-1, oob_score=False,\n",
        "                       random_state=None, verbose=0, warm_start=False)\n",
        "CatBoost_base =catboost.CatBoostClassifier(\n",
        "                                    loss_function='Logloss',\n",
        "                                    use_best_model=False,\n",
        "                                    task_type=\"GPU\",                                    \n",
        "                                    early_stopping_rounds=500,\n",
        "                                    od_type=\"Iter\",\n",
        "                                    verbose=2000,\n",
        "                                    border_count= 245, \n",
        "                                    depth= 5.0, \n",
        "                                    l2_leaf_reg= 7.585550468897254,\n",
        "                                    learning_rate=0.06124494852288338\n",
        "                                    )\n",
        "XGB = XGBClassifier(learning_rate =0.1, n_estimators=1000, max_depth=18,\n",
        " min_child_weight=1, gamma=0.1, subsample=0.9, colsample_bytree=0.6,\n",
        " objective= 'binary:logistic', nthread=4, scale_pos_weight=1, seed=27)"
      ],
      "execution_count": null,
      "outputs": []
    },
    {
      "cell_type": "code",
      "metadata": {
        "id": "q70YEVlR4k6b"
      },
      "source": [
        "class custom_ensemble1:\n",
        "\n",
        "  def __init__(self,base_models,meta_model,number_of_splits):\n",
        "\n",
        "    self.base_models = base_models\n",
        "#     self.base_model2 = base_model2\n",
        "    \n",
        "    self.meta_model = meta_model\n",
        "    self.number_of_splits = number_of_splits\n",
        "#     self.bootstrap_size = bootstrap_size\n",
        "  \n",
        "  def split_dataset(self,X,y):\n",
        "\n",
        "    X_samples = []\n",
        "    y_samples = []\n",
        "\n",
        "    \n",
        "    for i in range(self.number_of_splits): \n",
        "      subsample = []\n",
        "      lst = [0,1]\n",
        "      for j in lst:\n",
        "        samples = np.where(y.values==j)[0]\n",
        "        index_range = range(samples.shape[0])\n",
        "        indexes = np.random.choice(index_range, size=int(len(X)/(self.number_of_splits*2)), replace=True)\n",
        "        subsample.extend(samples[indexes])\n",
        "      X_samples.append(X[subsample])\n",
        "      y_samples.append(y.values[subsample])\n",
        "    \n",
        "    return X_samples , y_samples\n",
        "\n",
        "  def base_models_fit(self,X_samples,y_samples):\n",
        "        \n",
        "        weak_learners = []\n",
        "        models = self.base_models\n",
        "        for i in range(len(models)):\n",
        "            curr_model = models[i]\n",
        "            weak_learners.append(curr_model.fit(X_samples[i],y_samples[i]))\n",
        "        return weak_learners\n",
        "\n",
        "\n",
        "  def create_meta_dataset(self,weak_learners , X_train2 , y_train2):\n",
        "\n",
        "    meta_x = []\n",
        "    meta_y = []\n",
        "\n",
        "    \n",
        "    for j in range(len(weak_learners)):\n",
        "        pred = weak_learners[j].predict(X_train2)\n",
        "        meta_x.append(pred)\n",
        "        meta_y.append(np.array(y_train2))\n",
        "    print(meta_x) \n",
        "    meta_data_x = np.array(list(zip(*meta_x)))\n",
        "    \n",
        "    return meta_data_x,meta_y[0]\n",
        "  \n",
        "  def meta_model_fit(self,meta_x,meta_y):\n",
        "    \n",
        "    \n",
        "       \n",
        "    model = self.meta_model.fit(meta_x, meta_y)\n",
        "    print(meta_y.shape)\n",
        "    print(meta_y)\n",
        "    pred = model.predict(meta_x)\n",
        "    print(pred)\n",
        "    print(\"ROC-AUC score after fitting meta model : \" , roc_auc_score(meta_y, pred))\n",
        "    return model"
      ],
      "execution_count": null,
      "outputs": []
    },
    {
      "cell_type": "code",
      "metadata": {
        "id": "YjDxcRt34k6b"
      },
      "source": [
        "custom_model = custom_ensemble1([BLAG_base,RF_base,XGB,CatBoost_base,LGBM,DT],LR_meta,6)\n",
        "# custom_model = custom_ensemble1([BLAG_base,RF_base,XGB,CatBoost_base,LGBM],DT,5) Pr-Re Auc - 0.405\n",
        "\n"
      ],
      "execution_count": null,
      "outputs": []
    },
    {
      "cell_type": "code",
      "metadata": {
        "id": "C3_6NPuz4k6b"
      },
      "source": [
        "D1_X,D1_y = custom_model.split_dataset(X_train1_log,y_train1)\n"
      ],
      "execution_count": null,
      "outputs": []
    },
    {
      "cell_type": "code",
      "metadata": {
        "id": "g--3WP7L4k6b",
        "outputId": "923dd316-1737-438a-800b-bd033f3086f4"
      },
      "source": [
        "%%time\n",
        "base_learners = custom_model.base_models_fit(D1_X,D1_y)\n"
      ],
      "execution_count": null,
      "outputs": [
        {
          "name": "stdout",
          "output_type": "stream",
          "text": [
            "[17:11:33] WARNING: C:/Users/Administrator/workspace/xgboost-win64_release_1.4.0/src/learner.cc:1095: Starting in XGBoost 1.3.0, the default evaluation metric used with the objective 'binary:logistic' was changed from 'error' to 'logloss'. Explicitly set eval_metric if you'd like to restore the old behavior.\n",
            "0:\tlearn: 0.6468199\ttotal: 6.7ms\tremaining: 6.7s\n",
            "999:\tlearn: 0.1814738\ttotal: 6.21s\tremaining: 0us\n",
            "Wall time: 4min 56s\n"
          ]
        }
      ]
    },
    {
      "cell_type": "code",
      "metadata": {
        "id": "wbPM2Dj64k6c",
        "outputId": "1ef2393e-cc02-4369-ccba-b34bfd797cd1"
      },
      "source": [
        "base_learners"
      ],
      "execution_count": null,
      "outputs": [
        {
          "data": {
            "text/plain": [
              "[BalancedBaggingClassifier(n_estimators=1000, n_jobs=-1),\n",
              " RandomForestClassifier(class_weight='balanced_subsample', max_depth=7,\n",
              "                        n_estimators=1000, n_jobs=-1),\n",
              " XGBClassifier(base_score=0.5, booster='gbtree', colsample_bylevel=1,\n",
              "               colsample_bynode=1, colsample_bytree=0.6, gamma=0.1, gpu_id=-1,\n",
              "               importance_type='gain', interaction_constraints='',\n",
              "               learning_rate=0.1, max_delta_step=0, max_depth=18,\n",
              "               min_child_weight=1, missing=nan, monotone_constraints='()',\n",
              "               n_estimators=1000, n_jobs=4, nthread=4, num_parallel_tree=1,\n",
              "               random_state=27, reg_alpha=0, reg_lambda=1, scale_pos_weight=1,\n",
              "               seed=27, subsample=0.9, tree_method='exact',\n",
              "               validate_parameters=1, verbosity=None),\n",
              " <catboost.core.CatBoostClassifier at 0x221004744c8>,\n",
              " LGBMClassifier(colsample_bytree=0.4946318706719163,\n",
              "                learning_rate=0.3170029409002925, max_depth=7,\n",
              "                min_child_weight=2.0, n_estimators=136, num_leaves=43,\n",
              "                reg_alpha=1.2000000000000002, reg_lambda=1.3087826920983168),\n",
              " DecisionTreeClassifier(class_weight='balanced', criterion='entropy',\n",
              "                        max_depth=7, random_state=22)]"
            ]
          },
          "execution_count": 40,
          "metadata": {
            "tags": []
          },
          "output_type": "execute_result"
        }
      ]
    },
    {
      "cell_type": "code",
      "metadata": {
        "id": "XGoutZjQ4k6c",
        "outputId": "2cb557d5-2a44-4560-c558-c906a39da670"
      },
      "source": [
        "%%time\n",
        "D2_X,D2_y = custom_model.create_meta_dataset(base_learners,X_train2_log,y_train2)"
      ],
      "execution_count": null,
      "outputs": [
        {
          "name": "stdout",
          "output_type": "stream",
          "text": [
            "[array([0, 0, 0, ..., 0, 0, 0]), array([0, 0, 0, ..., 0, 1, 0]), array([0, 0, 0, ..., 0, 0, 0]), array([0, 0, 0, ..., 0, 1, 0], dtype=int64), array([0, 0, 0, ..., 0, 0, 0]), array([0, 0, 0, ..., 0, 1, 0])]\n",
            "Wall time: 2min 7s\n"
          ]
        }
      ]
    },
    {
      "cell_type": "code",
      "metadata": {
        "id": "LJzsW03H4k6c",
        "outputId": "4f68f1b8-410e-4d8c-a0ff-449b0ac25aa2"
      },
      "source": [
        "D2_X.shape"
      ],
      "execution_count": null,
      "outputs": [
        {
          "data": {
            "text/plain": [
              "(675144, 6)"
            ]
          },
          "execution_count": 42,
          "metadata": {
            "tags": []
          },
          "output_type": "execute_result"
        }
      ]
    },
    {
      "cell_type": "code",
      "metadata": {
        "id": "lXNYjnjX4k6c",
        "outputId": "8fe97d8a-d597-4555-9842-74453ce9ec0c"
      },
      "source": [
        "D2_y.shape"
      ],
      "execution_count": null,
      "outputs": [
        {
          "data": {
            "text/plain": [
              "(675144,)"
            ]
          },
          "execution_count": 43,
          "metadata": {
            "tags": []
          },
          "output_type": "execute_result"
        }
      ]
    },
    {
      "cell_type": "code",
      "metadata": {
        "id": "NfED9scM4k6c"
      },
      "source": [
        ""
      ],
      "execution_count": null,
      "outputs": []
    },
    {
      "cell_type": "code",
      "metadata": {
        "id": "YJfJjXEd4k6c",
        "outputId": "ac77bb09-2fc3-493d-cdda-016972d1d149"
      },
      "source": [
        "%%time\n",
        "meta_model_final = custom_model.meta_model_fit(D2_X,D2_y)"
      ],
      "execution_count": null,
      "outputs": [
        {
          "name": "stdout",
          "output_type": "stream",
          "text": [
            "(675144,)\n",
            "[0 0 0 ... 0 0 0]\n",
            "[0 0 0 ... 0 0 0]\n",
            "ROC-AUC score after fitting meta model :  0.5\n",
            "Wall time: 2.02 s\n"
          ]
        }
      ]
    },
    {
      "cell_type": "code",
      "metadata": {
        "id": "SKvZr3qU4k6d"
      },
      "source": [
        "filename = 'CE_model.pkl'\n",
        "pickle.dump(meta_model_final, open(filename, 'wb'))"
      ],
      "execution_count": null,
      "outputs": []
    },
    {
      "cell_type": "code",
      "metadata": {
        "id": "XwHokm0C4k6d",
        "outputId": "92190036-46ab-49bb-a723-79b52514c0d4"
      },
      "source": [
        ""
      ],
      "execution_count": null,
      "outputs": [
        {
          "name": "stderr",
          "output_type": "stream",
          "text": [
            "'sudo' is not recognized as an internal or external command,\n",
            "operable program or batch file.\n"
          ]
        }
      ]
    },
    {
      "cell_type": "code",
      "metadata": {
        "id": "6yLTj3Nj4k6d"
      },
      "source": [
        "filename = 'CE_model.pkl'\n",
        "\n",
        "modelCE = pickle.load(open(filename, 'rb'))"
      ],
      "execution_count": null,
      "outputs": []
    },
    {
      "cell_type": "code",
      "metadata": {
        "id": "cwkLAO2z4k6d"
      },
      "source": [
        "\n",
        "D2_X,D2_y = [] , []"
      ],
      "execution_count": null,
      "outputs": []
    },
    {
      "cell_type": "code",
      "metadata": {
        "id": "M6ioIvmc4k6d",
        "outputId": "0f86eead-9c28-4901-f4ce-44d9b454b684"
      },
      "source": [
        "%%time\n",
        "test_X,test_y = custom_model.create_meta_dataset(base_learners,X_test_log,y_test)"
      ],
      "execution_count": null,
      "outputs": [
        {
          "name": "stdout",
          "output_type": "stream",
          "text": [
            "[array([0, 0, 0, ..., 0, 0, 0]), array([1, 0, 0, ..., 0, 0, 0]), array([0, 0, 0, ..., 0, 0, 0]), array([1, 0, 0, ..., 0, 0, 0], dtype=int64), array([0, 0, 0, ..., 0, 0, 0]), array([1, 0, 0, ..., 0, 1, 0])]\n",
            "Wall time: 1min 4s\n"
          ]
        }
      ]
    },
    {
      "cell_type": "code",
      "metadata": {
        "id": "TV62L_oX4k6d",
        "outputId": "a1399e73-b61f-47e0-c622-1b688ee1b16c"
      },
      "source": [
        "test_X.shape"
      ],
      "execution_count": null,
      "outputs": [
        {
          "data": {
            "text/plain": [
              "(337572, 6)"
            ]
          },
          "execution_count": 49,
          "metadata": {
            "tags": []
          },
          "output_type": "execute_result"
        }
      ]
    },
    {
      "cell_type": "code",
      "metadata": {
        "colab": {
          "base_uri": "https://localhost:8080/",
          "height": 330
        },
        "id": "dDn3Q8Gw4k6d",
        "outputId": "8d1aa9f3-7a7e-4208-d4c5-c8b26f43fefa"
      },
      "source": [
        "%%time\n",
        "lr_probs = modelCE.predict_proba(test_X)\n",
        "lr_probs = lr_probs[:, 1]\n",
        "lr_auc = roc_auc_score(test_y, lr_probs)\n",
        "print('CE: ROC AUC=%.3f' % (lr_auc))\n",
        "lr_fpr, lr_tpr, _ = roc_curve(test_y, lr_probs)\n",
        "pyplot.plot(lr_fpr, lr_tpr, marker='.', label='CE')\n",
        "pyplot.xlabel('False Positive Rate')\n",
        "pyplot.ylabel('True Positive Rate')\n",
        "pyplot.legend()\n",
        "pyplot.show()"
      ],
      "execution_count": null,
      "outputs": [
        {
          "name": "stdout",
          "output_type": "stream",
          "text": [
            "CE: ROC AUC=0.944\n"
          ]
        },
        {
          "data": {
            "image/png": "[encoded data removed]",
            "text/plain": [
              "<Figure size 432x288 with 1 Axes>"
            ]
          },
          "metadata": {
            "tags": []
          },
          "output_type": "display_data"
        },
        {
          "name": "stdout",
          "output_type": "stream",
          "text": [
            "Wall time: 180 ms\n"
          ]
        }
      ]
    },
    {
      "cell_type": "code",
      "metadata": {
        "id": "xhpXT7eu4k6e"
      },
      "source": [
        ""
      ],
      "execution_count": null,
      "outputs": []
    },
    {
      "cell_type": "code",
      "metadata": {
        "colab": {
          "base_uri": "https://localhost:8080/",
          "height": 330
        },
        "id": "opjZ63-F4k6e",
        "outputId": "75c93283-3843-4a9c-d742-0cad6ca635ec"
      },
      "source": [
        "%%time\n",
        "lr_probs = modelCE.predict_proba(test_X)\n",
        "lr_probs = lr_probs[:, 1]\n",
        "yhat = modelCE.predict(test_X)\n",
        "lr_precision, lr_recall, _ = precision_recall_curve(test_y, lr_probs)\n",
        "lr_f1, lr_auc = f1_score(test_y, yhat), auc(lr_recall, lr_precision)\n",
        "print('CE: f1=%.3f auc=%.3f' % (lr_f1, lr_auc))\n",
        "# no_skill = len(test_y[test_y==1]) / len(test_y)\n",
        "# pyplot.plot([0, 1], [no_skill, no_skill], linestyle='--', label='No Skill')\n",
        "pyplot.plot(lr_recall, lr_precision, marker='.', label='CE')\n",
        "pyplot.xlabel('Recall')\n",
        "pyplot.ylabel('Precision')\n",
        "pyplot.legend()\n",
        "pyplot.show()"
      ],
      "execution_count": null,
      "outputs": [
        {
          "name": "stdout",
          "output_type": "stream",
          "text": [
            "CE: f1=0.000 auc=0.402\n"
          ]
        },
        {
          "data": {
            "image/png": "[encoded data removed]",
            "text/plain": [
              "<Figure size 432x288 with 1 Axes>"
            ]
          },
          "metadata": {
            "tags": []
          },
          "output_type": "display_data"
        },
        {
          "name": "stdout",
          "output_type": "stream",
          "text": [
            "Wall time: 201 ms\n"
          ]
        }
      ]
    },
    {
      "cell_type": "code",
      "metadata": {
        "id": "OiuCvSg24k6e"
      },
      "source": [
        ""
      ],
      "execution_count": null,
      "outputs": []
    },
    {
      "cell_type": "code",
      "metadata": {
        "id": "DQ_BQvGp4k6e"
      },
      "source": [
        "# custom_model = custom_ensemble1([BLAG_base,RF_base,XGB,CatBoost_base,DT],LR_meta,5)\n",
        "custom_model = custom_ensemble1([BLAG_base,RF_base,XGB,CatBoost_base,LGBM],DT,5) #Pr-Re Auc - 0.405\n",
        "\n"
      ],
      "execution_count": null,
      "outputs": []
    },
    {
      "cell_type": "code",
      "metadata": {
        "id": "Kve_drab4k6e"
      },
      "source": [
        "D1_X,D1_y = custom_model.split_dataset(X_train1_log,y_train1)\n"
      ],
      "execution_count": null,
      "outputs": []
    },
    {
      "cell_type": "code",
      "metadata": {
        "id": "qgGUVnDE4k6e",
        "outputId": "af46fff1-b0fc-4e46-cf43-a1352d8e9604"
      },
      "source": [
        "%%time\n",
        "base_learners = custom_model.base_models_fit(D1_X,D1_y)\n"
      ],
      "execution_count": null,
      "outputs": [
        {
          "name": "stdout",
          "output_type": "stream",
          "text": [
            "[19:35:24] WARNING: C:/Users/Administrator/workspace/xgboost-win64_release_1.4.0/src/learner.cc:1095: Starting in XGBoost 1.3.0, the default evaluation metric used with the objective 'binary:logistic' was changed from 'error' to 'logloss'. Explicitly set eval_metric if you'd like to restore the old behavior.\n",
            "0:\tlearn: 0.6460471\ttotal: 7.78ms\tremaining: 7.77s\n",
            "999:\tlearn: 0.1847925\ttotal: 6.41s\tremaining: 0us\n",
            "Wall time: 6min 7s\n"
          ]
        }
      ]
    },
    {
      "cell_type": "code",
      "metadata": {
        "id": "8no8Z7Ym4k6e",
        "outputId": "cc640a80-10f6-417c-c97b-90441e0bd102"
      },
      "source": [
        "base_learners"
      ],
      "execution_count": null,
      "outputs": [
        {
          "data": {
            "text/plain": [
              "[BalancedBaggingClassifier(n_estimators=1000, n_jobs=-1),\n",
              " RandomForestClassifier(class_weight='balanced_subsample', max_depth=7,\n",
              "                        n_estimators=1000, n_jobs=-1),\n",
              " XGBClassifier(base_score=0.5, booster='gbtree', colsample_bylevel=1,\n",
              "               colsample_bynode=1, colsample_bytree=0.6, gamma=0.1, gpu_id=-1,\n",
              "               importance_type='gain', interaction_constraints='',\n",
              "               learning_rate=0.1, max_delta_step=0, max_depth=18,\n",
              "               min_child_weight=1, missing=nan, monotone_constraints='()',\n",
              "               n_estimators=1000, n_jobs=4, nthread=4, num_parallel_tree=1,\n",
              "               random_state=27, reg_alpha=0, reg_lambda=1, scale_pos_weight=1,\n",
              "               seed=27, subsample=0.9, tree_method='exact',\n",
              "               validate_parameters=1, verbosity=None),\n",
              " <catboost.core.CatBoostClassifier at 0x221004744c8>,\n",
              " LGBMClassifier(colsample_bytree=0.4946318706719163,\n",
              "                learning_rate=0.3170029409002925, max_depth=7,\n",
              "                min_child_weight=2.0, n_estimators=136, num_leaves=43,\n",
              "                reg_alpha=1.2000000000000002, reg_lambda=1.3087826920983168)]"
            ]
          },
          "execution_count": 123,
          "metadata": {
            "tags": []
          },
          "output_type": "execute_result"
        }
      ]
    },
    {
      "cell_type": "code",
      "metadata": {
        "id": "DmcoqB0K4k6f",
        "outputId": "d34a0c07-e375-4a49-9b8d-da43810ba3e2"
      },
      "source": [
        "%%time\n",
        "D2_X,D2_y = custom_model.create_meta_dataset(base_learners,X_train2_log,y_train2)"
      ],
      "execution_count": null,
      "outputs": [
        {
          "name": "stdout",
          "output_type": "stream",
          "text": [
            "[array([0, 0, 0, ..., 0, 0, 0]), array([0, 0, 0, ..., 0, 1, 0]), array([0, 0, 0, ..., 0, 0, 0]), array([0, 0, 0, ..., 0, 1, 0], dtype=int64), array([0, 0, 0, ..., 0, 0, 0])]\n",
            "Wall time: 2min 9s\n"
          ]
        }
      ]
    },
    {
      "cell_type": "code",
      "metadata": {
        "id": "Dn3KbOVC4k6f",
        "outputId": "51892803-9274-4948-8557-650a5d274fdc"
      },
      "source": [
        "D2_X.shape"
      ],
      "execution_count": null,
      "outputs": [
        {
          "data": {
            "text/plain": [
              "(675144, 5)"
            ]
          },
          "execution_count": 125,
          "metadata": {
            "tags": []
          },
          "output_type": "execute_result"
        }
      ]
    },
    {
      "cell_type": "code",
      "metadata": {
        "id": "05Y8ajR14k6f",
        "outputId": "e69fff64-3069-4f33-ced0-69f5d356a210"
      },
      "source": [
        "D2_y.shape"
      ],
      "execution_count": null,
      "outputs": [
        {
          "data": {
            "text/plain": [
              "(675144,)"
            ]
          },
          "execution_count": 126,
          "metadata": {
            "tags": []
          },
          "output_type": "execute_result"
        }
      ]
    },
    {
      "cell_type": "code",
      "metadata": {
        "id": "dpC3wqzK4k6f"
      },
      "source": [
        "# meta_model_final = custom_model.meta_model_fit(np.array(D2_X).reshape(-1,1) , np.array(D2_y).reshape(-1,1))"
      ],
      "execution_count": null,
      "outputs": []
    },
    {
      "cell_type": "code",
      "metadata": {
        "id": "AHx0V8Xf4k6f",
        "outputId": "fe9b8077-ba75-425d-fad6-85a104403bf3"
      },
      "source": [
        "%%time\n",
        "meta_model_final = custom_model.meta_model_fit(D2_X,D2_y)"
      ],
      "execution_count": null,
      "outputs": [
        {
          "name": "stdout",
          "output_type": "stream",
          "text": [
            "(675144,)\n",
            "[0 0 0 ... 0 0 0]\n",
            "[0 0 0 ... 0 1 0]\n",
            "ROC-AUC score after fitting meta model :  0.9090971191459583\n",
            "Wall time: 388 ms\n"
          ]
        }
      ]
    },
    {
      "cell_type": "code",
      "metadata": {
        "id": "tUv514aK4k6f"
      },
      "source": [
        "filename = 'CE_model.pkl'\n",
        "pickle.dump(meta_model_final, open(filename, 'wb'))"
      ],
      "execution_count": null,
      "outputs": []
    },
    {
      "cell_type": "code",
      "metadata": {
        "id": "JO_NnHs34k6g",
        "outputId": "92190036-46ab-49bb-a723-79b52514c0d4"
      },
      "source": [
        ""
      ],
      "execution_count": null,
      "outputs": [
        {
          "name": "stderr",
          "output_type": "stream",
          "text": [
            "'sudo' is not recognized as an internal or external command,\n",
            "operable program or batch file.\n"
          ]
        }
      ]
    },
    {
      "cell_type": "code",
      "metadata": {
        "id": "if1Ubc2d4k6g"
      },
      "source": [
        "filename = 'CE_model.pkl'\n",
        "\n",
        "modelCE = pickle.load(open(filename, 'rb'))"
      ],
      "execution_count": null,
      "outputs": []
    },
    {
      "cell_type": "code",
      "metadata": {
        "id": "-oLV1vHk4k6g"
      },
      "source": [
        "\n",
        "D2_X,D2_y = [] , []"
      ],
      "execution_count": null,
      "outputs": []
    },
    {
      "cell_type": "code",
      "metadata": {
        "id": "h7F9Mw-j4k6g",
        "outputId": "b9048ba6-59f4-435b-8084-9b8ecdaa574f"
      },
      "source": [
        "%%time\n",
        "test_X,test_y = custom_model.create_meta_dataset(base_learners,X_test_log,y_test)"
      ],
      "execution_count": null,
      "outputs": [
        {
          "name": "stdout",
          "output_type": "stream",
          "text": [
            "[array([0, 0, 0, ..., 0, 0, 0]), array([1, 0, 0, ..., 0, 0, 0]), array([0, 0, 0, ..., 0, 0, 0]), array([1, 0, 0, ..., 0, 0, 0], dtype=int64), array([0, 0, 0, ..., 0, 0, 0])]\n",
            "Wall time: 1min 6s\n"
          ]
        }
      ]
    },
    {
      "cell_type": "code",
      "metadata": {
        "id": "8wWdZQsb4k6g",
        "outputId": "f4229510-eccc-4532-b561-ca62d3dcece9"
      },
      "source": [
        "test_X.shape"
      ],
      "execution_count": null,
      "outputs": [
        {
          "data": {
            "text/plain": [
              "(337572, 5)"
            ]
          },
          "execution_count": 132,
          "metadata": {
            "tags": []
          },
          "output_type": "execute_result"
        }
      ]
    },
    {
      "cell_type": "code",
      "metadata": {
        "colab": {
          "base_uri": "https://localhost:8080/",
          "height": 330
        },
        "id": "Mk8wl75e4k6g",
        "outputId": "8d1aa9f3-7a7e-4208-d4c5-c8b26f43fefa"
      },
      "source": [
        "%%time\n",
        "lr_probs = modelCE.predict_proba(test_X)\n",
        "lr_probs = lr_probs[:, 1]\n",
        "lr_auc = roc_auc_score(test_y, lr_probs)\n",
        "print('CE: ROC AUC=%.3f' % (lr_auc))\n",
        "lr_fpr, lr_tpr, _ = roc_curve(test_y, lr_probs)\n",
        "pyplot.plot(lr_fpr, lr_tpr, marker='.', label='CE')\n",
        "pyplot.xlabel('False Positive Rate')\n",
        "pyplot.ylabel('True Positive Rate')\n",
        "pyplot.legend()\n",
        "pyplot.show()"
      ],
      "execution_count": null,
      "outputs": [
        {
          "name": "stdout",
          "output_type": "stream",
          "text": [
            "CE: ROC AUC=0.942\n"
          ]
        },
        {
          "data": {
            "image/png": "[encoded data removed]",
            "text/plain": [
              "<Figure size 432x288 with 1 Axes>"
            ]
          },
          "metadata": {
            "tags": []
          },
          "output_type": "display_data"
        },
        {
          "name": "stdout",
          "output_type": "stream",
          "text": [
            "Wall time: 189 ms\n"
          ]
        }
      ]
    },
    {
      "cell_type": "code",
      "metadata": {
        "id": "S2_RTSll4k6g"
      },
      "source": [
        ""
      ],
      "execution_count": null,
      "outputs": []
    },
    {
      "cell_type": "code",
      "metadata": {
        "colab": {
          "base_uri": "https://localhost:8080/",
          "height": 330
        },
        "id": "8aoNwz694k6h",
        "outputId": "75c93283-3843-4a9c-d742-0cad6ca635ec"
      },
      "source": [
        "%%time\n",
        "lr_probs = modelCE.predict_proba(test_X)\n",
        "lr_probs = lr_probs[:, 1]\n",
        "yhat = modelCE.predict(test_X)\n",
        "lr_precision, lr_recall, _ = precision_recall_curve(test_y, lr_probs)\n",
        "lr_f1, lr_auc = f1_score(test_y, yhat), auc(lr_recall, lr_precision)\n",
        "print('CE: f1=%.3f auc=%.3f' % (lr_f1, lr_auc))\n",
        "# no_skill = len(test_y[test_y==1]) / len(test_y)\n",
        "# pyplot.plot([0, 1], [no_skill, no_skill], linestyle='--', label='No Skill')\n",
        "pyplot.plot(lr_recall, lr_precision, marker='.', label='CE')\n",
        "pyplot.xlabel('Recall')\n",
        "pyplot.ylabel('Precision')\n",
        "pyplot.legend()\n",
        "pyplot.show()"
      ],
      "execution_count": null,
      "outputs": [
        {
          "name": "stdout",
          "output_type": "stream",
          "text": [
            "CE: f1=0.108 auc=0.198\n"
          ]
        },
        {
          "data": {
            "image/png": "[encoded data removed]",
            "text/plain": [
              "<Figure size 432x288 with 1 Axes>"
            ]
          },
          "metadata": {
            "tags": []
          },
          "output_type": "display_data"
        },
        {
          "name": "stdout",
          "output_type": "stream",
          "text": [
            "Wall time: 223 ms\n"
          ]
        }
      ]
    },
    {
      "cell_type": "code",
      "metadata": {
        "id": "Ix3rSYVa4k6h"
      },
      "source": [
        ""
      ],
      "execution_count": null,
      "outputs": []
    },
    {
      "cell_type": "markdown",
      "metadata": {
        "id": "Yftml4nriqE_"
      },
      "source": [
        "## Model Results"
      ]
    },
    {
      "cell_type": "code",
      "metadata": {
        "colab": {
          "base_uri": "https://localhost:8080/"
        },
        "id": "Au6L9ykHMzLe",
        "outputId": "eaf877fe-394d-4b86-f6a3-efe16ce14cf1"
      },
      "source": [
        "from prettytable import PrettyTable\n",
        "\n",
        "\n",
        "x = PrettyTable()\n",
        "x.field_names = [\"Model\", \"ROC AUC(Test)\", \" Pr-Re AUC(Test)\"]\n",
        "\n",
        "x.add_row([\"Logistic Regression On RAW Data(Base model)\",0.671,0.016 ])\n",
        "x.add_row([\"Logistic Regression On SMOTE Data\",0.812,0.052 ])\n",
        "x.add_row([\"Logistic Regression With LOG transform\",0.921,0.152 ])\n",
        "x.add_row([\"BLAG\",0.971,0.328 ])\n",
        "x.add_row([\"RF With Balanced Sub sample\",0.917,0.141 ])\n",
        "x.add_row([\"GassiuanNB\",0.882,0.076 ])\n",
        "x.add_row([\"LGBM\",0.962,0.309 ])\n",
        "x.add_row([\"DT\",0.931,0.208 ])\n",
        "x.add_row([\"Custom Ensemble 1\",0.942,0.198 ])\n",
        "\n",
        "\n",
        "print(x)"
      ],
      "execution_count": 67,
      "outputs": [
        {
          "output_type": "stream",
          "name": "stdout",
          "text": [
            "+---------------------------------------------+---------------+------------------+\n",
            "|                    Model                    | ROC AUC(Test) |  Pr-Re AUC(Test) |\n",
            "+---------------------------------------------+---------------+------------------+\n",
            "| Logistic Regression On RAW Data(Base model) |     0.671     |      0.016       |\n",
            "|      Logistic Regression On SMOTE Data      |     0.812     |      0.052       |\n",
            "|    Logistic Regression With LOG transform   |     0.921     |      0.152       |\n",
            "|                     BLAG                    |     0.971     |      0.328       |\n",
            "|         RF With Balanced Sub sample         |     0.917     |      0.141       |\n",
            "|                  GassiuanNB                 |     0.882     |      0.076       |\n",
            "|                     LGBM                    |     0.962     |      0.309       |\n",
            "|                      DT                     |     0.931     |      0.208       |\n",
            "|              Custom Ensemble 1              |     0.942     |      0.198       |\n",
            "+---------------------------------------------+---------------+------------------+\n"
          ]
        }
      ]
    },
    {
      "cell_type": "markdown",
      "metadata": {
        "id": "ZOnhF0ms4k6k"
      },
      "source": [
        "## Conclusion"
      ]
    },
    {
      "cell_type": "markdown",
      "metadata": {
        "id": "GPDq4i0oQdi-"
      },
      "source": [
        "From all the model performances BLAG scored better with LOG trasformation data than the other models in Pe-Re AUC score."
      ]
    }
  ]
}